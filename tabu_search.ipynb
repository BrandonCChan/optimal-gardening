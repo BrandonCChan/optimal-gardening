{
 "cells": [
  {
   "cell_type": "markdown",
   "metadata": {},
   "source": [
    "# Process\n",
    "- Decide solution representation\n",
    "- Initialize a solution\n",
    "- Decide a neighborhood generation method and generate neighbors\n",
    "- Decide Tabu list = list the forbidden swaps from a fixed number of previous moves (usually between 5 and 9 swaps for large problems), too few will result in cycling and too many may be unduly constrained. \n",
    "- Decide Tabu tenure of a move = number of iterations for which a move is forbidden\n",
    "- Decide the stopping criteria\n",
    "- You can have different memory lengths for your tabu lists\n",
    "- you can keep an account of the frequency of best solutions that you keep coming back to. That allows you to search around the neighborhood of that solution you keep coming back to. "
   ]
  },
  {
   "cell_type": "markdown",
   "metadata": {},
   "source": [
    "# Example\n"
   ]
  },
  {
   "cell_type": "code",
   "execution_count": null,
   "metadata": {},
   "outputs": [],
   "source": []
  }
 ],
 "metadata": {
  "kernelspec": {
   "display_name": "Python 3",
   "language": "python",
   "name": "python3"
  },
  "language_info": {
   "codemirror_mode": {
    "name": "ipython",
    "version": 3
   },
   "file_extension": ".py",
   "mimetype": "text/x-python",
   "name": "python",
   "nbconvert_exporter": "python",
   "pygments_lexer": "ipython3",
   "version": "3.7.9"
  }
 },
 "nbformat": 4,
 "nbformat_minor": 4
}
