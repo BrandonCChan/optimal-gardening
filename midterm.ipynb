{
 "cells": [
  {
   "cell_type": "markdown",
   "metadata": {},
   "source": [
    "# Midterm\n",
    "## Evan Lynch"
   ]
  },
  {
   "cell_type": "code",
   "execution_count": 1,
   "metadata": {},
   "outputs": [],
   "source": [
    "import numpy as np\n",
    "import random\n",
    "import itertools"
   ]
  },
  {
   "cell_type": "markdown",
   "metadata": {
    "collapsed": "true"
   },
   "source": [
    "### 1. "
   ]
  },
  {
   "attachments": {
    "81e8674a-b5ec-473d-a819-b6841e9dc631.png": {
     "image/png": "[encoded data removed]"
    }
   },
   "cell_type": "markdown",
   "metadata": {},
   "source": [
    "- Find a solution using Tabu search. \n",
    "- Compare the solution (number of steps to reach solution) with that solved in class.\n",
    "- Tabu list – last three moves cannot be swapped again. \n",
    "- Initial solution 2143.\n",
    "\n",
    "![image.png](attachment:81e8674a-b5ec-473d-a819-b6841e9dc631.png)"
   ]
  },
  {
   "cell_type": "code",
   "execution_count": 2,
   "metadata": {},
   "outputs": [
    {
     "name": "stdout",
     "output_type": "stream",
     "text": [
      "best solution found: [4 1 2 3]\n",
      "lowest weighted tardiness found: 344\n",
      "it took 21 iterations to reach the best solution found, compared to 5 in the Excel\n"
     ]
    }
   ],
   "source": [
    "#matrix representation of the processing times, due dates , and weights for each job j\n",
    "jobs_matrix = np.array([[10,10,13,4],[4,2,1,12],[14,12,1,12]])\n",
    "p = jobs_matrix[0]\n",
    "d = jobs_matrix[1]\n",
    "w = jobs_matrix[2]\n",
    "\n",
    "def make_neighbor(current_solution,tabu_list):\n",
    "    \"\"\"Finds a valid neighboring solution\"\"\"\n",
    "    invalid_neighbor = True\n",
    "    while invalid_neighbor == True:\n",
    "        #swap two jobs in the sequence\n",
    "        swaps = np.random.choice(np.indices([4])[0],2,replace=False)\n",
    "        swap1 = swaps[0]\n",
    "        swap2 = swaps[1]\n",
    "        current_solution[swap1],current_solution[swap2] = current_solution[swap2], current_solution[swap1]\n",
    "        invalid_neighbor = any([all(current_solution==tabu) for tabu in tabu_list])\n",
    "        if invalid_neighbor==False:\n",
    "            neighbor = current_solution\n",
    "    return neighbor\n",
    "\n",
    "def update_tabu_list(tabu_list,current_solution):\n",
    "    \"\"\"Keeps the tabu list updated\"\"\"\n",
    "    #place the current solution as the last solution in the list\n",
    "    tabu_list = np.concatenate((tabu_list,[current_solution]),axis=0)\n",
    "    #remove the first solution in the list   \n",
    "    tabu_list = np.delete(tabu_list,0,axis=0)\n",
    "    return tabu_list\n",
    "\n",
    "def weighted_tardiness(p,d,w,solution):\n",
    "    \"\"\"Calculates the objective\"\"\"\n",
    "    #calculate the completion times\n",
    "    current_day = 0\n",
    "    c = [0,0,0,0]\n",
    "    for j in solution:\n",
    "        j=j-1\n",
    "        c[j] = current_day+p[j]\n",
    "        current_day+=p[j]\n",
    "    #compare completion times with the due dates to see how tardy the jobs are\n",
    "    t = c-d\n",
    "    #calculate the weighted tardiness\n",
    "    WT = np.dot(w,t)  \n",
    "    return WT\n",
    "\n",
    "def tabu_search(solution,p,d,w,tabu_list,max_iterations=200):\n",
    "    \"\"\"Performs the tabu search heuristic\"\"\"\n",
    "    best_solution = None\n",
    "    best_solution_WT = 1000\n",
    "    iteration = 0\n",
    "    while iteration<max_iterations:\n",
    "        #make a neighboring solution\n",
    "        solution = make_neighbor(solution,tabu_list)\n",
    "        #evaluate the objective\n",
    "        WT = weighted_tardiness(p,d,w,solution)\n",
    "        #possibly update best_solution\n",
    "        if WT<best_solution_WT:\n",
    "            best_solution = solution.copy()\n",
    "            best_solution_WT = WT\n",
    "            iterations_to_reach_best = iteration\n",
    "\n",
    "        #update the tabu list\n",
    "        tabu_list = update_tabu_list(tabu_list,solution)\n",
    "        \n",
    "        #update iteration_counter\n",
    "        iteration+=1\n",
    "    return best_solution,best_solution_WT,tabu_list,iterations_to_reach_best\n",
    "\n",
    "#initial solution and tabu list\n",
    "solution = np.array([2,1,4,3])\n",
    "tabu_list = np.zeros(shape=(3,4)) \n",
    "\n",
    "#run tabu search\n",
    "best_solution,best_solution_WT,tabu_list,iterations_to_reach_best = tabu_search(solution,p,d,w,tabu_list)\n",
    "\n",
    "print('best solution found:',best_solution)\n",
    "print('lowest weighted tardiness found:',best_solution_WT)\n",
    "print(f'it took {iterations_to_reach_best} iterations to reach the best solution found, compared to 5 in the Excel')"
   ]
  },
  {
   "cell_type": "markdown",
   "metadata": {
    "collapsed": "true"
   },
   "source": [
    "### 2. "
   ]
  },
  {
   "cell_type": "markdown",
   "metadata": {},
   "source": [
    "- Minimize the function below using a binary representation of length 5. \n",
    "- Initial solution 00011. \n",
    "- Use Tabu search with Tabu list of length 2\n",
    "- **! Assumption: using base 2**\n",
    "$$ y^2-30ycos(50y)+20ysin(70y) $$"
   ]
  },
  {
   "cell_type": "code",
   "execution_count": 2,
   "metadata": {},
   "outputs": [
    {
     "name": "stdout",
     "output_type": "stream",
     "text": [
      "best solution found (using base 2): 11010 or 26\n",
      "min objective found: -401.6267591080921\n"
     ]
    }
   ],
   "source": [
    "def calculate_objective(y):\n",
    "    objective = (y**2)-(30*y*np.cos(50*y))+(20*y*np.sin(70*y))\n",
    "    return objective\n",
    "\n",
    "# def make_neighbor(current_solution,tabu_list):\n",
    "#     \"\"\"Finds a valid neighboring solution\"\"\"\n",
    "#     invalid_neighbor = True\n",
    "#     while invalid_neighbor == True:\n",
    "#         #swap two positions in the sequence\n",
    "#         swaps = np.random.choice(np.indices([5])[0],2,replace=False)\n",
    "#         swap1 = swaps[0]\n",
    "#         swap2 = swaps[1]\n",
    "#         current_solution = list(current_solution)\n",
    "#         current_solution[swap1],current_solution[swap2] = current_solution[swap2], current_solution[swap1]\n",
    "#         current_solution = ''.join(current_solution)\n",
    "#         invalid_neighbor = any([current_solution==tabu for tabu in tabu_list])\n",
    "#         if invalid_neighbor==False:\n",
    "#             neighbor = current_solution\n",
    "#     return neighbor\n",
    "\n",
    "def make_neighbor(current_solution,tabu_list):\n",
    "    \"\"\"Finds a valid neighboring solution\"\"\"\n",
    "    invalid_neighbor = True\n",
    "    while invalid_neighbor == True:\n",
    "        index = np.random.choice(np.indices([5])[0],1,replace=False)[0]\n",
    "        current_solution = list(current_solution)\n",
    "        current_solution[index] = str(1) if current_solution[index]==str(0) else str(0)\n",
    "        current_solution = ''.join(current_solution)\n",
    "        invalid_neighbor = any([current_solution==tabu for tabu in tabu_list])\n",
    "        if invalid_neighbor==False:\n",
    "            neighbor = current_solution\n",
    "    return neighbor\n",
    "\n",
    "def update_tabu_list(tabu_list,current_solution):\n",
    "    \"\"\"Keeps the tabu list updated\"\"\"\n",
    "    #place the current solution as the last solution in the list\n",
    "    tabu_list.append(current_solution)\n",
    "    #remove the first solution in the list  \n",
    "    del tabu_list[0]\n",
    "    return tabu_list\n",
    "\n",
    "def tabu_search(y,tabu_list,max_iterations=400):\n",
    "    \"\"\"Performs the tabu search heuristic\"\"\"\n",
    "    best_solution_bin = initial_solution\n",
    "    best_solution = int(best_solution_bin,base=bin_base)\n",
    "    best_solution_obj = calculate_objective(int(initial_solution,base=bin_base))\n",
    "    tabu_list = update_tabu_list(tabu_list,initial_solution)\n",
    "    y_bin = initial_solution\n",
    "    iteration = 0\n",
    "    while iteration<max_iterations:\n",
    "        #make a neighboring solution\n",
    "        y_bin = make_neighbor(y_bin,tabu_list)\n",
    "        y = int(y_bin,base=bin_base)\n",
    "        #evaluate the objective\n",
    "        obj = calculate_objective(y)\n",
    "        #possibly update best_solution\n",
    "        if obj<best_solution_obj:\n",
    "            best_solution_bin = y_bin\n",
    "            best_solution = y\n",
    "            best_solution_obj = obj\n",
    "            iterations_to_reach_best = iteration\n",
    "\n",
    "        #update the tabu list\n",
    "        tabu_list = update_tabu_list(tabu_list,y_bin)\n",
    "        \n",
    "        #update iteration_counter\n",
    "        iteration+=1\n",
    "    return best_solution_bin,best_solution,best_solution_obj,tabu_list\n",
    "\n",
    "#initial solution and tabu list\n",
    "initial_solution = '00011'\n",
    "tabu_list = ['','']\n",
    "bin_base = 2\n",
    "\n",
    "#run tabu search\n",
    "best_solution_bin,best_solution,best_objective,tabu_list = tabu_search(initial_solution,tabu_list)\n",
    "\n",
    "print('best solution found (using base 2):',best_solution_bin,'or',best_solution)\n",
    "print('min objective found:',best_objective)"
   ]
  },
  {
   "cell_type": "markdown",
   "metadata": {
    "collapsed": "true"
   },
   "source": [
    "### 3. "
   ]
  },
  {
   "cell_type": "markdown",
   "metadata": {},
   "source": [
    "- Solve problem 2 with simulated annealing. Use initial temperature 100 and 500. \n",
    "- Use 0.9 cooling rate between iterations."
   ]
  },
  {
   "cell_type": "code",
   "execution_count": 3,
   "metadata": {},
   "outputs": [
    {
     "name": "stdout",
     "output_type": "stream",
     "text": [
      "starting temp = 100\n",
      "best solution found (using base 2): 11010 or 26\n",
      "min objective found: -401.6267591080921\n",
      "\n",
      "starting temp = 500\n",
      "best solution found (using base 2): 10100 or 20\n",
      "min objective found: -302.58586121907774\n"
     ]
    }
   ],
   "source": [
    "def calculate_objective(y):\n",
    "    objective = (y**2)-(30*y*np.cos(50*y))+(20*y*np.sin(70*y))\n",
    "    return objective\n",
    "\n",
    "def make_neighbor(current_solution):\n",
    "    \"\"\"Finds a neighboring solution\"\"\"\n",
    "    index = np.random.choice(np.indices([5])[0],1,replace=False)[0]\n",
    "    current_solution = list(current_solution)\n",
    "    current_solution[index] = str(1) if current_solution[index]==str(0) else str(0)\n",
    "    neighbor = ''.join(current_solution)\n",
    "    return neighbor\n",
    "\n",
    "def simulated_annealing(starting_temperature,initial_solution, alpha=0.90,epsilon=0.000000000000001):\n",
    "    best_solution_bin = initial_solution\n",
    "    best_solution = int(best_solution_bin,base=bin_base)\n",
    "    best_solution_obj = calculate_objective(int(initial_solution,base=bin_base))\n",
    "    y_bin = initial_solution\n",
    "    temperature = starting_temperature\n",
    "\n",
    "    current_solution_bin = initial_solution  \n",
    "    current_solution = int(current_solution_bin,base=bin_base)\n",
    "    current_objective = calculate_objective(current_solution)\n",
    "    neighbors = []\n",
    "    while temperature >= epsilon:        \n",
    "        #make a neighboring solution and evaluate its objective\n",
    "        new_y_bin = make_neighbor(current_solution_bin)\n",
    "        new_y = int(new_y_bin,base=bin_base)\n",
    "        neighbors.append(new_y)\n",
    "        new_obj = calculate_objective(new_y)\n",
    "        \n",
    "        #possibly update best_solution\n",
    "        if new_obj<best_solution_obj:\n",
    "            best_solution_bin = new_y_bin\n",
    "            best_solution = new_y\n",
    "            best_solution_obj = new_obj\n",
    "            \n",
    "        ### accept the new assignments if the solution is improved or the probability threshold is met ###\n",
    "        if new_obj < current_objective or np.exp(-(new_obj - current_objective) / temperature) > random.random():\n",
    "            current_solution_bin = new_y_bin\n",
    "            current_solution = new_y\n",
    "            current_objective = new_obj\n",
    "           \n",
    "        ### lower the temperature ###\n",
    "        temperature = temperature * alpha\n",
    "    return (best_solution,best_solution_bin, best_solution_obj) \n",
    "bin_base = 2\n",
    "\n",
    "best_solution,best_solution_bin, best_objective = simulated_annealing(100,initial_solution='00011')\n",
    "print('starting temp = 100')\n",
    "print('best solution found (using base 2):',best_solution_bin,'or',best_solution)\n",
    "print('min objective found:',best_objective)\n",
    "print()\n",
    "\n",
    "best_solution,best_solution_bin, best_objective = simulated_annealing(500,initial_solution='00011')\n",
    "\n",
    "print('starting temp = 500')\n",
    "print('best solution found (using base 2):',best_solution_bin,'or',best_solution)\n",
    "print('min objective found:',best_objective)"
   ]
  },
  {
   "cell_type": "markdown",
   "metadata": {
    "collapsed": "true"
   },
   "source": [
    "### 4. "
   ]
  },
  {
   "attachments": {
    "81448a4b-de5e-4788-a0a9-54d699937930.png": {
     "image/png": "[encoded data removed]"
    }
   },
   "cell_type": "markdown",
   "metadata": {},
   "source": [
    "Solve the assignment problem. 4 jobs and 4 machines. Each job must go on to a machine. Objective is to minimize total set up time. Table below gives setup times. Initial solution job 4213 to machine 1 2 3 4. Use any search method.\n",
    "\n",
    "![image.png](attachment:81448a4b-de5e-4788-a0a9-54d699937930.png)"
   ]
  },
  {
   "cell_type": "code",
   "execution_count": 2,
   "metadata": {},
   "outputs": [],
   "source": [
    "setup_times = np.array([[14,5,8,7],\n",
    "                        [2,12,6,5],\n",
    "                        [7,8,3,9],\n",
    "                        [2,4,6,10]])"
   ]
  },
  {
   "cell_type": "code",
   "execution_count": 3,
   "metadata": {},
   "outputs": [
    {
     "name": "stdout",
     "output_type": "stream",
     "text": [
      "best solution found:\n",
      "[[0 1]\n",
      " [1 3]\n",
      " [2 2]\n",
      " [3 0]]\n",
      "\n",
      "min objective found: 15\n"
     ]
    }
   ],
   "source": [
    "#using Simulated Annealing\n",
    "def calc_total_setup_time(current_solution,setup_times):\n",
    "    total_setup = 0\n",
    "    for assignment in current_solution:\n",
    "        total_setup+=setup_times[assignment[0],assignment[1]]\n",
    "    return total_setup\n",
    "\n",
    "def make_neighbor(current_solution):\n",
    "    machineFlips = np.random.choice(np.indices([4])[0],2,replace=False)\n",
    "    jobFlip1 = current_solution[machineFlips[0]][1]\n",
    "    jobFlip2 = current_solution[machineFlips[1]][1]\n",
    "    neighbor = current_solution.copy()\n",
    "    neighbor[machineFlips[0]][1] = jobFlip2\n",
    "    neighbor[machineFlips[1]][1] = jobFlip1\n",
    "    return neighbor\n",
    "\n",
    "def simulated_annealing(starting_temperature,initial_solution, alpha=0.90,epsilon=0.000000000000001):\n",
    "    best_solution = initial_solution.copy()\n",
    "    best_solution_obj = calc_total_setup_time(best_solution,setup_times)\n",
    "    temperature = starting_temperature\n",
    "\n",
    "    current_solution = initial_solution.copy()\n",
    "    current_objective = calc_total_setup_time(current_solution,setup_times)\n",
    "    while temperature >= epsilon:        \n",
    "        #make a neighboring solution and evaluate its objective\n",
    "        new_solution = make_neighbor(current_solution)\n",
    "        new_obj = calc_total_setup_time(new_solution,setup_times)\n",
    "        #possibly update best_solution\n",
    "        if new_obj<best_solution_obj:\n",
    "            best_solution = new_solution\n",
    "            best_solution_obj = new_obj\n",
    "            \n",
    "        ### accept the new assignments if the solution is improved or the probability threshold is met ###\n",
    "        if new_obj < current_objective or np.exp(-(new_obj - current_objective) / temperature) > random.random():\n",
    "            current_solution = new_solution\n",
    "            current_objective = new_obj\n",
    "           \n",
    "        ### lower the temperature ###\n",
    "        temperature = temperature * alpha\n",
    "    return (best_solution, best_solution_obj) \n",
    "\n",
    "best_solution, best_objective = simulated_annealing(100,initial_solution=np.array([(0,3),(1,1),(2,0),(3,2)]))\n",
    "print('best solution found:')\n",
    "print(best_solution)\n",
    "print()\n",
    "print('min objective found:',best_objective)"
   ]
  },
  {
   "cell_type": "markdown",
   "metadata": {
    "collapsed": "true"
   },
   "source": [
    "### 5."
   ]
  },
  {
   "attachments": {
    "fe9c7e40-0e05-4969-b801-b9874401b27b.png": {
     "image/png": "[encoded data removed]"
    }
   },
   "cell_type": "markdown",
   "metadata": {},
   "source": [
    "- For a 2 machine flow shop (jobs flow from machine 1 to 2), and total weighted tardiness as the objective to be minimized, find a schedule. \n",
    "- Apply the ATC heuristic with K=1\n",
    "- Apply any local search. \n",
    "- Compare your answers with ATC.\n",
    "\n",
    "![image.png](attachment:fe9c7e40-0e05-4969-b801-b9874401b27b.png)"
   ]
  },
  {
   "cell_type": "markdown",
   "metadata": {},
   "source": [
    "#### ATC heuristic "
   ]
  },
  {
   "cell_type": "code",
   "execution_count": 2,
   "metadata": {},
   "outputs": [],
   "source": [
    "#matrix representation of the processing times, due dates , and weights for each job j\n",
    "jobs_matrix = np.array([[13,9,13,10,8],[6,18,10,11,13],[2,4,2,5,4]])\n",
    "p = jobs_matrix[0]\n",
    "d = jobs_matrix[1]\n",
    "w = jobs_matrix[2]\n",
    "\n",
    "K=1\n",
    "remaining_jobs = [0,1,2,3,4]\n",
    "atc_solution = []\n",
    "\n",
    "#stuff i'm using for computing t\n",
    "t=0\n",
    "completion_time = [0,0,0,0,0] \n",
    "current_time_M1 = 0\n",
    "cumulative_delta = 0\n",
    "\n",
    "def select_next_job(remaining_jobs,p,w,K,t,current_time_M1,cumulative_delta,completion_time):\n",
    "    #calculate the Index\n",
    "    Index = {}\n",
    "    for j in remaining_jobs:\n",
    "        pBar = np.mean([p[j] for j in remaining_jobs])\n",
    "        Index[j] = (w[j]/p[j])*np.exp(-(max(d[j]-p[j]-t,0)/K*pBar))\n",
    "       \n",
    "    highest_index = max(Index, key=Index.get)\n",
    "    del Index[highest_index]\n",
    "    \n",
    "    #remove j from remaining jobs\n",
    "    remaining_jobs.remove(highest_index)\n",
    "    #add j to solution\n",
    "    atc_solution.append(highest_index)\n",
    "    \n",
    "    #update time\n",
    "    for i in atc_solution:\n",
    "        i=i-1\n",
    "        completion_time[i] = 2*p[i]+current_time_M1\n",
    "        try:\n",
    "            delta = previous_p-p[i]\n",
    "            cumulative_delta+=delta\n",
    "            completion_time[i]+=cumulative_delta    \n",
    "        except:\n",
    "            None\n",
    "        previous_p = p[i].copy()       \n",
    "        current_time_M1 += p[i]\n",
    "    t = max(completion_time)\n",
    "    return None\n",
    "    \n",
    "while len(remaining_jobs)>0:\n",
    "    select_next_job(remaining_jobs,p,w,K,t,current_time_M1,cumulative_delta,completion_time)\n",
    "\n",
    "#show job number instead of index number\n",
    "atc_solution = [j+1 for j in atc_solution]"
   ]
  },
  {
   "cell_type": "markdown",
   "metadata": {},
   "source": [
    "#### Tabu Search"
   ]
  },
  {
   "cell_type": "code",
   "execution_count": 3,
   "metadata": {},
   "outputs": [],
   "source": [
    "#matrix representation of the processing times, due dates , and weights for each job j\n",
    "jobs_matrix = np.array([[13,9,13,10,8],[6,18,10,11,13],[2,4,2,5,4]])\n",
    "p = jobs_matrix[0]\n",
    "d = jobs_matrix[1]\n",
    "w = jobs_matrix[2]\n",
    "\n",
    "def make_neighbor(current_solution,tabu_list):\n",
    "    \"\"\"Finds a valid neighboring solution\"\"\"\n",
    "    invalid_neighbor = True\n",
    "    while invalid_neighbor == True:\n",
    "        #swap two jobs in the sequence\n",
    "        swaps = np.random.choice(np.indices([5])[0],2,replace=False)\n",
    "        swap1 = swaps[0]\n",
    "        swap2 = swaps[1]\n",
    "        current_solution[swap1],current_solution[swap2] = current_solution[swap2], current_solution[swap1]\n",
    "        invalid_neighbor = any([all(current_solution==tabu) for tabu in tabu_list])\n",
    "        if invalid_neighbor==False:\n",
    "            neighbor = current_solution\n",
    "    return neighbor\n",
    "\n",
    "def update_tabu_list(tabu_list,current_solution):\n",
    "    \"\"\"Keeps the tabu list updated\"\"\"\n",
    "    #place the current solution as the last solution in the list\n",
    "    tabu_list = np.concatenate((tabu_list,[current_solution]),axis=0)\n",
    "    #remove the first solution in the list   \n",
    "    tabu_list = np.delete(tabu_list,0,axis=0)\n",
    "    return tabu_list\n",
    "\n",
    "def weighted_tardiness(p,d,w,solution):\n",
    "    \"\"\"Calculates the objective for flow shop\"\"\"\n",
    "    #calculate the completion times\n",
    "    completion_time = [0,0,0,0,0]\n",
    "    current_time_M1 = 0\n",
    "    cumulative_delta = 0\n",
    "    for j in solution:\n",
    "        j=j-1\n",
    "        completion_time[j] = 2*p[j]+current_time_M1\n",
    "        try:\n",
    "            delta = previous_p-p[j]\n",
    "            cumulative_delta+=delta\n",
    "            completion_time[j]+=cumulative_delta    \n",
    "        except:\n",
    "            None\n",
    "        previous_p = p[j].copy()       \n",
    "        current_time_M1 += p[j]\n",
    "    #compare completion times with the due dates to see how tardy the jobs are\n",
    "    t = completion_time-d\n",
    "    #calculate the weighted tardiness\n",
    "    WT = np.dot(w,t)  \n",
    "    return WT\n",
    "\n",
    "def tabu_search(solution,p,d,w,tabu_list,max_iterations=10000):\n",
    "    \"\"\"Performs the tabu search heuristic\"\"\"\n",
    "    best_solution = None\n",
    "    best_solution_WT = 1000\n",
    "    iteration = 0\n",
    "    while iteration<max_iterations:\n",
    "        #make a neighboring solution\n",
    "        solution = make_neighbor(solution,tabu_list)\n",
    "        #evaluate the objective\n",
    "        WT = weighted_tardiness(p,d,w,solution)\n",
    "        #possibly update best_solution\n",
    "        if WT<best_solution_WT:\n",
    "            best_solution = solution.copy()\n",
    "            best_solution_WT = WT\n",
    "            iterations_to_reach_best = iteration\n",
    "\n",
    "        #update the tabu list\n",
    "        tabu_list = update_tabu_list(tabu_list,solution)\n",
    "        \n",
    "        #update iteration_counter\n",
    "        iteration+=1\n",
    "    return best_solution,best_solution_WT,tabu_list,iterations_to_reach_best\n",
    "\n",
    "#initial solution and tabu list\n",
    "solution = np.array([1,2,3,4,5])\n",
    "tabu_list = np.zeros(shape=(3,5)) \n",
    "\n",
    "#run tabu search\n",
    "best_solution,best_solution_WT,tabu_list,iterations_to_reach_best = tabu_search(solution,p,d,w,tabu_list)"
   ]
  },
  {
   "cell_type": "markdown",
   "metadata": {},
   "source": [
    "#### Comparison"
   ]
  },
  {
   "cell_type": "code",
   "execution_count": 4,
   "metadata": {},
   "outputs": [
    {
     "name": "stdout",
     "output_type": "stream",
     "text": [
      "ATC Solution: [1, 3, 4, 5, 2] Total Weighted Tardiness: 656\n",
      "Tabu Search Solution: [5 4 2 1 3] Total Weighted Tardiness: 341\n"
     ]
    }
   ],
   "source": [
    "print('ATC Solution:',atc_solution,'Total Weighted Tardiness:',weighted_tardiness(p,d,w,atc_solution))\n",
    "print('Tabu Search Solution:',best_solution,'Total Weighted Tardiness:',best_solution_WT)"
   ]
  },
  {
   "cell_type": "markdown",
   "metadata": {
    "collapsed": "true"
   },
   "source": [
    "### 6. "
   ]
  },
  {
   "attachments": {
    "cd43d58f-c661-44a6-b911-386a79ddf325.png": {
     "image/png": "[encoded data removed]"
    }
   },
   "cell_type": "markdown",
   "metadata": {},
   "source": [
    "- Apply the shifting bottleneck heuristics with and without resequencing, and  with the objective to minimize maximum completion time. \n",
    "\n",
    "![image.png](attachment:cd43d58f-c661-44a6-b911-386a79ddf325.png)\n",
    "\n",
    "- Draw the Gantt chart\n",
    "\n"
   ]
  },
  {
   "cell_type": "markdown",
   "metadata": {},
   "source": [
    "#### This is some code that I wrote before switching over to Excel. It was getting too time consuming to write all the code for each step."
   ]
  },
  {
   "cell_type": "code",
   "execution_count": null,
   "metadata": {},
   "outputs": [],
   "source": [
    "#i=machine, j=job\n",
    "P = np.array([[9,8,4,4],\n",
    "              [5,6,3,6],\n",
    "              [10,4,9,2]])\n",
    "\n",
    "#get all possible sequencing of jobs for each machine\n",
    "machines = [0,1,2,3]\n",
    "jobs = [0,1,2]\n",
    "machine_sequences = {\n",
    "    0:[0,1,2],\n",
    "    1:[1,0,3,2],\n",
    "    2:[0,1,3],\n",
    "}\n",
    "jobs_on_machine = {\n",
    "    0:[],\n",
    "    1:[],\n",
    "    2:[],\n",
    "    3:[]\n",
    "}\n",
    "for machine in machines:\n",
    "    for job in machine_sequences:\n",
    "        if machine in machine_sequences[job]:\n",
    "            jobs_on_machine[machine].append(job)         \n",
    "            \n",
    "possible_sequences = {}\n",
    "for machine in machines:\n",
    "    possible_sequences[machine] = list(itertools.permutations(jobs_on_machine[machine]))\n",
    "    \n",
    "def get_Lmax(machine):\n",
    "    Lmax = {}\n",
    "    \n",
    "    for sequence in possible_sequences[machine]:\n",
    "        completion_times = []\n",
    "        current_time = 0\n",
    "        for job in sequence:#possible_sequences[machine][sequence]:\n",
    "            completion_time = current_time+processing_times[job]\n",
    "            if release_dates[job]>current_time:\n",
    "                completion_time += release_dates[job]-current_time\n",
    "            completion_times.append(completion_time)\n",
    "            current_time=completion_time\n",
    "\n",
    "        due_dates_ordered = []\n",
    "        for job in sequence:#possible_sequences[machine][sequence]:\n",
    "            due_dates_ordered.append(due_dates[job])\n",
    "        print(sequence)\n",
    "        print(completion_times)\n",
    "        print(due_dates_ordered)\n",
    "        Lmax[sequence] = max([completion_times[i]-due_dates_ordered[i] for i in sequence])# possible_sequences[machine][sequence]])\n",
    "    return Lmax\n",
    "get_Lmax(3)\n",
    "\n",
    "Cmaxs = np.nansum(P,axis=1)\n",
    "Cmax = np.max(Cmaxs)\n",
    "processing_times = P[:,0]\n",
    "\n",
    "#release_date\n",
    "def get_release_dates(machine):\n",
    "    release_dates = []\n",
    "    for job in jobs:\n",
    "        release_date = 0\n",
    "        machine_sequence = 100\n",
    "        while machine_sequence!=machine:\n",
    "            for machine_sequence in machine_sequences[job]:\n",
    "                if machine_sequence==machine:\n",
    "                    break\n",
    "                release_date+=P[job,machine_sequence]\n",
    "        \n",
    "        release_dates.append(release_date)\n",
    "    return release_dates\n",
    "release_dates = get_release_dates(0)\n",
    "release_dates\n",
    "\n",
    "def get_due_dates(machine):\n",
    "    due_dates = []\n",
    "    for job in jobs:\n",
    "        due_date = 0\n",
    "        machine_sequence = 100\n",
    "        while machine_sequence!=machine:\n",
    "            for machine_sequence in machine_sequences[job][::-1]:\n",
    "                if machine_sequence==machine:\n",
    "                    break\n",
    "                due_date+=P[job,machine_sequence]\n",
    "        \n",
    "        due_dates.append(Cmax-due_date)\n",
    "    return due_dates\n",
    "due_dates = get_due_dates(0)"
   ]
  },
  {
   "cell_type": "markdown",
   "metadata": {},
   "source": [
    "### 7. "
   ]
  },
  {
   "attachments": {
    "56811ac5-3d55-4dd3-a135-c614a651a984.png": {
     "image/png": "[encoded data removed]"
    }
   },
   "cell_type": "markdown",
   "metadata": {},
   "source": [
    "- A truck must serve cities within a radius of 20 miles from its garage. For the data in miles between cities given below, determine the minimum number of trucks to purchase and where to garage them\n",
    "\n",
    "![image.png](attachment:56811ac5-3d55-4dd3-a135-c614a651a984.png)"
   ]
  },
  {
   "cell_type": "markdown",
   "metadata": {},
   "source": [
    "##### Assumptions\n",
    "- If a city is exactly 20 miles away from another, a truck garaged there can be used to serve that city (i.e. distance contraint is <=20 not <20)\n",
    "- I only need to purchase enough trucks to cover all cities, so the max number of trucks to purchase is 6"
   ]
  },
  {
   "cell_type": "code",
   "execution_count": 2,
   "metadata": {},
   "outputs": [
    {
     "name": "stdout",
     "output_type": "stream",
     "text": [
      "min number of cities to garage trucks in: 2.0\n",
      "cities to garage a truck in: [1, 5]\n"
     ]
    }
   ],
   "source": [
    "distances = np.array([[0,10,20,30,30,20],\n",
    "                      [10,0,25,35,20,10],\n",
    "                      [20,25,0,15,30,20],\n",
    "                      [30,35,15,0,15,25],\n",
    "                      [30,20,30,15,0,14],\n",
    "                      [20,10,20,25,14,0]])\n",
    "cities = [0,1,2,3,4,5]\n",
    "initial_solution = np.ones(shape=(6)) #purchase a truck for every city\n",
    "tabu_list = np.zeros(shape=(3,6)) \n",
    "\n",
    "def make_neighbor(current_solution,tabu_list):\n",
    "    is_feasible = False\n",
    "    in_tabu = True\n",
    "    while not is_feasible and in_tabu:\n",
    "        random_city = np.random.choice(np.indices([6])[0],1,replace=False)[0]\n",
    "        if current_solution[random_city] == 0:\n",
    "            change = 1\n",
    "        else:\n",
    "            change = 0\n",
    "        neighbor = current_solution.copy()\n",
    "        neighbor[random_city] = change\n",
    "        is_feasible,cities_not_served = check_feasibility(neighbor)\n",
    "        in_tabu = any([all(current_solution==tabu) for tabu in tabu_list])\n",
    "    return neighbor\n",
    "\n",
    "def calc_obj(current_solution):\n",
    "    obj = np.sum(current_solution)\n",
    "    return obj\n",
    "\n",
    "def update_tabu_list(tabu_list,current_solution):\n",
    "    \"\"\"Keeps the tabu list updated\"\"\"\n",
    "    #place the current solution as the last solution in the list\n",
    "    tabu_list = np.concatenate((tabu_list,[current_solution]),axis=0)\n",
    "    #remove the first solution in the list   \n",
    "    tabu_list = np.delete(tabu_list,0,axis=0)\n",
    "    return tabu_list\n",
    "\n",
    "def check_feasibility(current_solution):\n",
    "    \"\"\"Determines whether the selected cities to garage trucks in allows all cities to be served\"\"\"\n",
    "    #go through each city\n",
    "    cities_not_served = [0,1,2,3,4,5] #np.ones(shape=(1,6))\n",
    "    for garage_city in cities:\n",
    "        #if the city is selected to garage a truck\n",
    "        if current_solution[garage_city]==1:\n",
    "            for served_city in cities:\n",
    "                if distances[garage_city][served_city]<=20 and served_city in cities_not_served:\n",
    "                    cities_not_served.remove(served_city)\n",
    "    if len(cities_not_served)>0:\n",
    "        is_feasible=False\n",
    "    else:\n",
    "        is_feasible=True\n",
    "    return (is_feasible,cities_not_served)\n",
    "\n",
    "def tabu_search(initial_solution,tabu_list,max_iterations=100):\n",
    "    iteration=0\n",
    "    best_solution = initial_solution\n",
    "    best_objective = calc_obj(best_solution)\n",
    "    current_solution = initial_solution\n",
    "    current_objective = calc_obj(current_solution)\n",
    "    while iteration<max_iterations:\n",
    "        new_solution = make_neighbor(current_solution,tabu_list)\n",
    "        new_objective = calc_obj(new_solution)\n",
    "        if new_objective<best_objective:\n",
    "            best_solution = new_solution\n",
    "            best_objective = new_objective\n",
    "        if new_objective<current_objective:\n",
    "            current_solution = new_solution\n",
    "            current_objective = new_objective\n",
    "        #update tabu list\n",
    "        tabu_list = update_tabu_list(tabu_list,current_solution)\n",
    "        iteration+=1\n",
    "    return (best_solution,best_objective)\n",
    "\n",
    "best_solution,best_objective = tabu_search(initial_solution,tabu_list)\n",
    "print('min number of cities to garage trucks in:',best_objective)\n",
    "print('cities to garage a truck in:',[i+1 for i in cities if best_solution[i]==1])"
   ]
  },
  {
   "cell_type": "markdown",
   "metadata": {},
   "source": [
    "### 8. "
   ]
  },
  {
   "cell_type": "markdown",
   "metadata": {},
   "source": [
    "#### Solved in Excel"
   ]
  },
  {
   "cell_type": "markdown",
   "metadata": {},
   "source": [
    "### 9. "
   ]
  },
  {
   "cell_type": "markdown",
   "metadata": {},
   "source": [
    "#### Solved in Excel"
   ]
  },
  {
   "cell_type": "markdown",
   "metadata": {},
   "source": [
    "### 10. "
   ]
  },
  {
   "cell_type": "markdown",
   "metadata": {},
   "source": [
    "#### Solved in Excel"
   ]
  }
 ],
 "metadata": {
  "kernelspec": {
   "display_name": "Python 3",
   "language": "python",
   "name": "python3"
  },
  "language_info": {
   "codemirror_mode": {
    "name": "ipython",
    "version": 3
   },
   "file_extension": ".py",
   "mimetype": "text/x-python",
   "name": "python",
   "nbconvert_exporter": "python",
   "pygments_lexer": "ipython3",
   "version": "3.7.9"
  }
 },
 "nbformat": 4,
 "nbformat_minor": 4
}
