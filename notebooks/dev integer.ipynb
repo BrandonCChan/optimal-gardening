{
 "cells": [
  {
   "cell_type": "code",
   "execution_count": 380,
   "metadata": {},
   "outputs": [],
   "source": [
    "import numpy as np\n",
    "import pandas as pd\n",
    "import seaborn as sb\n",
    "sb.set_style(\"dark\")\n",
    "import matplotlib.pyplot as plt\n",
    "import time"
   ]
  },
  {
   "cell_type": "markdown",
   "metadata": {},
   "source": [
    "### 5 days left before you have to send pre-read materials "
   ]
  },
  {
   "cell_type": "markdown",
   "metadata": {},
   "source": [
    "#### TODO:\n",
    "- convert to binary problem. plant veg v in bed b yes or no\n",
    "    - still have:\n",
    "        - sun constraint\n",
    "        - companion planting constraint\n",
    "        - yoy planting constraint\n",
    "    - removes (simplfies):\n",
    "        - bed packing sub-problem because we can ignore capacity questions in this scenario\n",
    "        \n",
    "\n",
    "- rewriting sun constraint could cut your run time in half\n",
    "- consider swapping out algorithm\n",
    "\n",
    "- add capacity constraint (may end up being a separate bin packing problem. potentially leverage parallel processing for this and just implement a greedy approach here)\n",
    "- potentially add objective limit the number of unique plants in each bed\n",
    "- add to bed info the list of incompatable plants in that bed\n",
    "- consider changing wording of plant to vegetable or veg or produce or crop or provision\n",
    "- look into parallel processing. potentially have notebook run in AWS\n",
    "- potential convert to class\n",
    "- look into random seed best practices\n",
    "- fill in documentation to make this easier to walk through during the workshop\n",
    "- formulate and implement a MIP to solve the same problem\n",
    "- figure out some good pre-read materials\n",
    "- visualize solution space\n",
    "- visualizations at the end\n",
    "- add gif showing simulated annealing\n",
    "- email chris this notebook and let him decide if we should do both "
   ]
  },
  {
   "cell_type": "code",
   "execution_count": 381,
   "metadata": {},
   "outputs": [],
   "source": [
    "plant_info = pd.read_csv('../data/plant_data.csv')\n",
    "bed_info = pd.read_csv('../data/bed_data.csv')"
   ]
  },
  {
   "cell_type": "code",
   "execution_count": 382,
   "metadata": {},
   "outputs": [],
   "source": [
    "plant_info.index.name = 'plant_index'\n",
    "plants = plant_info.plant.to_numpy()\n",
    "plant_index = plant_info.index.to_numpy()\n",
    "num_plants = len(plants)"
   ]
  },
  {
   "cell_type": "code",
   "execution_count": 383,
   "metadata": {},
   "outputs": [],
   "source": [
    "bed_info.index.name = 'bed_index'\n",
    "beds = bed_info.bed.to_numpy()\n",
    "bed_index = bed_info.index.to_numpy()\n",
    "num_beds = len(beds)\n",
    "\n",
    "#for keeping track of what axis is which\n",
    "bed_axis = 0\n",
    "plant_axis = 1\n",
    "\n",
    "bed_width = 3\n",
    "bed_length = 10\n",
    "bed_capacity = bed_length*12"
   ]
  },
  {
   "cell_type": "code",
   "execution_count": 384,
   "metadata": {},
   "outputs": [
    {
     "name": "stdout",
     "output_type": "stream",
     "text": [
      "42\n",
      "[ 1  2  3  4  5  6  7  8  9 10 11 12 13 14 15 16 17 18 19 20 21 22 23 24\n",
      " 25 26 27 28 29 30 31 32 33 34 35 36 37 38 39 40 41 42]\n",
      "[ 0  1  2  3  4  5  6  7  8  9 10 11 12 13 14 15 16 17 18 19 20 21 22 23\n",
      " 24 25 26 27 28 29 30 31 32 33 34 35 36 37 38 39 40 41]\n"
     ]
    }
   ],
   "source": [
    "print(num_beds)\n",
    "print(beds)\n",
    "print(bed_index)"
   ]
  },
  {
   "cell_type": "code",
   "execution_count": 385,
   "metadata": {},
   "outputs": [],
   "source": [
    "#average preference\n",
    "family = ['evan','gina','liesse','lizzie','jack']\n",
    "plant_info['avg_pref'] = np.average(plant_info[family],axis=1,weights=[.5,.5,0,0,0])\n",
    "plant_info.drop(family,axis=1,inplace=True)\n",
    "preferences = plant_info.avg_pref.to_numpy()\n",
    "plant_index_by_pref = plant_info.sort_values('avg_pref',ascending=False).index \n",
    "\n",
    "plant_spacing = plant_info.plant_spacing.to_numpy()"
   ]
  },
  {
   "cell_type": "code",
   "execution_count": 386,
   "metadata": {},
   "outputs": [],
   "source": [
    "#get plant and bed sun requirements\n",
    "plant_sun_req = plant_info.sun.to_numpy()\n",
    "bed_sun_req = bed_info.sun.to_numpy()"
   ]
  },
  {
   "cell_type": "code",
   "execution_count": 387,
   "metadata": {},
   "outputs": [],
   "source": [
    "weights = {'yield_': 1,}\n",
    "        #    'yummy_score': 0.98,\n",
    "        #    'variety_score': 0.01}"
   ]
  },
  {
   "cell_type": "code",
   "execution_count": 388,
   "metadata": {},
   "outputs": [
    {
     "data": {
      "text/plain": [
       "2"
      ]
     },
     "execution_count": 388,
     "metadata": {},
     "output_type": "execute_result"
    }
   ],
   "source": [
    "plant_info.sort_values('avg_pref',ascending=False).iloc[0].name"
   ]
  },
  {
   "cell_type": "code",
   "execution_count": 389,
   "metadata": {},
   "outputs": [],
   "source": [
    "#most preferred \n",
    "max_pref = plant_info.sort_values('avg_pref',ascending=False).iloc[0].name"
   ]
  },
  {
   "cell_type": "code",
   "execution_count": 390,
   "metadata": {},
   "outputs": [],
   "source": [
    "#convert info dfs to dicts\n",
    "# plant_info = plant_info.to_dict(orient='index')\n",
    "# bed_info = bed_info.to_dict(orient='index')"
   ]
  },
  {
   "cell_type": "code",
   "execution_count": 391,
   "metadata": {},
   "outputs": [
    {
     "name": "stdout",
     "output_type": "stream",
     "text": [
      "[[4 9 1 ... 0 4 1]\n",
      " [5 3 0 ... 1 5 2]\n",
      " [1 8 1 ... 6 0 0]\n",
      " ...\n",
      " [1 7 4 ... 5 1 5]\n",
      " [0 6 5 ... 6 9 0]\n",
      " [7 9 6 ... 7 6 5]]\n"
     ]
    }
   ],
   "source": [
    "#initialize plan. no plants in any bed\n",
    "np.random.seed(2134)\n",
    "initial_plan = np.random.randint(0,10,size=(num_beds,num_plants))\n",
    "print(initial_plan)"
   ]
  },
  {
   "cell_type": "code",
   "execution_count": 392,
   "metadata": {},
   "outputs": [],
   "source": [
    "def make_neighbor(plan,iteration,cycle_size=5000):\n",
    "    \"\"\"\n",
    "    iteration: \n",
    "    cycle_size: \n",
    "    \"\"\"\n",
    "    #pick a random bed\n",
    "    bed = np.random.choice(bed_index)\n",
    "    #pick a random plant\n",
    "    plant = np.random.choice(plant_index)\n",
    "    #decide whether to plant another plant in bed or remove one\n",
    "    prob_add = (iteration%cycle_size)/cycle_size\n",
    "    decision = np.random.choice([1,-1],p=[prob_add,1-prob_add])\n",
    "\n",
    "    #make a decision\n",
    "    new_plan = plan.copy()\n",
    "    new_plan[bed][plant] = max(0,new_plan[bed][plant] + decision) #max(0,n) takes care of case of negative planting\n",
    "\n",
    "    return new_plan"
   ]
  },
  {
   "cell_type": "code",
   "execution_count": 393,
   "metadata": {},
   "outputs": [],
   "source": [
    "def sun_constraint(plan,bed_sun_req,plant_sun_req):\n",
    "    \"\"\"\n",
    "    Scans beds and plants, kills any plant that is in a bed that does not match its sun requirement.\n",
    "    \"\"\"\n",
    "    plan_sun = plan.copy()\n",
    "    for b in bed_index:\n",
    "        for p in plant_index:\n",
    "            b_sun = bed_sun_req[b]\n",
    "            p_sun = plant_sun_req[p]\n",
    "            if b_sun != p_sun:\n",
    "                plan_sun[b][p] = 0\n",
    "    return plan_sun"
   ]
  },
  {
   "cell_type": "code",
   "execution_count": 394,
   "metadata": {},
   "outputs": [],
   "source": [
    "# def bed_packing(bed,plan,plant_index_by_pref,plant_spacing):\n",
    "#     \"\"\"\n",
    "#     Handles the fact that the plan doesn't account for the spacing constraints required in \n",
    "#     each bed. Plan is likely over planting inside of each bed. Each bed is now a separate \n",
    "#     bin packing problem. This function applies a greedy heuristic for updating a plan to \n",
    "#     prioritize planting most preferred plants until you run out of space. Not necessarily \n",
    "#     optimal because you could improve the objective by planting less preferred plants that \n",
    "#     require less space.    \n",
    "#     \"\"\"\n",
    "#     plan_beds_finalized = plan.copy()\n",
    "#     remaining_capacity = bed_capacity\n",
    "\n",
    "#     for plant in plant_index_by_pref:\n",
    "#         if remaining_capacity>0:\n",
    "#             spacing = plant_spacing[plant]\n",
    "#             num_plants_planned = plan[bed][plant]\n",
    "#             num_plant_capacity = remaining_capacity/spacing\n",
    "#             plants_planted = min(num_plants_planned,num_plant_capacity) #ensures I don't exceed capacity\n",
    "#             plan_beds_finalized[bed][plant] = plants_planted\n",
    "#             remaining_capacity -= plants_planted*spacing\n",
    "#         else:\n",
    "#             plan_beds_finalized[bed][plant] = 0 #once I run out of capacity, update plan to plant 0       \n",
    "    \n",
    "    \n",
    "#     return plan_beds_finalized"
   ]
  },
  {
   "cell_type": "code",
   "execution_count": 395,
   "metadata": {},
   "outputs": [],
   "source": [
    "def bed_packing(bed,plan,plant_index_by_pref,plant_spacing):\n",
    "    \"\"\"\n",
    "    Handles the fact that the plan doesn't account for the spacing constraints required in each bed. Plan is likely \n",
    "    over planting inside of each bed. Each bed is now a separate bin packing problem. This function applies a greedy \n",
    "    heuristic for updating a plan to prioritize planting most preferred plants until you run out of space. Not\n",
    "    necessarily optimal because you could improve the objective by planting less preferred plants that require less space.    \n",
    "    \"\"\"\n",
    "    plan_beds_finalized = plan.copy()\n",
    "\n",
    "    plant_capacity_req = plant_spacing*plan_beds_finalized[bed] #capacity required by individual plants in the plan\n",
    "    plant_capacity_req = plant_capacity_req[plant_index_by_pref] #sort capacities so that most preferred plant is first (least preferred is last)\n",
    "\n",
    "    cumulative_capacity_req = plant_capacity_req.cumsum() #get the cumulative sum of plant capacity used after planting most to least preferred plants\n",
    "    sufficient_capacity = cumulative_capacity_req <= bed_capacity #mask, False at the point where no longer capacity to plant\n",
    "    capacity_used = np.max(cumulative_capacity_req*sufficient_capacity)#actual total capacity used \n",
    "\n",
    "    #for topping off bed if there is leftover capacity\n",
    "    cutoff_plant_idx = sufficient_capacity.argmin()#get the index of the first plant for which there was not sufficient capacity\n",
    "    cutoff_plant = plant_index_by_pref[cutoff_plant_idx]#id of the cutoff plant\n",
    "\n",
    "    sufficient_capacity = sufficient_capacity[plant_index_by_pref.argsort()] #re-sort excess capacity by plant index so they are in the right order\n",
    "    plan_beds_finalized[bed] *= sufficient_capacity #keep plants with sufficient capacity (*1) set plants that don't fit to 0 (*0)\n",
    "\n",
    "    plan_beds_finalized[bed][cutoff_plant] = np.floor((bed_capacity-capacity_used)/plant_spacing[cutoff_plant])#add as much of the cutoff plant as there is remaining capacity for\n",
    "    return plan_beds_finalized"
   ]
  },
  {
   "cell_type": "code",
   "execution_count": 396,
   "metadata": {},
   "outputs": [
    {
     "data": {
      "text/plain": [
       "array([ 4.  , 12.  , 24.  ,  6.  , 18.  , 48.  , 18.  , 18.  , 24.  ,\n",
       "       12.  ,  1.  , 24.  , 12.  ,  2.  ,  0.25, 12.  ,  0.25, 18.  ,\n",
       "       18.  , 24.  , 18.  ,  6.  , 12.  , 12.  , 12.  ,  8.  , 12.  ,\n",
       "       36.  , 28.  , 24.  , 18.  , 12.  ,  6.  ,  6.  ,  3.  , 18.  ])"
      ]
     },
     "execution_count": 396,
     "metadata": {},
     "output_type": "execute_result"
    }
   ],
   "source": [
    "#number of inches required between plants for each veg\n",
    "plant_spacing"
   ]
  },
  {
   "cell_type": "code",
   "execution_count": 397,
   "metadata": {},
   "outputs": [
    {
     "data": {
      "text/plain": [
       "array([5, 3, 0, 1, 1, 2, 2, 2, 0, 7, 5, 8, 2, 6, 3, 3, 6, 4, 5, 9, 4, 5,\n",
       "       4, 7, 0, 5, 6, 0, 3, 1, 0, 2, 4, 1, 5, 2])"
      ]
     },
     "execution_count": 397,
     "metadata": {},
     "output_type": "execute_result"
    }
   ],
   "source": [
    "#plan for bed 1\n",
    "initial_plan[1]"
   ]
  },
  {
   "cell_type": "code",
   "execution_count": 398,
   "metadata": {},
   "outputs": [
    {
     "data": {
      "text/plain": [
       "array([ 20.  ,  36.  ,   0.  ,   6.  ,  18.  ,  96.  ,  36.  ,  36.  ,\n",
       "         0.  ,  84.  ,   5.  , 192.  ,  24.  ,  12.  ,   0.75,  36.  ,\n",
       "         1.5 ,  72.  ,  90.  , 216.  ,  72.  ,  30.  ,  48.  ,  84.  ,\n",
       "         0.  ,  40.  ,  72.  ,   0.  ,  84.  ,  24.  ,   0.  ,  24.  ,\n",
       "        24.  ,   6.  ,  15.  ,  36.  ])"
      ]
     },
     "execution_count": 398,
     "metadata": {},
     "output_type": "execute_result"
    }
   ],
   "source": [
    "#total number of inches required to implement plan for bed 1 per veg\n",
    "plant_capacity_req = plant_spacing*initial_plan[1]\n",
    "plant_capacity_req"
   ]
  },
  {
   "cell_type": "code",
   "execution_count": 399,
   "metadata": {},
   "outputs": [
    {
     "data": {
      "text/plain": [
       "array([  0.  ,  36.  , 192.  ,  84.  ,  24.  ,  84.  ,   1.5 ,   0.  ,\n",
       "        36.  ,   0.  ,  24.  ,  24.  ,   5.  ,  30.  ,  15.  ,  36.  ,\n",
       "        96.  ,  18.  ,   0.  ,  40.  ,  72.  ,  90.  , 216.  ,   6.  ,\n",
       "        72.  ,  24.  ,  84.  ,  72.  ,  36.  ,  36.  ,  48.  ,   0.75,\n",
       "         0.  ,   6.  ,  20.  ,  12.  ])"
      ]
     },
     "execution_count": 399,
     "metadata": {},
     "output_type": "execute_result"
    }
   ],
   "source": [
    "#sort capacity requirements by most preferred veg to least preferred\n",
    "plant_capacity_req = plant_capacity_req[plant_index_by_pref]\n",
    "plant_capacity_req"
   ]
  },
  {
   "cell_type": "code",
   "execution_count": 400,
   "metadata": {},
   "outputs": [
    {
     "data": {
      "text/plain": [
       "array([   0.  ,   36.  ,  228.  ,  312.  ,  336.  ,  420.  ,  421.5 ,\n",
       "        421.5 ,  457.5 ,  457.5 ,  481.5 ,  505.5 ,  510.5 ,  540.5 ,\n",
       "        555.5 ,  591.5 ,  687.5 ,  705.5 ,  705.5 ,  745.5 ,  817.5 ,\n",
       "        907.5 , 1123.5 , 1129.5 , 1201.5 , 1225.5 , 1309.5 , 1381.5 ,\n",
       "       1417.5 , 1453.5 , 1501.5 , 1502.25, 1502.25, 1508.25, 1528.25,\n",
       "       1540.25])"
      ]
     },
     "execution_count": 400,
     "metadata": {},
     "output_type": "execute_result"
    }
   ],
   "source": [
    "# get the cumulative sum of plant capacity used after planting most to least preferred plants\n",
    "cumulative_capacity_req = plant_capacity_req.cumsum() \n",
    "cumulative_capacity_req"
   ]
  },
  {
   "cell_type": "code",
   "execution_count": 401,
   "metadata": {},
   "outputs": [
    {
     "data": {
      "text/plain": [
       "array([ True,  True, False, False, False, False, False, False, False,\n",
       "       False, False, False, False, False, False, False, False, False,\n",
       "       False, False, False, False, False, False, False, False, False,\n",
       "       False, False, False, False, False, False, False, False, False])"
      ]
     },
     "execution_count": 401,
     "metadata": {},
     "output_type": "execute_result"
    }
   ],
   "source": [
    "# mask, False at the point where no longer capacity to plant\n",
    "sufficient_capacity = cumulative_capacity_req <= bed_capacity\n",
    "sufficient_capacity"
   ]
  },
  {
   "cell_type": "code",
   "execution_count": 402,
   "metadata": {},
   "outputs": [
    {
     "data": {
      "text/plain": [
       "36.0"
      ]
     },
     "execution_count": 402,
     "metadata": {},
     "output_type": "execute_result"
    }
   ],
   "source": [
    "#total capacity we would use to fit plants with sufficient capacity\n",
    "capacity_used = np.max(cumulative_capacity_req*sufficient_capacity)\n",
    "capacity_used"
   ]
  },
  {
   "cell_type": "code",
   "execution_count": 403,
   "metadata": {},
   "outputs": [
    {
     "name": "stdout",
     "output_type": "stream",
     "text": [
      "2\n",
      "11 (Cayene peppers)\n",
      "original plan for cuttoff plant: 8\n"
     ]
    }
   ],
   "source": [
    "cutoff_plant_idx = sufficient_capacity.argmin()#get the index of the first plant for which there was not sufficient capacity\n",
    "cutoff_plant = plant_index_by_pref[cutoff_plant_idx]#id of the cutoff plant\n",
    "\n",
    "print(cutoff_plant_idx)\n",
    "print(cutoff_plant,f\"({plant_info.iloc[cutoff_plant]['plant']})\")\n",
    "print(f'original plan for cuttoff plant: {initial_plan[1][cutoff_plant]}')"
   ]
  },
  {
   "cell_type": "code",
   "execution_count": 404,
   "metadata": {},
   "outputs": [
    {
     "data": {
      "text/plain": [
       "array([False,  True,  True, False, False, False, False, False, False,\n",
       "       False, False, False, False, False, False, False, False, False,\n",
       "       False, False, False, False, False, False, False, False, False,\n",
       "       False, False, False, False, False, False, False, False, False])"
      ]
     },
     "execution_count": 404,
     "metadata": {},
     "output_type": "execute_result"
    }
   ],
   "source": [
    "#re-sort excess capacity by plant index so they are in the original plant idx order\n",
    "sufficient_capacity = sufficient_capacity[plant_index_by_pref.argsort()] \n",
    "sufficient_capacity"
   ]
  },
  {
   "cell_type": "code",
   "execution_count": 405,
   "metadata": {},
   "outputs": [
    {
     "name": "stdout",
     "output_type": "stream",
     "text": [
      "[5 3 0 1 1 2 2 2 0 7 5 8 2 6 3 3 6 4 5 9 4 5 4 7 0 5 6 0 3 1 0 2 4 1 5 2]\n",
      "[0 3 0 0 0 0 0 0 0 0 0 0 0 0 0 0 0 0 0 0 0 0 0 0 0 0 0 0 0 0 0 0 0 0 0 0]\n"
     ]
    }
   ],
   "source": [
    "#keep plants with sufficient capacity (*1) set plants that don't fit to 0 (*0)\n",
    "print(initial_plan[1])\n",
    "initial_plan[1] *= sufficient_capacity \n",
    "print(initial_plan[1])    "
   ]
  },
  {
   "cell_type": "code",
   "execution_count": 406,
   "metadata": {},
   "outputs": [
    {
     "name": "stdout",
     "output_type": "stream",
     "text": [
      "[0 3 0 0 0 0 0 0 0 0 0 3 0 0 0 0 0 0 0 0 0 0 0 0 0 0 0 0 0 0 0 0 0 0 0 0]\n"
     ]
    }
   ],
   "source": [
    "#add as much of the cutoff plant as there is remaining capacity for\n",
    "initial_plan[1][cutoff_plant] = np.floor((bed_capacity-capacity_used)/plant_spacing[cutoff_plant])\n",
    "print(initial_plan[1])"
   ]
  },
  {
   "cell_type": "code",
   "execution_count": 407,
   "metadata": {},
   "outputs": [],
   "source": [
    "for bed in bed_index: #this loop would be taken out if paralelizing this\n",
    "    initial_plan = bed_packing(bed,initial_plan,plant_index_by_pref,plant_spacing)"
   ]
  },
  {
   "cell_type": "code",
   "execution_count": 408,
   "metadata": {},
   "outputs": [],
   "source": [
    "def compute_yield(plan):\n",
    "    \"\"\"\n",
    "    Yield is the % of plants that are planted and survive. Not all plants will survive where they are planted.\n",
    "    This is where we impose constraints on sun requirements, year-over-year planting requirements, and companion planting requirements.\n",
    "    Returns the total number of surviving plants / the total plants planted.\n",
    "    \"\"\"\n",
    "    # \n",
    "    #Too little/too much sun can kill certain plants\n",
    "    #Some plants don't do well depending on what was planted the year before\n",
    "    #Some plants don't go well next to each other\n",
    "    #denominator. total number of plants planted\n",
    "    total_plants_planted = plan.sum()  \n",
    "    \n",
    "    plan_yield = plan.copy()\n",
    "\n",
    "    #impose constraints that kill plants in beds where they are not supposed to be\n",
    "    # plan_yield = sun_constraint(plan_yield,bed_sun_req,plant_sun_req)\n",
    "\n",
    "    #loop through beds and solve sub-problems\n",
    "    for bed in bed_index: #this loop would be taken out if paralelizing this\n",
    "        plan_yield = bed_packing(bed,plan_yield,plant_index_by_pref,plant_spacing)\n",
    "        \n",
    "    # plan = yoy_planting_constraint(plan)\n",
    "    # plan = companion_planting_constraint(plan)\n",
    "    return (plan_yield.sum()/total_plants_planted)*100\n",
    "\n",
    "def compute_yummy_score(plan,preferences):\n",
    "    \"\"\"Takes the weighted average of the preferences of each plant, weighted by the total qty of plants \n",
    "    in the current plan for each plant. Maximization encourages plants with higher preferences to be planted in higher quantities.\"\"\"\n",
    "    plan_yummy = plan.copy()\n",
    "    plan_by_plant = plan_yummy.sum(axis=bed_axis)\n",
    "    yums = np.average(preferences,weights=plan_by_plant)*10\n",
    "    return yums\n",
    "\n",
    "def compute_variety_score(plan,num_plants):\n",
    "    \"\"\"Sums the number of unique plants that are actually planted in the garden. Counts the number of plants that are being planted across all beds.\n",
    "       Then counts the number of plants with non-zero planting plan. \n",
    "       Maximization encourages more unique plants to be planted.\"\"\"\n",
    "    plan_variety = plan.copy()\n",
    "    variety_score = (plan_variety.sum(axis=bed_axis) > 0).sum()/num_plants*100\n",
    "    return variety_score"
   ]
  },
  {
   "cell_type": "code",
   "execution_count": 409,
   "metadata": {},
   "outputs": [],
   "source": [
    "def get_objective(plan,weights,initial_obj_values):\n",
    "    yield_ = compute_yield(plan)\n",
    "    # yummy_score = compute_yummy_score(plan,preferences)\n",
    "    # variety_score = compute_variety_score(plan,num_plants)\n",
    "    objective = (\n",
    "                (weights['yield_']*yield_) / initial_obj_values['yield_']\n",
    "              # + (weights['yummy_score']*yummy_score) / initial_obj_values['yummy_score'] \n",
    "              # + (weights['variety_score']*variety_score) / initial_obj_values['variety_score']\n",
    "                )\n",
    "    return (objective,{'objective':objective,'yield_':yield_})\n",
    "        # return (objective,{'objective':objective,'yield_':yield_,'yummy_score':yummy_score,'variety_score':variety_score})"
   ]
  },
  {
   "cell_type": "code",
   "execution_count": 410,
   "metadata": {},
   "outputs": [],
   "source": [
    "def optimize(initial_plan,weights,starting_temperature=10000,alpha=0.99,max_SA_iter=10000,max_hone_iter=1000):\n",
    "    \n",
    "    initial_obj_values = {'yield_': compute_yield(initial_plan),\n",
    "                          'yummy_score': compute_yummy_score(initial_plan,preferences),\n",
    "                          'variety_score': compute_variety_score(initial_plan,num_plants)}\n",
    "\n",
    "    current_plan = initial_plan.copy()\n",
    "    current_objective,current_obj_values = get_objective(initial_plan,weights,initial_obj_values)\n",
    "    \n",
    "    best_plan = initial_plan.copy()\n",
    "    best_objective = current_objective\n",
    "\n",
    "    current_plan_obj_values = [(0,current_obj_values)]\n",
    "    best_obj_values = [(0,current_obj_values)]\n",
    "    total_planted = [(0,initial_plan.sum())]\n",
    "    \n",
    "    temperature = starting_temperature\n",
    "\n",
    "    for i in range(max_SA_iter):\n",
    "        # start = time.time()\n",
    "        new_plan = make_neighbor(current_plan,i)\n",
    "        # print('1:',(time.time()-start)*1000)\n",
    "        # start = time.time()\n",
    "\n",
    "        # print('2:',(time.time()-start)*1000)\n",
    "        # start = time.time()\n",
    "        new_objective,new_obj_values = get_objective(new_plan,weights,initial_obj_values)\n",
    "        \n",
    "        if new_objective > current_objective or np.exp(-(new_objective - current_objective)/temperature) > np.random.uniform():\n",
    "            current_plan = new_plan.copy()\n",
    "            current_objective = new_objective\n",
    "            current_plan_obj_values.append((i,new_obj_values))\n",
    "            total_planted.append((i,current_plan.sum()))\n",
    "            \n",
    "        # print('3:',(time.time()-start)*1000)\n",
    "        # start = time.time()\n",
    "        if new_objective > best_objective:\n",
    "            best_plan = new_plan.copy()\n",
    "            best_objective = new_objective\n",
    "            best_obj_values.append((i,new_obj_values))      \n",
    "        # print('4:',(time.time()-start)*1000)\n",
    "        # start = time.time()\n",
    "        #lower the temperature\n",
    "        temperature *= temperature*alpha\n",
    "        \n",
    "\n",
    "    #add step to hone the best found solution after SA is complete (only accept improvement)\n",
    "    # for i in range(max_hone_iter):\n",
    "    #     new_plan = make_neighbor(best_plan,i)\n",
    "\n",
    "    #     new_objective,new_obj_values = get_objective(new_plan,weights,initial_obj_values)\n",
    "    \n",
    "    #     if new_objective > best_objective:\n",
    "    #         best_plan = new_plan.copy()\n",
    "    #         best_objective = new_objective\n",
    "    #         best_obj_values.append((i,new_obj_values))\n",
    "        \n",
    "    \n",
    "    return best_plan,best_objective,best_obj_values,current_plan_obj_values,total_planted"
   ]
  },
  {
   "cell_type": "code",
   "execution_count": 411,
   "metadata": {},
   "outputs": [],
   "source": [
    "best_plan,best_objective,best_obj_values,current_plan_obj_values,total_planted = optimize(initial_plan,weights,max_SA_iter=10000,max_hone_iter=1000)"
   ]
  },
  {
   "cell_type": "code",
   "execution_count": 412,
   "metadata": {},
   "outputs": [
    {
     "data": {
      "text/plain": [
       "{'objective': 1.7642627981587389, 'yield_': 76.11940298507463}"
      ]
     },
     "execution_count": 412,
     "metadata": {},
     "output_type": "execute_result"
    }
   ],
   "source": [
    "best_obj_values[-1][1]"
   ]
  },
  {
   "cell_type": "code",
   "execution_count": 413,
   "metadata": {},
   "outputs": [],
   "source": [
    "objectives = []\n",
    "yields = []\n",
    "yummy_scores = []\n",
    "variety_scores = []\n",
    "total_plants = []\n",
    "for i in current_plan_obj_values:\n",
    "    objectives.append(i[1]['objective'])\n",
    "    yields.append(i[1]['yield_'])\n",
    "    # yummy_scores.append(i[1]['yummy_score'])\n",
    "    # variety_scores.append(i[1]['variety_score'])\n",
    "\n",
    "for i in total_planted:\n",
    "    total_plants.append(i[1])\n",
    "\n",
    "df = pd.DataFrame([objectives,yields,total_plants]).T#,yummy_scores,variety_scores]).T\n",
    "df.columns = ['objective','yield_','total_plants']#,'yummy_score','variety_score']\n",
    "df.reset_index(inplace=True)\n",
    "df = df.melt(id_vars=['index','objective','total_plants'])"
   ]
  },
  {
   "cell_type": "code",
   "execution_count": 414,
   "metadata": {},
   "outputs": [
    {
     "data": {
      "text/plain": [
       "76.11940298507463"
      ]
     },
     "execution_count": 414,
     "metadata": {},
     "output_type": "execute_result"
    }
   ],
   "source": [
    "df[df.variable=='yield_'].value.max()"
   ]
  },
  {
   "cell_type": "code",
   "execution_count": 415,
   "metadata": {},
   "outputs": [
    {
     "data": {
      "text/plain": [
       "{'yield_': 1}"
      ]
     },
     "execution_count": 415,
     "metadata": {},
     "output_type": "execute_result"
    }
   ],
   "source": [
    "weights"
   ]
  },
  {
   "cell_type": "code",
   "execution_count": 416,
   "metadata": {},
   "outputs": [
    {
     "data": {
      "text/html": [
       "<div>\n",
       "<style scoped>\n",
       "    .dataframe tbody tr th:only-of-type {\n",
       "        vertical-align: middle;\n",
       "    }\n",
       "\n",
       "    .dataframe tbody tr th {\n",
       "        vertical-align: top;\n",
       "    }\n",
       "\n",
       "    .dataframe thead th {\n",
       "        text-align: right;\n",
       "    }\n",
       "</style>\n",
       "<table border=\"1\" class=\"dataframe\">\n",
       "  <thead>\n",
       "    <tr style=\"text-align: right;\">\n",
       "      <th></th>\n",
       "      <th>index</th>\n",
       "      <th>objective</th>\n",
       "      <th>total_plants</th>\n",
       "      <th>variable</th>\n",
       "      <th>value</th>\n",
       "    </tr>\n",
       "  </thead>\n",
       "  <tbody>\n",
       "    <tr>\n",
       "      <th>0</th>\n",
       "      <td>0</td>\n",
       "      <td>1.000000</td>\n",
       "      <td>248.0</td>\n",
       "      <td>yield_</td>\n",
       "      <td>43.145161</td>\n",
       "    </tr>\n",
       "    <tr>\n",
       "      <th>1</th>\n",
       "      <td>1</td>\n",
       "      <td>1.000000</td>\n",
       "      <td>248.0</td>\n",
       "      <td>yield_</td>\n",
       "      <td>43.145161</td>\n",
       "    </tr>\n",
       "    <tr>\n",
       "      <th>2</th>\n",
       "      <td>2</td>\n",
       "      <td>1.000000</td>\n",
       "      <td>248.0</td>\n",
       "      <td>yield_</td>\n",
       "      <td>43.145161</td>\n",
       "    </tr>\n",
       "    <tr>\n",
       "      <th>3</th>\n",
       "      <td>3</td>\n",
       "      <td>1.000000</td>\n",
       "      <td>248.0</td>\n",
       "      <td>yield_</td>\n",
       "      <td>43.145161</td>\n",
       "    </tr>\n",
       "    <tr>\n",
       "      <th>4</th>\n",
       "      <td>4</td>\n",
       "      <td>1.000000</td>\n",
       "      <td>248.0</td>\n",
       "      <td>yield_</td>\n",
       "      <td>43.145161</td>\n",
       "    </tr>\n",
       "    <tr>\n",
       "      <th>...</th>\n",
       "      <td>...</td>\n",
       "      <td>...</td>\n",
       "      <td>...</td>\n",
       "      <td>...</td>\n",
       "      <td>...</td>\n",
       "    </tr>\n",
       "    <tr>\n",
       "      <th>9996</th>\n",
       "      <td>9996</td>\n",
       "      <td>0.177896</td>\n",
       "      <td>3179.0</td>\n",
       "      <td>yield_</td>\n",
       "      <td>7.675370</td>\n",
       "    </tr>\n",
       "    <tr>\n",
       "      <th>9997</th>\n",
       "      <td>9997</td>\n",
       "      <td>0.177840</td>\n",
       "      <td>3180.0</td>\n",
       "      <td>yield_</td>\n",
       "      <td>7.672956</td>\n",
       "    </tr>\n",
       "    <tr>\n",
       "      <th>9998</th>\n",
       "      <td>9998</td>\n",
       "      <td>0.177785</td>\n",
       "      <td>3181.0</td>\n",
       "      <td>yield_</td>\n",
       "      <td>7.670544</td>\n",
       "    </tr>\n",
       "    <tr>\n",
       "      <th>9999</th>\n",
       "      <td>9999</td>\n",
       "      <td>0.177729</td>\n",
       "      <td>3182.0</td>\n",
       "      <td>yield_</td>\n",
       "      <td>7.668133</td>\n",
       "    </tr>\n",
       "    <tr>\n",
       "      <th>10000</th>\n",
       "      <td>10000</td>\n",
       "      <td>0.177673</td>\n",
       "      <td>3183.0</td>\n",
       "      <td>yield_</td>\n",
       "      <td>7.665724</td>\n",
       "    </tr>\n",
       "  </tbody>\n",
       "</table>\n",
       "<p>10001 rows × 5 columns</p>\n",
       "</div>"
      ],
      "text/plain": [
       "       index  objective  total_plants variable      value\n",
       "0          0   1.000000         248.0   yield_  43.145161\n",
       "1          1   1.000000         248.0   yield_  43.145161\n",
       "2          2   1.000000         248.0   yield_  43.145161\n",
       "3          3   1.000000         248.0   yield_  43.145161\n",
       "4          4   1.000000         248.0   yield_  43.145161\n",
       "...      ...        ...           ...      ...        ...\n",
       "9996    9996   0.177896        3179.0   yield_   7.675370\n",
       "9997    9997   0.177840        3180.0   yield_   7.672956\n",
       "9998    9998   0.177785        3181.0   yield_   7.670544\n",
       "9999    9999   0.177729        3182.0   yield_   7.668133\n",
       "10000  10000   0.177673        3183.0   yield_   7.665724\n",
       "\n",
       "[10001 rows x 5 columns]"
      ]
     },
     "execution_count": 416,
     "metadata": {},
     "output_type": "execute_result"
    }
   ],
   "source": [
    "df"
   ]
  },
  {
   "cell_type": "code",
   "execution_count": 418,
   "metadata": {},
   "outputs": [
    {
     "data": {
      "text/plain": [
       "1512"
      ]
     },
     "execution_count": 418,
     "metadata": {},
     "output_type": "execute_result"
    }
   ],
   "source": [
    "42*36"
   ]
  },
  {
   "cell_type": "code",
   "execution_count": 417,
   "metadata": {},
   "outputs": [
    {
     "data": {
      "text/plain": [
       "<AxesSubplot:xlabel='index', ylabel='total_plants'>"
      ]
     },
     "execution_count": 417,
     "metadata": {},
     "output_type": "execute_result"
    },
    {
     "data": {
      "image/png": "[encoded data removed]",
      "text/plain": [
       "<Figure size 1440x576 with 2 Axes>"
      ]
     },
     "metadata": {},
     "output_type": "display_data"
    }
   ],
   "source": [
    "fig, ax = plt.subplots(figsize=(20,8))\n",
    "sb.scatterplot(data=df,x='index',y='value',hue='variable',edgecolor=None,s=5)\n",
    "plt.legend(bbox_to_anchor=(1.05, 1), loc='upper left', borderaxespad=0)\n",
    "\n",
    "ax2 = plt.twinx()\n",
    "sb.scatterplot(data=df.drop_duplicates(['index','total_plants']),x='index',y='total_plants',edgecolor=None,ax=ax2,color='black',s=5)"
   ]
  },
  {
   "cell_type": "code",
   "execution_count": null,
   "metadata": {},
   "outputs": [],
   "source": []
  },
  {
   "cell_type": "code",
   "execution_count": null,
   "metadata": {},
   "outputs": [],
   "source": []
  }
 ],
 "metadata": {
  "interpreter": {
   "hash": "4b7cec192fff35eb9040503ce2e7b3079b3ef69864e682c4ab7f0f197960dcef"
  },
  "kernelspec": {
   "display_name": "Python 3.7.1",
   "language": "python",
   "name": "python3"
  },
  "language_info": {
   "codemirror_mode": {
    "name": "ipython",
    "version": 3
   },
   "file_extension": ".py",
   "mimetype": "text/x-python",
   "name": "python",
   "nbconvert_exporter": "python",
   "pygments_lexer": "ipython3",
   "version": "3.8.5"
  },
  "orig_nbformat": 4
 },
 "nbformat": 4,
 "nbformat_minor": 2
}
