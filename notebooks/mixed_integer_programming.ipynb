{
 "cells": [
  {
   "cell_type": "code",
   "execution_count": 32,
   "metadata": {},
   "outputs": [],
   "source": [
    "%reload_ext autoreload\n",
    "%autoreload 2\n",
    "\n",
    "import os\n",
    "import sys\n",
    "import time\n",
    "\n",
    "from IPython.display import Image\n",
    "import matplotlib.pyplot as plt\n",
    "import numpy as np\n",
    "import pandas as pd\n",
    "import seaborn as sb\n",
    "sb.set_style(\"dark\")\n",
    "\n",
    "sys.path.append(os.path.join(os.getcwd(), '..','src'))"
   ]
  },
  {
   "cell_type": "code",
   "execution_count": 33,
   "metadata": {},
   "outputs": [],
   "source": [
    "from optimal_gardening import *"
   ]
  },
  {
   "cell_type": "code",
   "execution_count": 34,
   "metadata": {},
   "outputs": [],
   "source": [
    "import gurobipy as grb"
   ]
  },
  {
   "cell_type": "markdown",
   "metadata": {},
   "source": [
    "### Mixed Integer Programming"
   ]
  },
  {
   "cell_type": "markdown",
   "metadata": {},
   "source": [
    "### Gather Input Data"
   ]
  },
  {
   "cell_type": "markdown",
   "metadata": {},
   "source": [
    "$P: \\:Set \\:of \\:plants \\:(indexed \\:by \\:p)$"
   ]
  },
  {
   "cell_type": "code",
   "execution_count": 35,
   "metadata": {},
   "outputs": [
    {
     "data": {
      "text/plain": [
       "array([ 0,  1,  2,  3,  4,  5,  6,  7,  8,  9, 10, 11, 12, 13, 14, 15, 16,\n",
       "       17, 18, 19, 20, 21, 22, 23, 24, 25, 26, 27, 28, 29, 30, 31, 32, 33,\n",
       "       34, 35], dtype=int64)"
      ]
     },
     "execution_count": 35,
     "metadata": {},
     "output_type": "execute_result"
    }
   ],
   "source": [
    "plant_index"
   ]
  },
  {
   "cell_type": "markdown",
   "metadata": {},
   "source": [
    "$B: \\:Set \\:of \\:beds \\:(indexed \\:by \\:b)$"
   ]
  },
  {
   "cell_type": "code",
   "execution_count": 36,
   "metadata": {},
   "outputs": [
    {
     "data": {
      "text/plain": [
       "array([ 0,  1,  2,  3,  4,  5,  6,  7,  8,  9, 10, 11, 12, 13, 14, 15, 16,\n",
       "       17, 18, 19, 20, 21, 22, 23, 24, 25, 26, 27, 28, 29, 30, 31, 32, 33,\n",
       "       34, 35, 36, 37, 38, 39, 40, 41], dtype=int64)"
      ]
     },
     "execution_count": 36,
     "metadata": {},
     "output_type": "execute_result"
    }
   ],
   "source": [
    "bed_index"
   ]
  },
  {
   "cell_type": "markdown",
   "metadata": {},
   "source": [
    "$T: \\:Set \\:of \\:years \\:(indexed \\:by \\:t)$"
   ]
  },
  {
   "cell_type": "code",
   "execution_count": 37,
   "metadata": {},
   "outputs": [
    {
     "data": {
      "text/plain": [
       "array([0, 1, 2])"
      ]
     },
     "execution_count": 37,
     "metadata": {},
     "output_type": "execute_result"
    }
   ],
   "source": [
    "year_index"
   ]
  },
  {
   "cell_type": "markdown",
   "metadata": {},
   "source": [
    "$R: \\:Set \\:of \\:plant \\:preferences \\:(indexed \\:by \\:p)$"
   ]
  },
  {
   "cell_type": "code",
   "execution_count": 38,
   "metadata": {},
   "outputs": [
    {
     "data": {
      "text/plain": [
       "array([ 6.5,  5.5,  5.5,  7.5,  5.5,  5.5,  5.5,  5.5,  8. ,  8.5,  6. ,\n",
       "        5. ,  4. ,  6. ,  2.5,  7.5,  5. ,  4. ,  8. ,  4.5,  5. ,  5. ,\n",
       "        5.5,  5.5,  5.5,  5. ,  6. ,  5. , 10. ,  5.5,  7. ,  6. ,  7. ,\n",
       "        7. ,  5.5,  4.5])"
      ]
     },
     "execution_count": 38,
     "metadata": {},
     "output_type": "execute_result"
    }
   ],
   "source": [
    "preferences"
   ]
  },
  {
   "cell_type": "markdown",
   "metadata": {},
   "source": [
    "$S: \\:Ability \\:to \\:plant \\:in \\:bed \\:given \\:the \\:sun \\:constraint \\:(indexed \\:by \\:p, \\:b)$"
   ]
  },
  {
   "cell_type": "code",
   "execution_count": 39,
   "metadata": {},
   "outputs": [
    {
     "data": {
      "text/plain": [
       "array([[0., 0., 1., ..., 0., 0., 1.],\n",
       "       [0., 0., 1., ..., 0., 0., 1.],\n",
       "       [1., 0., 0., ..., 1., 0., 0.],\n",
       "       ...,\n",
       "       [1., 0., 0., ..., 1., 0., 0.],\n",
       "       [1., 0., 0., ..., 1., 0., 0.],\n",
       "       [1., 0., 0., ..., 1., 0., 0.]])"
      ]
     },
     "execution_count": 39,
     "metadata": {},
     "output_type": "execute_result"
    }
   ],
   "source": [
    "#just take the sun constraint for the first year\n",
    "sun = sun_constraint[:,:,0]\n",
    "sun"
   ]
  },
  {
   "cell_type": "markdown",
   "metadata": {},
   "source": [
    "$P_{e}: \\:Subset \\:of \\:plants \\:that \\:are \\:perennials $"
   ]
  },
  {
   "cell_type": "code",
   "execution_count": 40,
   "metadata": {},
   "outputs": [
    {
     "data": {
      "text/plain": [
       "[1, 5, 13, 20, 24, 25, 28, 29, 30]"
      ]
     },
     "execution_count": 40,
     "metadata": {},
     "output_type": "execute_result"
    }
   ],
   "source": [
    "perennials"
   ]
  },
  {
   "cell_type": "markdown",
   "metadata": {},
   "source": [
    "$P_{d}: \\:Subset \\:of \\:plants \\:that \\:increase \\:the \\:risk \\:of \\:diseases \\:if \\:planted \\:in \\:same \\:bed \\:YoY$"
   ]
  },
  {
   "cell_type": "code",
   "execution_count": 41,
   "metadata": {},
   "outputs": [
    {
     "data": {
      "text/plain": [
       "[33]"
      ]
     },
     "execution_count": 41,
     "metadata": {},
     "output_type": "execute_result"
    }
   ],
   "source": [
    "problem_plants"
   ]
  },
  {
   "cell_type": "markdown",
   "metadata": {},
   "source": [
    "$U: \\:Maximum \\:yummy \\:score$"
   ]
  },
  {
   "cell_type": "code",
   "execution_count": 42,
   "metadata": {},
   "outputs": [
    {
     "data": {
      "text/plain": [
       "1260.0"
      ]
     },
     "execution_count": 42,
     "metadata": {},
     "output_type": "execute_result"
    }
   ],
   "source": [
    "max_yums"
   ]
  },
  {
   "cell_type": "markdown",
   "metadata": {},
   "source": [
    "$G: \\:Number \\:of \\:plants $"
   ]
  },
  {
   "cell_type": "code",
   "execution_count": 43,
   "metadata": {},
   "outputs": [
    {
     "data": {
      "text/plain": [
       "36"
      ]
     },
     "execution_count": 43,
     "metadata": {},
     "output_type": "execute_result"
    }
   ],
   "source": [
    "num_plants"
   ]
  },
  {
   "cell_type": "markdown",
   "metadata": {},
   "source": [
    "$W: \\:Objective \\;Weights $"
   ]
  },
  {
   "cell_type": "code",
   "execution_count": 44,
   "metadata": {},
   "outputs": [
    {
     "data": {
      "text/plain": [
       "{'yummy_score': 1, 'variety_score': 0}"
      ]
     },
     "execution_count": 44,
     "metadata": {},
     "output_type": "execute_result"
    }
   ],
   "source": [
    "mip_weights = {'yummy_score': 1, 'variety_score': 0}\n",
    "mip_weights"
   ]
  },
  {
   "cell_type": "markdown",
   "metadata": {},
   "source": [
    "### Create a Model"
   ]
  },
  {
   "cell_type": "code",
   "execution_count": 45,
   "metadata": {},
   "outputs": [
    {
     "name": "stdout",
     "output_type": "stream",
     "text": [
      "Discarded solution information\n"
     ]
    }
   ],
   "source": [
    "try:\n",
    "    m.reset()\n",
    "except:\n",
    "    m = grb.Model('optimus-veg')"
   ]
  },
  {
   "cell_type": "markdown",
   "metadata": {},
   "source": [
    "### Add Decision Variables"
   ]
  },
  {
   "cell_type": "markdown",
   "metadata": {},
   "source": [
    "$x \\:(binary): \\;Whether \\;or \\;not \\;to \\;grow \\;plant \\;(p) \\;in \\;bed \\;(b) \\;during \\;year \\;(t) $"
   ]
  },
  {
   "cell_type": "code",
   "execution_count": 46,
   "metadata": {},
   "outputs": [
    {
     "name": "stdout",
     "output_type": "stream",
     "text": [
      "Number of x variables: 4536\n"
     ]
    },
    {
     "data": {
      "text/plain": [
       "{(0, 0, 0): <gurobi.Var *Awaiting Model Update*>,\n",
       " (0, 0, 1): <gurobi.Var *Awaiting Model Update*>,\n",
       " (0, 0, 2): <gurobi.Var *Awaiting Model Update*>,\n",
       " (0, 1, 0): <gurobi.Var *Awaiting Model Update*>,\n",
       " (0, 1, 1): <gurobi.Var *Awaiting Model Update*>,\n",
       " (0, 1, 2): <gurobi.Var *Awaiting Model Update*>,\n",
       " (0, 2, 0): <gurobi.Var *Awaiting Model Update*>,\n",
       " (0, 2, 1): <gurobi.Var *Awaiting Model Update*>,\n",
       " (0, 2, 2): <gurobi.Var *Awaiting Model Update*>,\n",
       " (0, 3, 0): <gurobi.Var *Awaiting Model Update*>,\n",
       " (0, 3, 1): <gurobi.Var *Awaiting Model Update*>,\n",
       " (0, 3, 2): <gurobi.Var *Awaiting Model Update*>,\n",
       " (0, 4, 0): <gurobi.Var *Awaiting Model Update*>,\n",
       " (0, 4, 1): <gurobi.Var *Awaiting Model Update*>,\n",
       " (0, 4, 2): <gurobi.Var *Awaiting Model Update*>,\n",
       " (0, 5, 0): <gurobi.Var *Awaiting Model Update*>,\n",
       " (0, 5, 1): <gurobi.Var *Awaiting Model Update*>,\n",
       " (0, 5, 2): <gurobi.Var *Awaiting Model Update*>,\n",
       " (0, 6, 0): <gurobi.Var *Awaiting Model Update*>,\n",
       " (0, 6, 1): <gurobi.Var *Awaiting Model Update*>,\n",
       " (0, 6, 2): <gurobi.Var *Awaiting Model Update*>,\n",
       " (0, 7, 0): <gurobi.Var *Awaiting Model Update*>,\n",
       " (0, 7, 1): <gurobi.Var *Awaiting Model Update*>,\n",
       " (0, 7, 2): <gurobi.Var *Awaiting Model Update*>,\n",
       " (0, 8, 0): <gurobi.Var *Awaiting Model Update*>,\n",
       " (0, 8, 1): <gurobi.Var *Awaiting Model Update*>,\n",
       " (0, 8, 2): <gurobi.Var *Awaiting Model Update*>,\n",
       " (0, 9, 0): <gurobi.Var *Awaiting Model Update*>,\n",
       " (0, 9, 1): <gurobi.Var *Awaiting Model Update*>,\n",
       " (0, 9, 2): <gurobi.Var *Awaiting Model Update*>,\n",
       " (0, 10, 0): <gurobi.Var *Awaiting Model Update*>,\n",
       " (0, 10, 1): <gurobi.Var *Awaiting Model Update*>,\n",
       " (0, 10, 2): <gurobi.Var *Awaiting Model Update*>,\n",
       " (0, 11, 0): <gurobi.Var *Awaiting Model Update*>,\n",
       " (0, 11, 1): <gurobi.Var *Awaiting Model Update*>,\n",
       " (0, 11, 2): <gurobi.Var *Awaiting Model Update*>,\n",
       " (0, 12, 0): <gurobi.Var *Awaiting Model Update*>,\n",
       " (0, 12, 1): <gurobi.Var *Awaiting Model Update*>,\n",
       " (0, 12, 2): <gurobi.Var *Awaiting Model Update*>,\n",
       " (0, 13, 0): <gurobi.Var *Awaiting Model Update*>,\n",
       " (0, 13, 1): <gurobi.Var *Awaiting Model Update*>,\n",
       " (0, 13, 2): <gurobi.Var *Awaiting Model Update*>,\n",
       " (0, 14, 0): <gurobi.Var *Awaiting Model Update*>,\n",
       " (0, 14, 1): <gurobi.Var *Awaiting Model Update*>,\n",
       " (0, 14, 2): <gurobi.Var *Awaiting Model Update*>,\n",
       " (0, 15, 0): <gurobi.Var *Awaiting Model Update*>,\n",
       " (0, 15, 1): <gurobi.Var *Awaiting Model Update*>,\n",
       " (0, 15, 2): <gurobi.Var *Awaiting Model Update*>,\n",
       " (0, 16, 0): <gurobi.Var *Awaiting Model Update*>,\n",
       " (0, 16, 1): <gurobi.Var *Awaiting Model Update*>,\n",
       " (0, 16, 2): <gurobi.Var *Awaiting Model Update*>,\n",
       " (0, 17, 0): <gurobi.Var *Awaiting Model Update*>,\n",
       " (0, 17, 1): <gurobi.Var *Awaiting Model Update*>,\n",
       " (0, 17, 2): <gurobi.Var *Awaiting Model Update*>,\n",
       " (0, 18, 0): <gurobi.Var *Awaiting Model Update*>,\n",
       " (0, 18, 1): <gurobi.Var *Awaiting Model Update*>,\n",
       " (0, 18, 2): <gurobi.Var *Awaiting Model Update*>,\n",
       " (0, 19, 0): <gurobi.Var *Awaiting Model Update*>,\n",
       " (0, 19, 1): <gurobi.Var *Awaiting Model Update*>,\n",
       " (0, 19, 2): <gurobi.Var *Awaiting Model Update*>,\n",
       " (0, 20, 0): <gurobi.Var *Awaiting Model Update*>,\n",
       " (0, 20, 1): <gurobi.Var *Awaiting Model Update*>,\n",
       " (0, 20, 2): <gurobi.Var *Awaiting Model Update*>,\n",
       " (0, 21, 0): <gurobi.Var *Awaiting Model Update*>,\n",
       " (0, 21, 1): <gurobi.Var *Awaiting Model Update*>,\n",
       " (0, 21, 2): <gurobi.Var *Awaiting Model Update*>,\n",
       " (0, 22, 0): <gurobi.Var *Awaiting Model Update*>,\n",
       " (0, 22, 1): <gurobi.Var *Awaiting Model Update*>,\n",
       " (0, 22, 2): <gurobi.Var *Awaiting Model Update*>,\n",
       " (0, 23, 0): <gurobi.Var *Awaiting Model Update*>,\n",
       " (0, 23, 1): <gurobi.Var *Awaiting Model Update*>,\n",
       " (0, 23, 2): <gurobi.Var *Awaiting Model Update*>,\n",
       " (0, 24, 0): <gurobi.Var *Awaiting Model Update*>,\n",
       " (0, 24, 1): <gurobi.Var *Awaiting Model Update*>,\n",
       " (0, 24, 2): <gurobi.Var *Awaiting Model Update*>,\n",
       " (0, 25, 0): <gurobi.Var *Awaiting Model Update*>,\n",
       " (0, 25, 1): <gurobi.Var *Awaiting Model Update*>,\n",
       " (0, 25, 2): <gurobi.Var *Awaiting Model Update*>,\n",
       " (0, 26, 0): <gurobi.Var *Awaiting Model Update*>,\n",
       " (0, 26, 1): <gurobi.Var *Awaiting Model Update*>,\n",
       " (0, 26, 2): <gurobi.Var *Awaiting Model Update*>,\n",
       " (0, 27, 0): <gurobi.Var *Awaiting Model Update*>,\n",
       " (0, 27, 1): <gurobi.Var *Awaiting Model Update*>,\n",
       " (0, 27, 2): <gurobi.Var *Awaiting Model Update*>,\n",
       " (0, 28, 0): <gurobi.Var *Awaiting Model Update*>,\n",
       " (0, 28, 1): <gurobi.Var *Awaiting Model Update*>,\n",
       " (0, 28, 2): <gurobi.Var *Awaiting Model Update*>,\n",
       " (0, 29, 0): <gurobi.Var *Awaiting Model Update*>,\n",
       " (0, 29, 1): <gurobi.Var *Awaiting Model Update*>,\n",
       " (0, 29, 2): <gurobi.Var *Awaiting Model Update*>,\n",
       " (0, 30, 0): <gurobi.Var *Awaiting Model Update*>,\n",
       " (0, 30, 1): <gurobi.Var *Awaiting Model Update*>,\n",
       " (0, 30, 2): <gurobi.Var *Awaiting Model Update*>,\n",
       " (0, 31, 0): <gurobi.Var *Awaiting Model Update*>,\n",
       " (0, 31, 1): <gurobi.Var *Awaiting Model Update*>,\n",
       " (0, 31, 2): <gurobi.Var *Awaiting Model Update*>,\n",
       " (0, 32, 0): <gurobi.Var *Awaiting Model Update*>,\n",
       " (0, 32, 1): <gurobi.Var *Awaiting Model Update*>,\n",
       " (0, 32, 2): <gurobi.Var *Awaiting Model Update*>,\n",
       " (0, 33, 0): <gurobi.Var *Awaiting Model Update*>,\n",
       " (0, 33, 1): <gurobi.Var *Awaiting Model Update*>,\n",
       " (0, 33, 2): <gurobi.Var *Awaiting Model Update*>,\n",
       " (0, 34, 0): <gurobi.Var *Awaiting Model Update*>,\n",
       " (0, 34, 1): <gurobi.Var *Awaiting Model Update*>,\n",
       " (0, 34, 2): <gurobi.Var *Awaiting Model Update*>,\n",
       " (0, 35, 0): <gurobi.Var *Awaiting Model Update*>,\n",
       " (0, 35, 1): <gurobi.Var *Awaiting Model Update*>,\n",
       " (0, 35, 2): <gurobi.Var *Awaiting Model Update*>,\n",
       " (0, 36, 0): <gurobi.Var *Awaiting Model Update*>,\n",
       " (0, 36, 1): <gurobi.Var *Awaiting Model Update*>,\n",
       " (0, 36, 2): <gurobi.Var *Awaiting Model Update*>,\n",
       " (0, 37, 0): <gurobi.Var *Awaiting Model Update*>,\n",
       " (0, 37, 1): <gurobi.Var *Awaiting Model Update*>,\n",
       " (0, 37, 2): <gurobi.Var *Awaiting Model Update*>,\n",
       " (0, 38, 0): <gurobi.Var *Awaiting Model Update*>,\n",
       " (0, 38, 1): <gurobi.Var *Awaiting Model Update*>,\n",
       " (0, 38, 2): <gurobi.Var *Awaiting Model Update*>,\n",
       " (0, 39, 0): <gurobi.Var *Awaiting Model Update*>,\n",
       " (0, 39, 1): <gurobi.Var *Awaiting Model Update*>,\n",
       " (0, 39, 2): <gurobi.Var *Awaiting Model Update*>,\n",
       " (0, 40, 0): <gurobi.Var *Awaiting Model Update*>,\n",
       " (0, 40, 1): <gurobi.Var *Awaiting Model Update*>,\n",
       " (0, 40, 2): <gurobi.Var *Awaiting Model Update*>,\n",
       " (0, 41, 0): <gurobi.Var *Awaiting Model Update*>,\n",
       " (0, 41, 1): <gurobi.Var *Awaiting Model Update*>,\n",
       " (0, 41, 2): <gurobi.Var *Awaiting Model Update*>,\n",
       " (1, 0, 0): <gurobi.Var *Awaiting Model Update*>,\n",
       " (1, 0, 1): <gurobi.Var *Awaiting Model Update*>,\n",
       " (1, 0, 2): <gurobi.Var *Awaiting Model Update*>,\n",
       " (1, 1, 0): <gurobi.Var *Awaiting Model Update*>,\n",
       " (1, 1, 1): <gurobi.Var *Awaiting Model Update*>,\n",
       " (1, 1, 2): <gurobi.Var *Awaiting Model Update*>,\n",
       " (1, 2, 0): <gurobi.Var *Awaiting Model Update*>,\n",
       " (1, 2, 1): <gurobi.Var *Awaiting Model Update*>,\n",
       " (1, 2, 2): <gurobi.Var *Awaiting Model Update*>,\n",
       " (1, 3, 0): <gurobi.Var *Awaiting Model Update*>,\n",
       " (1, 3, 1): <gurobi.Var *Awaiting Model Update*>,\n",
       " (1, 3, 2): <gurobi.Var *Awaiting Model Update*>,\n",
       " (1, 4, 0): <gurobi.Var *Awaiting Model Update*>,\n",
       " (1, 4, 1): <gurobi.Var *Awaiting Model Update*>,\n",
       " (1, 4, 2): <gurobi.Var *Awaiting Model Update*>,\n",
       " (1, 5, 0): <gurobi.Var *Awaiting Model Update*>,\n",
       " (1, 5, 1): <gurobi.Var *Awaiting Model Update*>,\n",
       " (1, 5, 2): <gurobi.Var *Awaiting Model Update*>,\n",
       " (1, 6, 0): <gurobi.Var *Awaiting Model Update*>,\n",
       " (1, 6, 1): <gurobi.Var *Awaiting Model Update*>,\n",
       " (1, 6, 2): <gurobi.Var *Awaiting Model Update*>,\n",
       " (1, 7, 0): <gurobi.Var *Awaiting Model Update*>,\n",
       " (1, 7, 1): <gurobi.Var *Awaiting Model Update*>,\n",
       " (1, 7, 2): <gurobi.Var *Awaiting Model Update*>,\n",
       " (1, 8, 0): <gurobi.Var *Awaiting Model Update*>,\n",
       " (1, 8, 1): <gurobi.Var *Awaiting Model Update*>,\n",
       " (1, 8, 2): <gurobi.Var *Awaiting Model Update*>,\n",
       " (1, 9, 0): <gurobi.Var *Awaiting Model Update*>,\n",
       " (1, 9, 1): <gurobi.Var *Awaiting Model Update*>,\n",
       " (1, 9, 2): <gurobi.Var *Awaiting Model Update*>,\n",
       " (1, 10, 0): <gurobi.Var *Awaiting Model Update*>,\n",
       " (1, 10, 1): <gurobi.Var *Awaiting Model Update*>,\n",
       " (1, 10, 2): <gurobi.Var *Awaiting Model Update*>,\n",
       " (1, 11, 0): <gurobi.Var *Awaiting Model Update*>,\n",
       " (1, 11, 1): <gurobi.Var *Awaiting Model Update*>,\n",
       " (1, 11, 2): <gurobi.Var *Awaiting Model Update*>,\n",
       " (1, 12, 0): <gurobi.Var *Awaiting Model Update*>,\n",
       " (1, 12, 1): <gurobi.Var *Awaiting Model Update*>,\n",
       " (1, 12, 2): <gurobi.Var *Awaiting Model Update*>,\n",
       " (1, 13, 0): <gurobi.Var *Awaiting Model Update*>,\n",
       " (1, 13, 1): <gurobi.Var *Awaiting Model Update*>,\n",
       " (1, 13, 2): <gurobi.Var *Awaiting Model Update*>,\n",
       " (1, 14, 0): <gurobi.Var *Awaiting Model Update*>,\n",
       " (1, 14, 1): <gurobi.Var *Awaiting Model Update*>,\n",
       " (1, 14, 2): <gurobi.Var *Awaiting Model Update*>,\n",
       " (1, 15, 0): <gurobi.Var *Awaiting Model Update*>,\n",
       " (1, 15, 1): <gurobi.Var *Awaiting Model Update*>,\n",
       " (1, 15, 2): <gurobi.Var *Awaiting Model Update*>,\n",
       " (1, 16, 0): <gurobi.Var *Awaiting Model Update*>,\n",
       " (1, 16, 1): <gurobi.Var *Awaiting Model Update*>,\n",
       " (1, 16, 2): <gurobi.Var *Awaiting Model Update*>,\n",
       " (1, 17, 0): <gurobi.Var *Awaiting Model Update*>,\n",
       " (1, 17, 1): <gurobi.Var *Awaiting Model Update*>,\n",
       " (1, 17, 2): <gurobi.Var *Awaiting Model Update*>,\n",
       " (1, 18, 0): <gurobi.Var *Awaiting Model Update*>,\n",
       " (1, 18, 1): <gurobi.Var *Awaiting Model Update*>,\n",
       " (1, 18, 2): <gurobi.Var *Awaiting Model Update*>,\n",
       " (1, 19, 0): <gurobi.Var *Awaiting Model Update*>,\n",
       " (1, 19, 1): <gurobi.Var *Awaiting Model Update*>,\n",
       " (1, 19, 2): <gurobi.Var *Awaiting Model Update*>,\n",
       " (1, 20, 0): <gurobi.Var *Awaiting Model Update*>,\n",
       " (1, 20, 1): <gurobi.Var *Awaiting Model Update*>,\n",
       " (1, 20, 2): <gurobi.Var *Awaiting Model Update*>,\n",
       " (1, 21, 0): <gurobi.Var *Awaiting Model Update*>,\n",
       " (1, 21, 1): <gurobi.Var *Awaiting Model Update*>,\n",
       " (1, 21, 2): <gurobi.Var *Awaiting Model Update*>,\n",
       " (1, 22, 0): <gurobi.Var *Awaiting Model Update*>,\n",
       " (1, 22, 1): <gurobi.Var *Awaiting Model Update*>,\n",
       " (1, 22, 2): <gurobi.Var *Awaiting Model Update*>,\n",
       " (1, 23, 0): <gurobi.Var *Awaiting Model Update*>,\n",
       " (1, 23, 1): <gurobi.Var *Awaiting Model Update*>,\n",
       " (1, 23, 2): <gurobi.Var *Awaiting Model Update*>,\n",
       " (1, 24, 0): <gurobi.Var *Awaiting Model Update*>,\n",
       " (1, 24, 1): <gurobi.Var *Awaiting Model Update*>,\n",
       " (1, 24, 2): <gurobi.Var *Awaiting Model Update*>,\n",
       " (1, 25, 0): <gurobi.Var *Awaiting Model Update*>,\n",
       " (1, 25, 1): <gurobi.Var *Awaiting Model Update*>,\n",
       " (1, 25, 2): <gurobi.Var *Awaiting Model Update*>,\n",
       " (1, 26, 0): <gurobi.Var *Awaiting Model Update*>,\n",
       " (1, 26, 1): <gurobi.Var *Awaiting Model Update*>,\n",
       " (1, 26, 2): <gurobi.Var *Awaiting Model Update*>,\n",
       " (1, 27, 0): <gurobi.Var *Awaiting Model Update*>,\n",
       " (1, 27, 1): <gurobi.Var *Awaiting Model Update*>,\n",
       " (1, 27, 2): <gurobi.Var *Awaiting Model Update*>,\n",
       " (1, 28, 0): <gurobi.Var *Awaiting Model Update*>,\n",
       " (1, 28, 1): <gurobi.Var *Awaiting Model Update*>,\n",
       " (1, 28, 2): <gurobi.Var *Awaiting Model Update*>,\n",
       " (1, 29, 0): <gurobi.Var *Awaiting Model Update*>,\n",
       " (1, 29, 1): <gurobi.Var *Awaiting Model Update*>,\n",
       " (1, 29, 2): <gurobi.Var *Awaiting Model Update*>,\n",
       " (1, 30, 0): <gurobi.Var *Awaiting Model Update*>,\n",
       " (1, 30, 1): <gurobi.Var *Awaiting Model Update*>,\n",
       " (1, 30, 2): <gurobi.Var *Awaiting Model Update*>,\n",
       " (1, 31, 0): <gurobi.Var *Awaiting Model Update*>,\n",
       " (1, 31, 1): <gurobi.Var *Awaiting Model Update*>,\n",
       " (1, 31, 2): <gurobi.Var *Awaiting Model Update*>,\n",
       " (1, 32, 0): <gurobi.Var *Awaiting Model Update*>,\n",
       " (1, 32, 1): <gurobi.Var *Awaiting Model Update*>,\n",
       " (1, 32, 2): <gurobi.Var *Awaiting Model Update*>,\n",
       " (1, 33, 0): <gurobi.Var *Awaiting Model Update*>,\n",
       " (1, 33, 1): <gurobi.Var *Awaiting Model Update*>,\n",
       " (1, 33, 2): <gurobi.Var *Awaiting Model Update*>,\n",
       " (1, 34, 0): <gurobi.Var *Awaiting Model Update*>,\n",
       " (1, 34, 1): <gurobi.Var *Awaiting Model Update*>,\n",
       " (1, 34, 2): <gurobi.Var *Awaiting Model Update*>,\n",
       " (1, 35, 0): <gurobi.Var *Awaiting Model Update*>,\n",
       " (1, 35, 1): <gurobi.Var *Awaiting Model Update*>,\n",
       " (1, 35, 2): <gurobi.Var *Awaiting Model Update*>,\n",
       " (1, 36, 0): <gurobi.Var *Awaiting Model Update*>,\n",
       " (1, 36, 1): <gurobi.Var *Awaiting Model Update*>,\n",
       " (1, 36, 2): <gurobi.Var *Awaiting Model Update*>,\n",
       " (1, 37, 0): <gurobi.Var *Awaiting Model Update*>,\n",
       " (1, 37, 1): <gurobi.Var *Awaiting Model Update*>,\n",
       " (1, 37, 2): <gurobi.Var *Awaiting Model Update*>,\n",
       " (1, 38, 0): <gurobi.Var *Awaiting Model Update*>,\n",
       " (1, 38, 1): <gurobi.Var *Awaiting Model Update*>,\n",
       " (1, 38, 2): <gurobi.Var *Awaiting Model Update*>,\n",
       " (1, 39, 0): <gurobi.Var *Awaiting Model Update*>,\n",
       " (1, 39, 1): <gurobi.Var *Awaiting Model Update*>,\n",
       " (1, 39, 2): <gurobi.Var *Awaiting Model Update*>,\n",
       " (1, 40, 0): <gurobi.Var *Awaiting Model Update*>,\n",
       " (1, 40, 1): <gurobi.Var *Awaiting Model Update*>,\n",
       " (1, 40, 2): <gurobi.Var *Awaiting Model Update*>,\n",
       " (1, 41, 0): <gurobi.Var *Awaiting Model Update*>,\n",
       " (1, 41, 1): <gurobi.Var *Awaiting Model Update*>,\n",
       " (1, 41, 2): <gurobi.Var *Awaiting Model Update*>,\n",
       " (2, 0, 0): <gurobi.Var *Awaiting Model Update*>,\n",
       " (2, 0, 1): <gurobi.Var *Awaiting Model Update*>,\n",
       " (2, 0, 2): <gurobi.Var *Awaiting Model Update*>,\n",
       " (2, 1, 0): <gurobi.Var *Awaiting Model Update*>,\n",
       " (2, 1, 1): <gurobi.Var *Awaiting Model Update*>,\n",
       " (2, 1, 2): <gurobi.Var *Awaiting Model Update*>,\n",
       " (2, 2, 0): <gurobi.Var *Awaiting Model Update*>,\n",
       " (2, 2, 1): <gurobi.Var *Awaiting Model Update*>,\n",
       " (2, 2, 2): <gurobi.Var *Awaiting Model Update*>,\n",
       " (2, 3, 0): <gurobi.Var *Awaiting Model Update*>,\n",
       " (2, 3, 1): <gurobi.Var *Awaiting Model Update*>,\n",
       " (2, 3, 2): <gurobi.Var *Awaiting Model Update*>,\n",
       " (2, 4, 0): <gurobi.Var *Awaiting Model Update*>,\n",
       " (2, 4, 1): <gurobi.Var *Awaiting Model Update*>,\n",
       " (2, 4, 2): <gurobi.Var *Awaiting Model Update*>,\n",
       " (2, 5, 0): <gurobi.Var *Awaiting Model Update*>,\n",
       " (2, 5, 1): <gurobi.Var *Awaiting Model Update*>,\n",
       " (2, 5, 2): <gurobi.Var *Awaiting Model Update*>,\n",
       " (2, 6, 0): <gurobi.Var *Awaiting Model Update*>,\n",
       " (2, 6, 1): <gurobi.Var *Awaiting Model Update*>,\n",
       " (2, 6, 2): <gurobi.Var *Awaiting Model Update*>,\n",
       " (2, 7, 0): <gurobi.Var *Awaiting Model Update*>,\n",
       " (2, 7, 1): <gurobi.Var *Awaiting Model Update*>,\n",
       " (2, 7, 2): <gurobi.Var *Awaiting Model Update*>,\n",
       " (2, 8, 0): <gurobi.Var *Awaiting Model Update*>,\n",
       " (2, 8, 1): <gurobi.Var *Awaiting Model Update*>,\n",
       " (2, 8, 2): <gurobi.Var *Awaiting Model Update*>,\n",
       " (2, 9, 0): <gurobi.Var *Awaiting Model Update*>,\n",
       " (2, 9, 1): <gurobi.Var *Awaiting Model Update*>,\n",
       " (2, 9, 2): <gurobi.Var *Awaiting Model Update*>,\n",
       " (2, 10, 0): <gurobi.Var *Awaiting Model Update*>,\n",
       " (2, 10, 1): <gurobi.Var *Awaiting Model Update*>,\n",
       " (2, 10, 2): <gurobi.Var *Awaiting Model Update*>,\n",
       " (2, 11, 0): <gurobi.Var *Awaiting Model Update*>,\n",
       " (2, 11, 1): <gurobi.Var *Awaiting Model Update*>,\n",
       " (2, 11, 2): <gurobi.Var *Awaiting Model Update*>,\n",
       " (2, 12, 0): <gurobi.Var *Awaiting Model Update*>,\n",
       " (2, 12, 1): <gurobi.Var *Awaiting Model Update*>,\n",
       " (2, 12, 2): <gurobi.Var *Awaiting Model Update*>,\n",
       " (2, 13, 0): <gurobi.Var *Awaiting Model Update*>,\n",
       " (2, 13, 1): <gurobi.Var *Awaiting Model Update*>,\n",
       " (2, 13, 2): <gurobi.Var *Awaiting Model Update*>,\n",
       " (2, 14, 0): <gurobi.Var *Awaiting Model Update*>,\n",
       " (2, 14, 1): <gurobi.Var *Awaiting Model Update*>,\n",
       " (2, 14, 2): <gurobi.Var *Awaiting Model Update*>,\n",
       " (2, 15, 0): <gurobi.Var *Awaiting Model Update*>,\n",
       " (2, 15, 1): <gurobi.Var *Awaiting Model Update*>,\n",
       " (2, 15, 2): <gurobi.Var *Awaiting Model Update*>,\n",
       " (2, 16, 0): <gurobi.Var *Awaiting Model Update*>,\n",
       " (2, 16, 1): <gurobi.Var *Awaiting Model Update*>,\n",
       " (2, 16, 2): <gurobi.Var *Awaiting Model Update*>,\n",
       " (2, 17, 0): <gurobi.Var *Awaiting Model Update*>,\n",
       " (2, 17, 1): <gurobi.Var *Awaiting Model Update*>,\n",
       " (2, 17, 2): <gurobi.Var *Awaiting Model Update*>,\n",
       " (2, 18, 0): <gurobi.Var *Awaiting Model Update*>,\n",
       " (2, 18, 1): <gurobi.Var *Awaiting Model Update*>,\n",
       " (2, 18, 2): <gurobi.Var *Awaiting Model Update*>,\n",
       " (2, 19, 0): <gurobi.Var *Awaiting Model Update*>,\n",
       " (2, 19, 1): <gurobi.Var *Awaiting Model Update*>,\n",
       " (2, 19, 2): <gurobi.Var *Awaiting Model Update*>,\n",
       " (2, 20, 0): <gurobi.Var *Awaiting Model Update*>,\n",
       " (2, 20, 1): <gurobi.Var *Awaiting Model Update*>,\n",
       " (2, 20, 2): <gurobi.Var *Awaiting Model Update*>,\n",
       " (2, 21, 0): <gurobi.Var *Awaiting Model Update*>,\n",
       " (2, 21, 1): <gurobi.Var *Awaiting Model Update*>,\n",
       " (2, 21, 2): <gurobi.Var *Awaiting Model Update*>,\n",
       " (2, 22, 0): <gurobi.Var *Awaiting Model Update*>,\n",
       " (2, 22, 1): <gurobi.Var *Awaiting Model Update*>,\n",
       " (2, 22, 2): <gurobi.Var *Awaiting Model Update*>,\n",
       " (2, 23, 0): <gurobi.Var *Awaiting Model Update*>,\n",
       " (2, 23, 1): <gurobi.Var *Awaiting Model Update*>,\n",
       " (2, 23, 2): <gurobi.Var *Awaiting Model Update*>,\n",
       " (2, 24, 0): <gurobi.Var *Awaiting Model Update*>,\n",
       " (2, 24, 1): <gurobi.Var *Awaiting Model Update*>,\n",
       " (2, 24, 2): <gurobi.Var *Awaiting Model Update*>,\n",
       " (2, 25, 0): <gurobi.Var *Awaiting Model Update*>,\n",
       " (2, 25, 1): <gurobi.Var *Awaiting Model Update*>,\n",
       " (2, 25, 2): <gurobi.Var *Awaiting Model Update*>,\n",
       " (2, 26, 0): <gurobi.Var *Awaiting Model Update*>,\n",
       " (2, 26, 1): <gurobi.Var *Awaiting Model Update*>,\n",
       " (2, 26, 2): <gurobi.Var *Awaiting Model Update*>,\n",
       " (2, 27, 0): <gurobi.Var *Awaiting Model Update*>,\n",
       " (2, 27, 1): <gurobi.Var *Awaiting Model Update*>,\n",
       " (2, 27, 2): <gurobi.Var *Awaiting Model Update*>,\n",
       " (2, 28, 0): <gurobi.Var *Awaiting Model Update*>,\n",
       " (2, 28, 1): <gurobi.Var *Awaiting Model Update*>,\n",
       " (2, 28, 2): <gurobi.Var *Awaiting Model Update*>,\n",
       " (2, 29, 0): <gurobi.Var *Awaiting Model Update*>,\n",
       " (2, 29, 1): <gurobi.Var *Awaiting Model Update*>,\n",
       " (2, 29, 2): <gurobi.Var *Awaiting Model Update*>,\n",
       " (2, 30, 0): <gurobi.Var *Awaiting Model Update*>,\n",
       " (2, 30, 1): <gurobi.Var *Awaiting Model Update*>,\n",
       " (2, 30, 2): <gurobi.Var *Awaiting Model Update*>,\n",
       " (2, 31, 0): <gurobi.Var *Awaiting Model Update*>,\n",
       " (2, 31, 1): <gurobi.Var *Awaiting Model Update*>,\n",
       " (2, 31, 2): <gurobi.Var *Awaiting Model Update*>,\n",
       " (2, 32, 0): <gurobi.Var *Awaiting Model Update*>,\n",
       " (2, 32, 1): <gurobi.Var *Awaiting Model Update*>,\n",
       " (2, 32, 2): <gurobi.Var *Awaiting Model Update*>,\n",
       " (2, 33, 0): <gurobi.Var *Awaiting Model Update*>,\n",
       " (2, 33, 1): <gurobi.Var *Awaiting Model Update*>,\n",
       " (2, 33, 2): <gurobi.Var *Awaiting Model Update*>,\n",
       " (2, 34, 0): <gurobi.Var *Awaiting Model Update*>,\n",
       " (2, 34, 1): <gurobi.Var *Awaiting Model Update*>,\n",
       " (2, 34, 2): <gurobi.Var *Awaiting Model Update*>,\n",
       " (2, 35, 0): <gurobi.Var *Awaiting Model Update*>,\n",
       " (2, 35, 1): <gurobi.Var *Awaiting Model Update*>,\n",
       " (2, 35, 2): <gurobi.Var *Awaiting Model Update*>,\n",
       " (2, 36, 0): <gurobi.Var *Awaiting Model Update*>,\n",
       " (2, 36, 1): <gurobi.Var *Awaiting Model Update*>,\n",
       " (2, 36, 2): <gurobi.Var *Awaiting Model Update*>,\n",
       " (2, 37, 0): <gurobi.Var *Awaiting Model Update*>,\n",
       " (2, 37, 1): <gurobi.Var *Awaiting Model Update*>,\n",
       " (2, 37, 2): <gurobi.Var *Awaiting Model Update*>,\n",
       " (2, 38, 0): <gurobi.Var *Awaiting Model Update*>,\n",
       " (2, 38, 1): <gurobi.Var *Awaiting Model Update*>,\n",
       " (2, 38, 2): <gurobi.Var *Awaiting Model Update*>,\n",
       " (2, 39, 0): <gurobi.Var *Awaiting Model Update*>,\n",
       " (2, 39, 1): <gurobi.Var *Awaiting Model Update*>,\n",
       " (2, 39, 2): <gurobi.Var *Awaiting Model Update*>,\n",
       " (2, 40, 0): <gurobi.Var *Awaiting Model Update*>,\n",
       " (2, 40, 1): <gurobi.Var *Awaiting Model Update*>,\n",
       " (2, 40, 2): <gurobi.Var *Awaiting Model Update*>,\n",
       " (2, 41, 0): <gurobi.Var *Awaiting Model Update*>,\n",
       " (2, 41, 1): <gurobi.Var *Awaiting Model Update*>,\n",
       " (2, 41, 2): <gurobi.Var *Awaiting Model Update*>,\n",
       " (3, 0, 0): <gurobi.Var *Awaiting Model Update*>,\n",
       " (3, 0, 1): <gurobi.Var *Awaiting Model Update*>,\n",
       " (3, 0, 2): <gurobi.Var *Awaiting Model Update*>,\n",
       " (3, 1, 0): <gurobi.Var *Awaiting Model Update*>,\n",
       " (3, 1, 1): <gurobi.Var *Awaiting Model Update*>,\n",
       " (3, 1, 2): <gurobi.Var *Awaiting Model Update*>,\n",
       " (3, 2, 0): <gurobi.Var *Awaiting Model Update*>,\n",
       " (3, 2, 1): <gurobi.Var *Awaiting Model Update*>,\n",
       " (3, 2, 2): <gurobi.Var *Awaiting Model Update*>,\n",
       " (3, 3, 0): <gurobi.Var *Awaiting Model Update*>,\n",
       " (3, 3, 1): <gurobi.Var *Awaiting Model Update*>,\n",
       " (3, 3, 2): <gurobi.Var *Awaiting Model Update*>,\n",
       " (3, 4, 0): <gurobi.Var *Awaiting Model Update*>,\n",
       " (3, 4, 1): <gurobi.Var *Awaiting Model Update*>,\n",
       " (3, 4, 2): <gurobi.Var *Awaiting Model Update*>,\n",
       " (3, 5, 0): <gurobi.Var *Awaiting Model Update*>,\n",
       " (3, 5, 1): <gurobi.Var *Awaiting Model Update*>,\n",
       " (3, 5, 2): <gurobi.Var *Awaiting Model Update*>,\n",
       " (3, 6, 0): <gurobi.Var *Awaiting Model Update*>,\n",
       " (3, 6, 1): <gurobi.Var *Awaiting Model Update*>,\n",
       " (3, 6, 2): <gurobi.Var *Awaiting Model Update*>,\n",
       " (3, 7, 0): <gurobi.Var *Awaiting Model Update*>,\n",
       " (3, 7, 1): <gurobi.Var *Awaiting Model Update*>,\n",
       " (3, 7, 2): <gurobi.Var *Awaiting Model Update*>,\n",
       " (3, 8, 0): <gurobi.Var *Awaiting Model Update*>,\n",
       " (3, 8, 1): <gurobi.Var *Awaiting Model Update*>,\n",
       " (3, 8, 2): <gurobi.Var *Awaiting Model Update*>,\n",
       " (3, 9, 0): <gurobi.Var *Awaiting Model Update*>,\n",
       " (3, 9, 1): <gurobi.Var *Awaiting Model Update*>,\n",
       " (3, 9, 2): <gurobi.Var *Awaiting Model Update*>,\n",
       " (3, 10, 0): <gurobi.Var *Awaiting Model Update*>,\n",
       " (3, 10, 1): <gurobi.Var *Awaiting Model Update*>,\n",
       " (3, 10, 2): <gurobi.Var *Awaiting Model Update*>,\n",
       " (3, 11, 0): <gurobi.Var *Awaiting Model Update*>,\n",
       " (3, 11, 1): <gurobi.Var *Awaiting Model Update*>,\n",
       " (3, 11, 2): <gurobi.Var *Awaiting Model Update*>,\n",
       " (3, 12, 0): <gurobi.Var *Awaiting Model Update*>,\n",
       " (3, 12, 1): <gurobi.Var *Awaiting Model Update*>,\n",
       " (3, 12, 2): <gurobi.Var *Awaiting Model Update*>,\n",
       " (3, 13, 0): <gurobi.Var *Awaiting Model Update*>,\n",
       " (3, 13, 1): <gurobi.Var *Awaiting Model Update*>,\n",
       " (3, 13, 2): <gurobi.Var *Awaiting Model Update*>,\n",
       " (3, 14, 0): <gurobi.Var *Awaiting Model Update*>,\n",
       " (3, 14, 1): <gurobi.Var *Awaiting Model Update*>,\n",
       " (3, 14, 2): <gurobi.Var *Awaiting Model Update*>,\n",
       " (3, 15, 0): <gurobi.Var *Awaiting Model Update*>,\n",
       " (3, 15, 1): <gurobi.Var *Awaiting Model Update*>,\n",
       " (3, 15, 2): <gurobi.Var *Awaiting Model Update*>,\n",
       " (3, 16, 0): <gurobi.Var *Awaiting Model Update*>,\n",
       " (3, 16, 1): <gurobi.Var *Awaiting Model Update*>,\n",
       " (3, 16, 2): <gurobi.Var *Awaiting Model Update*>,\n",
       " (3, 17, 0): <gurobi.Var *Awaiting Model Update*>,\n",
       " (3, 17, 1): <gurobi.Var *Awaiting Model Update*>,\n",
       " (3, 17, 2): <gurobi.Var *Awaiting Model Update*>,\n",
       " (3, 18, 0): <gurobi.Var *Awaiting Model Update*>,\n",
       " (3, 18, 1): <gurobi.Var *Awaiting Model Update*>,\n",
       " (3, 18, 2): <gurobi.Var *Awaiting Model Update*>,\n",
       " (3, 19, 0): <gurobi.Var *Awaiting Model Update*>,\n",
       " (3, 19, 1): <gurobi.Var *Awaiting Model Update*>,\n",
       " (3, 19, 2): <gurobi.Var *Awaiting Model Update*>,\n",
       " (3, 20, 0): <gurobi.Var *Awaiting Model Update*>,\n",
       " (3, 20, 1): <gurobi.Var *Awaiting Model Update*>,\n",
       " (3, 20, 2): <gurobi.Var *Awaiting Model Update*>,\n",
       " (3, 21, 0): <gurobi.Var *Awaiting Model Update*>,\n",
       " (3, 21, 1): <gurobi.Var *Awaiting Model Update*>,\n",
       " (3, 21, 2): <gurobi.Var *Awaiting Model Update*>,\n",
       " (3, 22, 0): <gurobi.Var *Awaiting Model Update*>,\n",
       " (3, 22, 1): <gurobi.Var *Awaiting Model Update*>,\n",
       " (3, 22, 2): <gurobi.Var *Awaiting Model Update*>,\n",
       " (3, 23, 0): <gurobi.Var *Awaiting Model Update*>,\n",
       " (3, 23, 1): <gurobi.Var *Awaiting Model Update*>,\n",
       " (3, 23, 2): <gurobi.Var *Awaiting Model Update*>,\n",
       " (3, 24, 0): <gurobi.Var *Awaiting Model Update*>,\n",
       " (3, 24, 1): <gurobi.Var *Awaiting Model Update*>,\n",
       " (3, 24, 2): <gurobi.Var *Awaiting Model Update*>,\n",
       " (3, 25, 0): <gurobi.Var *Awaiting Model Update*>,\n",
       " (3, 25, 1): <gurobi.Var *Awaiting Model Update*>,\n",
       " (3, 25, 2): <gurobi.Var *Awaiting Model Update*>,\n",
       " (3, 26, 0): <gurobi.Var *Awaiting Model Update*>,\n",
       " (3, 26, 1): <gurobi.Var *Awaiting Model Update*>,\n",
       " (3, 26, 2): <gurobi.Var *Awaiting Model Update*>,\n",
       " (3, 27, 0): <gurobi.Var *Awaiting Model Update*>,\n",
       " (3, 27, 1): <gurobi.Var *Awaiting Model Update*>,\n",
       " (3, 27, 2): <gurobi.Var *Awaiting Model Update*>,\n",
       " (3, 28, 0): <gurobi.Var *Awaiting Model Update*>,\n",
       " (3, 28, 1): <gurobi.Var *Awaiting Model Update*>,\n",
       " (3, 28, 2): <gurobi.Var *Awaiting Model Update*>,\n",
       " (3, 29, 0): <gurobi.Var *Awaiting Model Update*>,\n",
       " (3, 29, 1): <gurobi.Var *Awaiting Model Update*>,\n",
       " (3, 29, 2): <gurobi.Var *Awaiting Model Update*>,\n",
       " (3, 30, 0): <gurobi.Var *Awaiting Model Update*>,\n",
       " (3, 30, 1): <gurobi.Var *Awaiting Model Update*>,\n",
       " (3, 30, 2): <gurobi.Var *Awaiting Model Update*>,\n",
       " (3, 31, 0): <gurobi.Var *Awaiting Model Update*>,\n",
       " (3, 31, 1): <gurobi.Var *Awaiting Model Update*>,\n",
       " (3, 31, 2): <gurobi.Var *Awaiting Model Update*>,\n",
       " (3, 32, 0): <gurobi.Var *Awaiting Model Update*>,\n",
       " (3, 32, 1): <gurobi.Var *Awaiting Model Update*>,\n",
       " (3, 32, 2): <gurobi.Var *Awaiting Model Update*>,\n",
       " (3, 33, 0): <gurobi.Var *Awaiting Model Update*>,\n",
       " (3, 33, 1): <gurobi.Var *Awaiting Model Update*>,\n",
       " (3, 33, 2): <gurobi.Var *Awaiting Model Update*>,\n",
       " (3, 34, 0): <gurobi.Var *Awaiting Model Update*>,\n",
       " (3, 34, 1): <gurobi.Var *Awaiting Model Update*>,\n",
       " (3, 34, 2): <gurobi.Var *Awaiting Model Update*>,\n",
       " (3, 35, 0): <gurobi.Var *Awaiting Model Update*>,\n",
       " (3, 35, 1): <gurobi.Var *Awaiting Model Update*>,\n",
       " (3, 35, 2): <gurobi.Var *Awaiting Model Update*>,\n",
       " (3, 36, 0): <gurobi.Var *Awaiting Model Update*>,\n",
       " (3, 36, 1): <gurobi.Var *Awaiting Model Update*>,\n",
       " (3, 36, 2): <gurobi.Var *Awaiting Model Update*>,\n",
       " (3, 37, 0): <gurobi.Var *Awaiting Model Update*>,\n",
       " (3, 37, 1): <gurobi.Var *Awaiting Model Update*>,\n",
       " (3, 37, 2): <gurobi.Var *Awaiting Model Update*>,\n",
       " (3, 38, 0): <gurobi.Var *Awaiting Model Update*>,\n",
       " (3, 38, 1): <gurobi.Var *Awaiting Model Update*>,\n",
       " (3, 38, 2): <gurobi.Var *Awaiting Model Update*>,\n",
       " (3, 39, 0): <gurobi.Var *Awaiting Model Update*>,\n",
       " (3, 39, 1): <gurobi.Var *Awaiting Model Update*>,\n",
       " (3, 39, 2): <gurobi.Var *Awaiting Model Update*>,\n",
       " (3, 40, 0): <gurobi.Var *Awaiting Model Update*>,\n",
       " (3, 40, 1): <gurobi.Var *Awaiting Model Update*>,\n",
       " (3, 40, 2): <gurobi.Var *Awaiting Model Update*>,\n",
       " (3, 41, 0): <gurobi.Var *Awaiting Model Update*>,\n",
       " (3, 41, 1): <gurobi.Var *Awaiting Model Update*>,\n",
       " (3, 41, 2): <gurobi.Var *Awaiting Model Update*>,\n",
       " (4, 0, 0): <gurobi.Var *Awaiting Model Update*>,\n",
       " (4, 0, 1): <gurobi.Var *Awaiting Model Update*>,\n",
       " (4, 0, 2): <gurobi.Var *Awaiting Model Update*>,\n",
       " (4, 1, 0): <gurobi.Var *Awaiting Model Update*>,\n",
       " (4, 1, 1): <gurobi.Var *Awaiting Model Update*>,\n",
       " (4, 1, 2): <gurobi.Var *Awaiting Model Update*>,\n",
       " (4, 2, 0): <gurobi.Var *Awaiting Model Update*>,\n",
       " (4, 2, 1): <gurobi.Var *Awaiting Model Update*>,\n",
       " (4, 2, 2): <gurobi.Var *Awaiting Model Update*>,\n",
       " (4, 3, 0): <gurobi.Var *Awaiting Model Update*>,\n",
       " (4, 3, 1): <gurobi.Var *Awaiting Model Update*>,\n",
       " (4, 3, 2): <gurobi.Var *Awaiting Model Update*>,\n",
       " (4, 4, 0): <gurobi.Var *Awaiting Model Update*>,\n",
       " (4, 4, 1): <gurobi.Var *Awaiting Model Update*>,\n",
       " (4, 4, 2): <gurobi.Var *Awaiting Model Update*>,\n",
       " (4, 5, 0): <gurobi.Var *Awaiting Model Update*>,\n",
       " (4, 5, 1): <gurobi.Var *Awaiting Model Update*>,\n",
       " (4, 5, 2): <gurobi.Var *Awaiting Model Update*>,\n",
       " (4, 6, 0): <gurobi.Var *Awaiting Model Update*>,\n",
       " (4, 6, 1): <gurobi.Var *Awaiting Model Update*>,\n",
       " (4, 6, 2): <gurobi.Var *Awaiting Model Update*>,\n",
       " (4, 7, 0): <gurobi.Var *Awaiting Model Update*>,\n",
       " (4, 7, 1): <gurobi.Var *Awaiting Model Update*>,\n",
       " (4, 7, 2): <gurobi.Var *Awaiting Model Update*>,\n",
       " (4, 8, 0): <gurobi.Var *Awaiting Model Update*>,\n",
       " (4, 8, 1): <gurobi.Var *Awaiting Model Update*>,\n",
       " (4, 8, 2): <gurobi.Var *Awaiting Model Update*>,\n",
       " (4, 9, 0): <gurobi.Var *Awaiting Model Update*>,\n",
       " (4, 9, 1): <gurobi.Var *Awaiting Model Update*>,\n",
       " (4, 9, 2): <gurobi.Var *Awaiting Model Update*>,\n",
       " (4, 10, 0): <gurobi.Var *Awaiting Model Update*>,\n",
       " (4, 10, 1): <gurobi.Var *Awaiting Model Update*>,\n",
       " (4, 10, 2): <gurobi.Var *Awaiting Model Update*>,\n",
       " (4, 11, 0): <gurobi.Var *Awaiting Model Update*>,\n",
       " (4, 11, 1): <gurobi.Var *Awaiting Model Update*>,\n",
       " (4, 11, 2): <gurobi.Var *Awaiting Model Update*>,\n",
       " (4, 12, 0): <gurobi.Var *Awaiting Model Update*>,\n",
       " (4, 12, 1): <gurobi.Var *Awaiting Model Update*>,\n",
       " (4, 12, 2): <gurobi.Var *Awaiting Model Update*>,\n",
       " (4, 13, 0): <gurobi.Var *Awaiting Model Update*>,\n",
       " (4, 13, 1): <gurobi.Var *Awaiting Model Update*>,\n",
       " (4, 13, 2): <gurobi.Var *Awaiting Model Update*>,\n",
       " (4, 14, 0): <gurobi.Var *Awaiting Model Update*>,\n",
       " (4, 14, 1): <gurobi.Var *Awaiting Model Update*>,\n",
       " (4, 14, 2): <gurobi.Var *Awaiting Model Update*>,\n",
       " (4, 15, 0): <gurobi.Var *Awaiting Model Update*>,\n",
       " (4, 15, 1): <gurobi.Var *Awaiting Model Update*>,\n",
       " (4, 15, 2): <gurobi.Var *Awaiting Model Update*>,\n",
       " (4, 16, 0): <gurobi.Var *Awaiting Model Update*>,\n",
       " (4, 16, 1): <gurobi.Var *Awaiting Model Update*>,\n",
       " (4, 16, 2): <gurobi.Var *Awaiting Model Update*>,\n",
       " (4, 17, 0): <gurobi.Var *Awaiting Model Update*>,\n",
       " (4, 17, 1): <gurobi.Var *Awaiting Model Update*>,\n",
       " (4, 17, 2): <gurobi.Var *Awaiting Model Update*>,\n",
       " (4, 18, 0): <gurobi.Var *Awaiting Model Update*>,\n",
       " (4, 18, 1): <gurobi.Var *Awaiting Model Update*>,\n",
       " (4, 18, 2): <gurobi.Var *Awaiting Model Update*>,\n",
       " (4, 19, 0): <gurobi.Var *Awaiting Model Update*>,\n",
       " (4, 19, 1): <gurobi.Var *Awaiting Model Update*>,\n",
       " (4, 19, 2): <gurobi.Var *Awaiting Model Update*>,\n",
       " (4, 20, 0): <gurobi.Var *Awaiting Model Update*>,\n",
       " (4, 20, 1): <gurobi.Var *Awaiting Model Update*>,\n",
       " (4, 20, 2): <gurobi.Var *Awaiting Model Update*>,\n",
       " (4, 21, 0): <gurobi.Var *Awaiting Model Update*>,\n",
       " (4, 21, 1): <gurobi.Var *Awaiting Model Update*>,\n",
       " (4, 21, 2): <gurobi.Var *Awaiting Model Update*>,\n",
       " (4, 22, 0): <gurobi.Var *Awaiting Model Update*>,\n",
       " (4, 22, 1): <gurobi.Var *Awaiting Model Update*>,\n",
       " (4, 22, 2): <gurobi.Var *Awaiting Model Update*>,\n",
       " (4, 23, 0): <gurobi.Var *Awaiting Model Update*>,\n",
       " (4, 23, 1): <gurobi.Var *Awaiting Model Update*>,\n",
       " (4, 23, 2): <gurobi.Var *Awaiting Model Update*>,\n",
       " (4, 24, 0): <gurobi.Var *Awaiting Model Update*>,\n",
       " (4, 24, 1): <gurobi.Var *Awaiting Model Update*>,\n",
       " (4, 24, 2): <gurobi.Var *Awaiting Model Update*>,\n",
       " (4, 25, 0): <gurobi.Var *Awaiting Model Update*>,\n",
       " (4, 25, 1): <gurobi.Var *Awaiting Model Update*>,\n",
       " (4, 25, 2): <gurobi.Var *Awaiting Model Update*>,\n",
       " (4, 26, 0): <gurobi.Var *Awaiting Model Update*>,\n",
       " (4, 26, 1): <gurobi.Var *Awaiting Model Update*>,\n",
       " (4, 26, 2): <gurobi.Var *Awaiting Model Update*>,\n",
       " (4, 27, 0): <gurobi.Var *Awaiting Model Update*>,\n",
       " (4, 27, 1): <gurobi.Var *Awaiting Model Update*>,\n",
       " (4, 27, 2): <gurobi.Var *Awaiting Model Update*>,\n",
       " (4, 28, 0): <gurobi.Var *Awaiting Model Update*>,\n",
       " (4, 28, 1): <gurobi.Var *Awaiting Model Update*>,\n",
       " (4, 28, 2): <gurobi.Var *Awaiting Model Update*>,\n",
       " (4, 29, 0): <gurobi.Var *Awaiting Model Update*>,\n",
       " (4, 29, 1): <gurobi.Var *Awaiting Model Update*>,\n",
       " (4, 29, 2): <gurobi.Var *Awaiting Model Update*>,\n",
       " (4, 30, 0): <gurobi.Var *Awaiting Model Update*>,\n",
       " (4, 30, 1): <gurobi.Var *Awaiting Model Update*>,\n",
       " (4, 30, 2): <gurobi.Var *Awaiting Model Update*>,\n",
       " (4, 31, 0): <gurobi.Var *Awaiting Model Update*>,\n",
       " (4, 31, 1): <gurobi.Var *Awaiting Model Update*>,\n",
       " (4, 31, 2): <gurobi.Var *Awaiting Model Update*>,\n",
       " (4, 32, 0): <gurobi.Var *Awaiting Model Update*>,\n",
       " (4, 32, 1): <gurobi.Var *Awaiting Model Update*>,\n",
       " (4, 32, 2): <gurobi.Var *Awaiting Model Update*>,\n",
       " (4, 33, 0): <gurobi.Var *Awaiting Model Update*>,\n",
       " (4, 33, 1): <gurobi.Var *Awaiting Model Update*>,\n",
       " (4, 33, 2): <gurobi.Var *Awaiting Model Update*>,\n",
       " (4, 34, 0): <gurobi.Var *Awaiting Model Update*>,\n",
       " (4, 34, 1): <gurobi.Var *Awaiting Model Update*>,\n",
       " (4, 34, 2): <gurobi.Var *Awaiting Model Update*>,\n",
       " (4, 35, 0): <gurobi.Var *Awaiting Model Update*>,\n",
       " (4, 35, 1): <gurobi.Var *Awaiting Model Update*>,\n",
       " (4, 35, 2): <gurobi.Var *Awaiting Model Update*>,\n",
       " (4, 36, 0): <gurobi.Var *Awaiting Model Update*>,\n",
       " (4, 36, 1): <gurobi.Var *Awaiting Model Update*>,\n",
       " (4, 36, 2): <gurobi.Var *Awaiting Model Update*>,\n",
       " (4, 37, 0): <gurobi.Var *Awaiting Model Update*>,\n",
       " (4, 37, 1): <gurobi.Var *Awaiting Model Update*>,\n",
       " (4, 37, 2): <gurobi.Var *Awaiting Model Update*>,\n",
       " (4, 38, 0): <gurobi.Var *Awaiting Model Update*>,\n",
       " (4, 38, 1): <gurobi.Var *Awaiting Model Update*>,\n",
       " (4, 38, 2): <gurobi.Var *Awaiting Model Update*>,\n",
       " (4, 39, 0): <gurobi.Var *Awaiting Model Update*>,\n",
       " (4, 39, 1): <gurobi.Var *Awaiting Model Update*>,\n",
       " (4, 39, 2): <gurobi.Var *Awaiting Model Update*>,\n",
       " (4, 40, 0): <gurobi.Var *Awaiting Model Update*>,\n",
       " (4, 40, 1): <gurobi.Var *Awaiting Model Update*>,\n",
       " (4, 40, 2): <gurobi.Var *Awaiting Model Update*>,\n",
       " (4, 41, 0): <gurobi.Var *Awaiting Model Update*>,\n",
       " (4, 41, 1): <gurobi.Var *Awaiting Model Update*>,\n",
       " (4, 41, 2): <gurobi.Var *Awaiting Model Update*>,\n",
       " (5, 0, 0): <gurobi.Var *Awaiting Model Update*>,\n",
       " (5, 0, 1): <gurobi.Var *Awaiting Model Update*>,\n",
       " (5, 0, 2): <gurobi.Var *Awaiting Model Update*>,\n",
       " (5, 1, 0): <gurobi.Var *Awaiting Model Update*>,\n",
       " (5, 1, 1): <gurobi.Var *Awaiting Model Update*>,\n",
       " (5, 1, 2): <gurobi.Var *Awaiting Model Update*>,\n",
       " (5, 2, 0): <gurobi.Var *Awaiting Model Update*>,\n",
       " (5, 2, 1): <gurobi.Var *Awaiting Model Update*>,\n",
       " (5, 2, 2): <gurobi.Var *Awaiting Model Update*>,\n",
       " (5, 3, 0): <gurobi.Var *Awaiting Model Update*>,\n",
       " (5, 3, 1): <gurobi.Var *Awaiting Model Update*>,\n",
       " (5, 3, 2): <gurobi.Var *Awaiting Model Update*>,\n",
       " (5, 4, 0): <gurobi.Var *Awaiting Model Update*>,\n",
       " (5, 4, 1): <gurobi.Var *Awaiting Model Update*>,\n",
       " (5, 4, 2): <gurobi.Var *Awaiting Model Update*>,\n",
       " (5, 5, 0): <gurobi.Var *Awaiting Model Update*>,\n",
       " (5, 5, 1): <gurobi.Var *Awaiting Model Update*>,\n",
       " (5, 5, 2): <gurobi.Var *Awaiting Model Update*>,\n",
       " (5, 6, 0): <gurobi.Var *Awaiting Model Update*>,\n",
       " (5, 6, 1): <gurobi.Var *Awaiting Model Update*>,\n",
       " (5, 6, 2): <gurobi.Var *Awaiting Model Update*>,\n",
       " (5, 7, 0): <gurobi.Var *Awaiting Model Update*>,\n",
       " (5, 7, 1): <gurobi.Var *Awaiting Model Update*>,\n",
       " (5, 7, 2): <gurobi.Var *Awaiting Model Update*>,\n",
       " (5, 8, 0): <gurobi.Var *Awaiting Model Update*>,\n",
       " (5, 8, 1): <gurobi.Var *Awaiting Model Update*>,\n",
       " (5, 8, 2): <gurobi.Var *Awaiting Model Update*>,\n",
       " (5, 9, 0): <gurobi.Var *Awaiting Model Update*>,\n",
       " (5, 9, 1): <gurobi.Var *Awaiting Model Update*>,\n",
       " (5, 9, 2): <gurobi.Var *Awaiting Model Update*>,\n",
       " (5, 10, 0): <gurobi.Var *Awaiting Model Update*>,\n",
       " (5, 10, 1): <gurobi.Var *Awaiting Model Update*>,\n",
       " (5, 10, 2): <gurobi.Var *Awaiting Model Update*>,\n",
       " (5, 11, 0): <gurobi.Var *Awaiting Model Update*>,\n",
       " (5, 11, 1): <gurobi.Var *Awaiting Model Update*>,\n",
       " (5, 11, 2): <gurobi.Var *Awaiting Model Update*>,\n",
       " (5, 12, 0): <gurobi.Var *Awaiting Model Update*>,\n",
       " (5, 12, 1): <gurobi.Var *Awaiting Model Update*>,\n",
       " (5, 12, 2): <gurobi.Var *Awaiting Model Update*>,\n",
       " (5, 13, 0): <gurobi.Var *Awaiting Model Update*>,\n",
       " (5, 13, 1): <gurobi.Var *Awaiting Model Update*>,\n",
       " (5, 13, 2): <gurobi.Var *Awaiting Model Update*>,\n",
       " (5, 14, 0): <gurobi.Var *Awaiting Model Update*>,\n",
       " (5, 14, 1): <gurobi.Var *Awaiting Model Update*>,\n",
       " (5, 14, 2): <gurobi.Var *Awaiting Model Update*>,\n",
       " (5, 15, 0): <gurobi.Var *Awaiting Model Update*>,\n",
       " (5, 15, 1): <gurobi.Var *Awaiting Model Update*>,\n",
       " (5, 15, 2): <gurobi.Var *Awaiting Model Update*>,\n",
       " (5, 16, 0): <gurobi.Var *Awaiting Model Update*>,\n",
       " (5, 16, 1): <gurobi.Var *Awaiting Model Update*>,\n",
       " (5, 16, 2): <gurobi.Var *Awaiting Model Update*>,\n",
       " (5, 17, 0): <gurobi.Var *Awaiting Model Update*>,\n",
       " (5, 17, 1): <gurobi.Var *Awaiting Model Update*>,\n",
       " (5, 17, 2): <gurobi.Var *Awaiting Model Update*>,\n",
       " (5, 18, 0): <gurobi.Var *Awaiting Model Update*>,\n",
       " (5, 18, 1): <gurobi.Var *Awaiting Model Update*>,\n",
       " (5, 18, 2): <gurobi.Var *Awaiting Model Update*>,\n",
       " (5, 19, 0): <gurobi.Var *Awaiting Model Update*>,\n",
       " (5, 19, 1): <gurobi.Var *Awaiting Model Update*>,\n",
       " (5, 19, 2): <gurobi.Var *Awaiting Model Update*>,\n",
       " (5, 20, 0): <gurobi.Var *Awaiting Model Update*>,\n",
       " (5, 20, 1): <gurobi.Var *Awaiting Model Update*>,\n",
       " (5, 20, 2): <gurobi.Var *Awaiting Model Update*>,\n",
       " (5, 21, 0): <gurobi.Var *Awaiting Model Update*>,\n",
       " (5, 21, 1): <gurobi.Var *Awaiting Model Update*>,\n",
       " (5, 21, 2): <gurobi.Var *Awaiting Model Update*>,\n",
       " (5, 22, 0): <gurobi.Var *Awaiting Model Update*>,\n",
       " (5, 22, 1): <gurobi.Var *Awaiting Model Update*>,\n",
       " (5, 22, 2): <gurobi.Var *Awaiting Model Update*>,\n",
       " (5, 23, 0): <gurobi.Var *Awaiting Model Update*>,\n",
       " (5, 23, 1): <gurobi.Var *Awaiting Model Update*>,\n",
       " (5, 23, 2): <gurobi.Var *Awaiting Model Update*>,\n",
       " (5, 24, 0): <gurobi.Var *Awaiting Model Update*>,\n",
       " (5, 24, 1): <gurobi.Var *Awaiting Model Update*>,\n",
       " (5, 24, 2): <gurobi.Var *Awaiting Model Update*>,\n",
       " (5, 25, 0): <gurobi.Var *Awaiting Model Update*>,\n",
       " (5, 25, 1): <gurobi.Var *Awaiting Model Update*>,\n",
       " (5, 25, 2): <gurobi.Var *Awaiting Model Update*>,\n",
       " (5, 26, 0): <gurobi.Var *Awaiting Model Update*>,\n",
       " (5, 26, 1): <gurobi.Var *Awaiting Model Update*>,\n",
       " (5, 26, 2): <gurobi.Var *Awaiting Model Update*>,\n",
       " (5, 27, 0): <gurobi.Var *Awaiting Model Update*>,\n",
       " (5, 27, 1): <gurobi.Var *Awaiting Model Update*>,\n",
       " (5, 27, 2): <gurobi.Var *Awaiting Model Update*>,\n",
       " (5, 28, 0): <gurobi.Var *Awaiting Model Update*>,\n",
       " (5, 28, 1): <gurobi.Var *Awaiting Model Update*>,\n",
       " (5, 28, 2): <gurobi.Var *Awaiting Model Update*>,\n",
       " (5, 29, 0): <gurobi.Var *Awaiting Model Update*>,\n",
       " (5, 29, 1): <gurobi.Var *Awaiting Model Update*>,\n",
       " (5, 29, 2): <gurobi.Var *Awaiting Model Update*>,\n",
       " (5, 30, 0): <gurobi.Var *Awaiting Model Update*>,\n",
       " (5, 30, 1): <gurobi.Var *Awaiting Model Update*>,\n",
       " (5, 30, 2): <gurobi.Var *Awaiting Model Update*>,\n",
       " (5, 31, 0): <gurobi.Var *Awaiting Model Update*>,\n",
       " (5, 31, 1): <gurobi.Var *Awaiting Model Update*>,\n",
       " (5, 31, 2): <gurobi.Var *Awaiting Model Update*>,\n",
       " (5, 32, 0): <gurobi.Var *Awaiting Model Update*>,\n",
       " (5, 32, 1): <gurobi.Var *Awaiting Model Update*>,\n",
       " (5, 32, 2): <gurobi.Var *Awaiting Model Update*>,\n",
       " (5, 33, 0): <gurobi.Var *Awaiting Model Update*>,\n",
       " (5, 33, 1): <gurobi.Var *Awaiting Model Update*>,\n",
       " (5, 33, 2): <gurobi.Var *Awaiting Model Update*>,\n",
       " (5, 34, 0): <gurobi.Var *Awaiting Model Update*>,\n",
       " (5, 34, 1): <gurobi.Var *Awaiting Model Update*>,\n",
       " (5, 34, 2): <gurobi.Var *Awaiting Model Update*>,\n",
       " (5, 35, 0): <gurobi.Var *Awaiting Model Update*>,\n",
       " (5, 35, 1): <gurobi.Var *Awaiting Model Update*>,\n",
       " (5, 35, 2): <gurobi.Var *Awaiting Model Update*>,\n",
       " (5, 36, 0): <gurobi.Var *Awaiting Model Update*>,\n",
       " (5, 36, 1): <gurobi.Var *Awaiting Model Update*>,\n",
       " (5, 36, 2): <gurobi.Var *Awaiting Model Update*>,\n",
       " (5, 37, 0): <gurobi.Var *Awaiting Model Update*>,\n",
       " (5, 37, 1): <gurobi.Var *Awaiting Model Update*>,\n",
       " (5, 37, 2): <gurobi.Var *Awaiting Model Update*>,\n",
       " (5, 38, 0): <gurobi.Var *Awaiting Model Update*>,\n",
       " (5, 38, 1): <gurobi.Var *Awaiting Model Update*>,\n",
       " (5, 38, 2): <gurobi.Var *Awaiting Model Update*>,\n",
       " (5, 39, 0): <gurobi.Var *Awaiting Model Update*>,\n",
       " (5, 39, 1): <gurobi.Var *Awaiting Model Update*>,\n",
       " (5, 39, 2): <gurobi.Var *Awaiting Model Update*>,\n",
       " (5, 40, 0): <gurobi.Var *Awaiting Model Update*>,\n",
       " (5, 40, 1): <gurobi.Var *Awaiting Model Update*>,\n",
       " (5, 40, 2): <gurobi.Var *Awaiting Model Update*>,\n",
       " (5, 41, 0): <gurobi.Var *Awaiting Model Update*>,\n",
       " (5, 41, 1): <gurobi.Var *Awaiting Model Update*>,\n",
       " (5, 41, 2): <gurobi.Var *Awaiting Model Update*>,\n",
       " (6, 0, 0): <gurobi.Var *Awaiting Model Update*>,\n",
       " (6, 0, 1): <gurobi.Var *Awaiting Model Update*>,\n",
       " (6, 0, 2): <gurobi.Var *Awaiting Model Update*>,\n",
       " (6, 1, 0): <gurobi.Var *Awaiting Model Update*>,\n",
       " (6, 1, 1): <gurobi.Var *Awaiting Model Update*>,\n",
       " (6, 1, 2): <gurobi.Var *Awaiting Model Update*>,\n",
       " (6, 2, 0): <gurobi.Var *Awaiting Model Update*>,\n",
       " (6, 2, 1): <gurobi.Var *Awaiting Model Update*>,\n",
       " (6, 2, 2): <gurobi.Var *Awaiting Model Update*>,\n",
       " (6, 3, 0): <gurobi.Var *Awaiting Model Update*>,\n",
       " (6, 3, 1): <gurobi.Var *Awaiting Model Update*>,\n",
       " (6, 3, 2): <gurobi.Var *Awaiting Model Update*>,\n",
       " (6, 4, 0): <gurobi.Var *Awaiting Model Update*>,\n",
       " (6, 4, 1): <gurobi.Var *Awaiting Model Update*>,\n",
       " (6, 4, 2): <gurobi.Var *Awaiting Model Update*>,\n",
       " (6, 5, 0): <gurobi.Var *Awaiting Model Update*>,\n",
       " (6, 5, 1): <gurobi.Var *Awaiting Model Update*>,\n",
       " (6, 5, 2): <gurobi.Var *Awaiting Model Update*>,\n",
       " (6, 6, 0): <gurobi.Var *Awaiting Model Update*>,\n",
       " (6, 6, 1): <gurobi.Var *Awaiting Model Update*>,\n",
       " (6, 6, 2): <gurobi.Var *Awaiting Model Update*>,\n",
       " (6, 7, 0): <gurobi.Var *Awaiting Model Update*>,\n",
       " (6, 7, 1): <gurobi.Var *Awaiting Model Update*>,\n",
       " (6, 7, 2): <gurobi.Var *Awaiting Model Update*>,\n",
       " (6, 8, 0): <gurobi.Var *Awaiting Model Update*>,\n",
       " (6, 8, 1): <gurobi.Var *Awaiting Model Update*>,\n",
       " (6, 8, 2): <gurobi.Var *Awaiting Model Update*>,\n",
       " (6, 9, 0): <gurobi.Var *Awaiting Model Update*>,\n",
       " (6, 9, 1): <gurobi.Var *Awaiting Model Update*>,\n",
       " (6, 9, 2): <gurobi.Var *Awaiting Model Update*>,\n",
       " (6, 10, 0): <gurobi.Var *Awaiting Model Update*>,\n",
       " (6, 10, 1): <gurobi.Var *Awaiting Model Update*>,\n",
       " (6, 10, 2): <gurobi.Var *Awaiting Model Update*>,\n",
       " (6, 11, 0): <gurobi.Var *Awaiting Model Update*>,\n",
       " (6, 11, 1): <gurobi.Var *Awaiting Model Update*>,\n",
       " (6, 11, 2): <gurobi.Var *Awaiting Model Update*>,\n",
       " (6, 12, 0): <gurobi.Var *Awaiting Model Update*>,\n",
       " (6, 12, 1): <gurobi.Var *Awaiting Model Update*>,\n",
       " (6, 12, 2): <gurobi.Var *Awaiting Model Update*>,\n",
       " (6, 13, 0): <gurobi.Var *Awaiting Model Update*>,\n",
       " (6, 13, 1): <gurobi.Var *Awaiting Model Update*>,\n",
       " (6, 13, 2): <gurobi.Var *Awaiting Model Update*>,\n",
       " (6, 14, 0): <gurobi.Var *Awaiting Model Update*>,\n",
       " (6, 14, 1): <gurobi.Var *Awaiting Model Update*>,\n",
       " (6, 14, 2): <gurobi.Var *Awaiting Model Update*>,\n",
       " (6, 15, 0): <gurobi.Var *Awaiting Model Update*>,\n",
       " (6, 15, 1): <gurobi.Var *Awaiting Model Update*>,\n",
       " (6, 15, 2): <gurobi.Var *Awaiting Model Update*>,\n",
       " (6, 16, 0): <gurobi.Var *Awaiting Model Update*>,\n",
       " (6, 16, 1): <gurobi.Var *Awaiting Model Update*>,\n",
       " (6, 16, 2): <gurobi.Var *Awaiting Model Update*>,\n",
       " (6, 17, 0): <gurobi.Var *Awaiting Model Update*>,\n",
       " (6, 17, 1): <gurobi.Var *Awaiting Model Update*>,\n",
       " (6, 17, 2): <gurobi.Var *Awaiting Model Update*>,\n",
       " (6, 18, 0): <gurobi.Var *Awaiting Model Update*>,\n",
       " (6, 18, 1): <gurobi.Var *Awaiting Model Update*>,\n",
       " (6, 18, 2): <gurobi.Var *Awaiting Model Update*>,\n",
       " (6, 19, 0): <gurobi.Var *Awaiting Model Update*>,\n",
       " (6, 19, 1): <gurobi.Var *Awaiting Model Update*>,\n",
       " (6, 19, 2): <gurobi.Var *Awaiting Model Update*>,\n",
       " (6, 20, 0): <gurobi.Var *Awaiting Model Update*>,\n",
       " (6, 20, 1): <gurobi.Var *Awaiting Model Update*>,\n",
       " (6, 20, 2): <gurobi.Var *Awaiting Model Update*>,\n",
       " (6, 21, 0): <gurobi.Var *Awaiting Model Update*>,\n",
       " (6, 21, 1): <gurobi.Var *Awaiting Model Update*>,\n",
       " (6, 21, 2): <gurobi.Var *Awaiting Model Update*>,\n",
       " (6, 22, 0): <gurobi.Var *Awaiting Model Update*>,\n",
       " (6, 22, 1): <gurobi.Var *Awaiting Model Update*>,\n",
       " (6, 22, 2): <gurobi.Var *Awaiting Model Update*>,\n",
       " (6, 23, 0): <gurobi.Var *Awaiting Model Update*>,\n",
       " (6, 23, 1): <gurobi.Var *Awaiting Model Update*>,\n",
       " (6, 23, 2): <gurobi.Var *Awaiting Model Update*>,\n",
       " (6, 24, 0): <gurobi.Var *Awaiting Model Update*>,\n",
       " (6, 24, 1): <gurobi.Var *Awaiting Model Update*>,\n",
       " (6, 24, 2): <gurobi.Var *Awaiting Model Update*>,\n",
       " (6, 25, 0): <gurobi.Var *Awaiting Model Update*>,\n",
       " (6, 25, 1): <gurobi.Var *Awaiting Model Update*>,\n",
       " (6, 25, 2): <gurobi.Var *Awaiting Model Update*>,\n",
       " (6, 26, 0): <gurobi.Var *Awaiting Model Update*>,\n",
       " (6, 26, 1): <gurobi.Var *Awaiting Model Update*>,\n",
       " (6, 26, 2): <gurobi.Var *Awaiting Model Update*>,\n",
       " (6, 27, 0): <gurobi.Var *Awaiting Model Update*>,\n",
       " (6, 27, 1): <gurobi.Var *Awaiting Model Update*>,\n",
       " (6, 27, 2): <gurobi.Var *Awaiting Model Update*>,\n",
       " (6, 28, 0): <gurobi.Var *Awaiting Model Update*>,\n",
       " (6, 28, 1): <gurobi.Var *Awaiting Model Update*>,\n",
       " (6, 28, 2): <gurobi.Var *Awaiting Model Update*>,\n",
       " (6, 29, 0): <gurobi.Var *Awaiting Model Update*>,\n",
       " (6, 29, 1): <gurobi.Var *Awaiting Model Update*>,\n",
       " (6, 29, 2): <gurobi.Var *Awaiting Model Update*>,\n",
       " (6, 30, 0): <gurobi.Var *Awaiting Model Update*>,\n",
       " (6, 30, 1): <gurobi.Var *Awaiting Model Update*>,\n",
       " (6, 30, 2): <gurobi.Var *Awaiting Model Update*>,\n",
       " (6, 31, 0): <gurobi.Var *Awaiting Model Update*>,\n",
       " (6, 31, 1): <gurobi.Var *Awaiting Model Update*>,\n",
       " (6, 31, 2): <gurobi.Var *Awaiting Model Update*>,\n",
       " (6, 32, 0): <gurobi.Var *Awaiting Model Update*>,\n",
       " (6, 32, 1): <gurobi.Var *Awaiting Model Update*>,\n",
       " (6, 32, 2): <gurobi.Var *Awaiting Model Update*>,\n",
       " (6, 33, 0): <gurobi.Var *Awaiting Model Update*>,\n",
       " (6, 33, 1): <gurobi.Var *Awaiting Model Update*>,\n",
       " (6, 33, 2): <gurobi.Var *Awaiting Model Update*>,\n",
       " (6, 34, 0): <gurobi.Var *Awaiting Model Update*>,\n",
       " (6, 34, 1): <gurobi.Var *Awaiting Model Update*>,\n",
       " (6, 34, 2): <gurobi.Var *Awaiting Model Update*>,\n",
       " (6, 35, 0): <gurobi.Var *Awaiting Model Update*>,\n",
       " (6, 35, 1): <gurobi.Var *Awaiting Model Update*>,\n",
       " (6, 35, 2): <gurobi.Var *Awaiting Model Update*>,\n",
       " (6, 36, 0): <gurobi.Var *Awaiting Model Update*>,\n",
       " (6, 36, 1): <gurobi.Var *Awaiting Model Update*>,\n",
       " (6, 36, 2): <gurobi.Var *Awaiting Model Update*>,\n",
       " (6, 37, 0): <gurobi.Var *Awaiting Model Update*>,\n",
       " (6, 37, 1): <gurobi.Var *Awaiting Model Update*>,\n",
       " (6, 37, 2): <gurobi.Var *Awaiting Model Update*>,\n",
       " (6, 38, 0): <gurobi.Var *Awaiting Model Update*>,\n",
       " (6, 38, 1): <gurobi.Var *Awaiting Model Update*>,\n",
       " (6, 38, 2): <gurobi.Var *Awaiting Model Update*>,\n",
       " (6, 39, 0): <gurobi.Var *Awaiting Model Update*>,\n",
       " (6, 39, 1): <gurobi.Var *Awaiting Model Update*>,\n",
       " (6, 39, 2): <gurobi.Var *Awaiting Model Update*>,\n",
       " (6, 40, 0): <gurobi.Var *Awaiting Model Update*>,\n",
       " (6, 40, 1): <gurobi.Var *Awaiting Model Update*>,\n",
       " (6, 40, 2): <gurobi.Var *Awaiting Model Update*>,\n",
       " (6, 41, 0): <gurobi.Var *Awaiting Model Update*>,\n",
       " (6, 41, 1): <gurobi.Var *Awaiting Model Update*>,\n",
       " (6, 41, 2): <gurobi.Var *Awaiting Model Update*>,\n",
       " (7, 0, 0): <gurobi.Var *Awaiting Model Update*>,\n",
       " (7, 0, 1): <gurobi.Var *Awaiting Model Update*>,\n",
       " (7, 0, 2): <gurobi.Var *Awaiting Model Update*>,\n",
       " (7, 1, 0): <gurobi.Var *Awaiting Model Update*>,\n",
       " (7, 1, 1): <gurobi.Var *Awaiting Model Update*>,\n",
       " (7, 1, 2): <gurobi.Var *Awaiting Model Update*>,\n",
       " (7, 2, 0): <gurobi.Var *Awaiting Model Update*>,\n",
       " (7, 2, 1): <gurobi.Var *Awaiting Model Update*>,\n",
       " (7, 2, 2): <gurobi.Var *Awaiting Model Update*>,\n",
       " (7, 3, 0): <gurobi.Var *Awaiting Model Update*>,\n",
       " (7, 3, 1): <gurobi.Var *Awaiting Model Update*>,\n",
       " (7, 3, 2): <gurobi.Var *Awaiting Model Update*>,\n",
       " (7, 4, 0): <gurobi.Var *Awaiting Model Update*>,\n",
       " (7, 4, 1): <gurobi.Var *Awaiting Model Update*>,\n",
       " (7, 4, 2): <gurobi.Var *Awaiting Model Update*>,\n",
       " (7, 5, 0): <gurobi.Var *Awaiting Model Update*>,\n",
       " (7, 5, 1): <gurobi.Var *Awaiting Model Update*>,\n",
       " (7, 5, 2): <gurobi.Var *Awaiting Model Update*>,\n",
       " (7, 6, 0): <gurobi.Var *Awaiting Model Update*>,\n",
       " (7, 6, 1): <gurobi.Var *Awaiting Model Update*>,\n",
       " (7, 6, 2): <gurobi.Var *Awaiting Model Update*>,\n",
       " (7, 7, 0): <gurobi.Var *Awaiting Model Update*>,\n",
       " (7, 7, 1): <gurobi.Var *Awaiting Model Update*>,\n",
       " (7, 7, 2): <gurobi.Var *Awaiting Model Update*>,\n",
       " (7, 8, 0): <gurobi.Var *Awaiting Model Update*>,\n",
       " (7, 8, 1): <gurobi.Var *Awaiting Model Update*>,\n",
       " (7, 8, 2): <gurobi.Var *Awaiting Model Update*>,\n",
       " (7, 9, 0): <gurobi.Var *Awaiting Model Update*>,\n",
       " (7, 9, 1): <gurobi.Var *Awaiting Model Update*>,\n",
       " (7, 9, 2): <gurobi.Var *Awaiting Model Update*>,\n",
       " (7, 10, 0): <gurobi.Var *Awaiting Model Update*>,\n",
       " (7, 10, 1): <gurobi.Var *Awaiting Model Update*>,\n",
       " (7, 10, 2): <gurobi.Var *Awaiting Model Update*>,\n",
       " (7, 11, 0): <gurobi.Var *Awaiting Model Update*>,\n",
       " (7, 11, 1): <gurobi.Var *Awaiting Model Update*>,\n",
       " (7, 11, 2): <gurobi.Var *Awaiting Model Update*>,\n",
       " (7, 12, 0): <gurobi.Var *Awaiting Model Update*>,\n",
       " (7, 12, 1): <gurobi.Var *Awaiting Model Update*>,\n",
       " (7, 12, 2): <gurobi.Var *Awaiting Model Update*>,\n",
       " (7, 13, 0): <gurobi.Var *Awaiting Model Update*>,\n",
       " (7, 13, 1): <gurobi.Var *Awaiting Model Update*>,\n",
       " (7, 13, 2): <gurobi.Var *Awaiting Model Update*>,\n",
       " (7, 14, 0): <gurobi.Var *Awaiting Model Update*>,\n",
       " (7, 14, 1): <gurobi.Var *Awaiting Model Update*>,\n",
       " (7, 14, 2): <gurobi.Var *Awaiting Model Update*>,\n",
       " (7, 15, 0): <gurobi.Var *Awaiting Model Update*>,\n",
       " (7, 15, 1): <gurobi.Var *Awaiting Model Update*>,\n",
       " (7, 15, 2): <gurobi.Var *Awaiting Model Update*>,\n",
       " (7, 16, 0): <gurobi.Var *Awaiting Model Update*>,\n",
       " (7, 16, 1): <gurobi.Var *Awaiting Model Update*>,\n",
       " (7, 16, 2): <gurobi.Var *Awaiting Model Update*>,\n",
       " (7, 17, 0): <gurobi.Var *Awaiting Model Update*>,\n",
       " (7, 17, 1): <gurobi.Var *Awaiting Model Update*>,\n",
       " (7, 17, 2): <gurobi.Var *Awaiting Model Update*>,\n",
       " (7, 18, 0): <gurobi.Var *Awaiting Model Update*>,\n",
       " (7, 18, 1): <gurobi.Var *Awaiting Model Update*>,\n",
       " (7, 18, 2): <gurobi.Var *Awaiting Model Update*>,\n",
       " (7, 19, 0): <gurobi.Var *Awaiting Model Update*>,\n",
       " (7, 19, 1): <gurobi.Var *Awaiting Model Update*>,\n",
       " (7, 19, 2): <gurobi.Var *Awaiting Model Update*>,\n",
       " (7, 20, 0): <gurobi.Var *Awaiting Model Update*>,\n",
       " (7, 20, 1): <gurobi.Var *Awaiting Model Update*>,\n",
       " (7, 20, 2): <gurobi.Var *Awaiting Model Update*>,\n",
       " (7, 21, 0): <gurobi.Var *Awaiting Model Update*>,\n",
       " (7, 21, 1): <gurobi.Var *Awaiting Model Update*>,\n",
       " (7, 21, 2): <gurobi.Var *Awaiting Model Update*>,\n",
       " (7, 22, 0): <gurobi.Var *Awaiting Model Update*>,\n",
       " (7, 22, 1): <gurobi.Var *Awaiting Model Update*>,\n",
       " (7, 22, 2): <gurobi.Var *Awaiting Model Update*>,\n",
       " (7, 23, 0): <gurobi.Var *Awaiting Model Update*>,\n",
       " (7, 23, 1): <gurobi.Var *Awaiting Model Update*>,\n",
       " (7, 23, 2): <gurobi.Var *Awaiting Model Update*>,\n",
       " (7, 24, 0): <gurobi.Var *Awaiting Model Update*>,\n",
       " (7, 24, 1): <gurobi.Var *Awaiting Model Update*>,\n",
       " (7, 24, 2): <gurobi.Var *Awaiting Model Update*>,\n",
       " (7, 25, 0): <gurobi.Var *Awaiting Model Update*>,\n",
       " (7, 25, 1): <gurobi.Var *Awaiting Model Update*>,\n",
       " (7, 25, 2): <gurobi.Var *Awaiting Model Update*>,\n",
       " (7, 26, 0): <gurobi.Var *Awaiting Model Update*>,\n",
       " (7, 26, 1): <gurobi.Var *Awaiting Model Update*>,\n",
       " (7, 26, 2): <gurobi.Var *Awaiting Model Update*>,\n",
       " (7, 27, 0): <gurobi.Var *Awaiting Model Update*>,\n",
       " (7, 27, 1): <gurobi.Var *Awaiting Model Update*>,\n",
       " (7, 27, 2): <gurobi.Var *Awaiting Model Update*>,\n",
       " (7, 28, 0): <gurobi.Var *Awaiting Model Update*>,\n",
       " (7, 28, 1): <gurobi.Var *Awaiting Model Update*>,\n",
       " (7, 28, 2): <gurobi.Var *Awaiting Model Update*>,\n",
       " (7, 29, 0): <gurobi.Var *Awaiting Model Update*>,\n",
       " (7, 29, 1): <gurobi.Var *Awaiting Model Update*>,\n",
       " (7, 29, 2): <gurobi.Var *Awaiting Model Update*>,\n",
       " (7, 30, 0): <gurobi.Var *Awaiting Model Update*>,\n",
       " (7, 30, 1): <gurobi.Var *Awaiting Model Update*>,\n",
       " (7, 30, 2): <gurobi.Var *Awaiting Model Update*>,\n",
       " (7, 31, 0): <gurobi.Var *Awaiting Model Update*>,\n",
       " (7, 31, 1): <gurobi.Var *Awaiting Model Update*>,\n",
       " (7, 31, 2): <gurobi.Var *Awaiting Model Update*>,\n",
       " (7, 32, 0): <gurobi.Var *Awaiting Model Update*>,\n",
       " (7, 32, 1): <gurobi.Var *Awaiting Model Update*>,\n",
       " (7, 32, 2): <gurobi.Var *Awaiting Model Update*>,\n",
       " (7, 33, 0): <gurobi.Var *Awaiting Model Update*>,\n",
       " (7, 33, 1): <gurobi.Var *Awaiting Model Update*>,\n",
       " (7, 33, 2): <gurobi.Var *Awaiting Model Update*>,\n",
       " (7, 34, 0): <gurobi.Var *Awaiting Model Update*>,\n",
       " (7, 34, 1): <gurobi.Var *Awaiting Model Update*>,\n",
       " (7, 34, 2): <gurobi.Var *Awaiting Model Update*>,\n",
       " (7, 35, 0): <gurobi.Var *Awaiting Model Update*>,\n",
       " (7, 35, 1): <gurobi.Var *Awaiting Model Update*>,\n",
       " (7, 35, 2): <gurobi.Var *Awaiting Model Update*>,\n",
       " (7, 36, 0): <gurobi.Var *Awaiting Model Update*>,\n",
       " (7, 36, 1): <gurobi.Var *Awaiting Model Update*>,\n",
       " (7, 36, 2): <gurobi.Var *Awaiting Model Update*>,\n",
       " (7, 37, 0): <gurobi.Var *Awaiting Model Update*>,\n",
       " (7, 37, 1): <gurobi.Var *Awaiting Model Update*>,\n",
       " (7, 37, 2): <gurobi.Var *Awaiting Model Update*>,\n",
       " (7, 38, 0): <gurobi.Var *Awaiting Model Update*>,\n",
       " (7, 38, 1): <gurobi.Var *Awaiting Model Update*>,\n",
       " (7, 38, 2): <gurobi.Var *Awaiting Model Update*>,\n",
       " (7, 39, 0): <gurobi.Var *Awaiting Model Update*>,\n",
       " ...}"
      ]
     },
     "execution_count": 46,
     "metadata": {},
     "output_type": "execute_result"
    }
   ],
   "source": [
    "#whether or not plant (p) is put in bed (b) in year (t). Binary\n",
    "x = m.addVars(plant_index,bed_index,year_index,vtype=grb.GRB.BINARY)\n",
    "print(f'Number of x variables: {len(x)}')\n",
    "x"
   ]
  },
  {
   "cell_type": "markdown",
   "metadata": {},
   "source": [
    "$y \\:(binary): \\;Whether \\;or \\;not \\;plant \\;(p) \\;is \\;grown \\;anywhere \\;in \\;any \\;year $"
   ]
  },
  {
   "cell_type": "code",
   "execution_count": 47,
   "metadata": {},
   "outputs": [
    {
     "name": "stdout",
     "output_type": "stream",
     "text": [
      "Number of y variables: 36\n"
     ]
    },
    {
     "data": {
      "text/plain": [
       "{0: <gurobi.Var *Awaiting Model Update*>,\n",
       " 1: <gurobi.Var *Awaiting Model Update*>,\n",
       " 2: <gurobi.Var *Awaiting Model Update*>,\n",
       " 3: <gurobi.Var *Awaiting Model Update*>,\n",
       " 4: <gurobi.Var *Awaiting Model Update*>,\n",
       " 5: <gurobi.Var *Awaiting Model Update*>,\n",
       " 6: <gurobi.Var *Awaiting Model Update*>,\n",
       " 7: <gurobi.Var *Awaiting Model Update*>,\n",
       " 8: <gurobi.Var *Awaiting Model Update*>,\n",
       " 9: <gurobi.Var *Awaiting Model Update*>,\n",
       " 10: <gurobi.Var *Awaiting Model Update*>,\n",
       " 11: <gurobi.Var *Awaiting Model Update*>,\n",
       " 12: <gurobi.Var *Awaiting Model Update*>,\n",
       " 13: <gurobi.Var *Awaiting Model Update*>,\n",
       " 14: <gurobi.Var *Awaiting Model Update*>,\n",
       " 15: <gurobi.Var *Awaiting Model Update*>,\n",
       " 16: <gurobi.Var *Awaiting Model Update*>,\n",
       " 17: <gurobi.Var *Awaiting Model Update*>,\n",
       " 18: <gurobi.Var *Awaiting Model Update*>,\n",
       " 19: <gurobi.Var *Awaiting Model Update*>,\n",
       " 20: <gurobi.Var *Awaiting Model Update*>,\n",
       " 21: <gurobi.Var *Awaiting Model Update*>,\n",
       " 22: <gurobi.Var *Awaiting Model Update*>,\n",
       " 23: <gurobi.Var *Awaiting Model Update*>,\n",
       " 24: <gurobi.Var *Awaiting Model Update*>,\n",
       " 25: <gurobi.Var *Awaiting Model Update*>,\n",
       " 26: <gurobi.Var *Awaiting Model Update*>,\n",
       " 27: <gurobi.Var *Awaiting Model Update*>,\n",
       " 28: <gurobi.Var *Awaiting Model Update*>,\n",
       " 29: <gurobi.Var *Awaiting Model Update*>,\n",
       " 30: <gurobi.Var *Awaiting Model Update*>,\n",
       " 31: <gurobi.Var *Awaiting Model Update*>,\n",
       " 32: <gurobi.Var *Awaiting Model Update*>,\n",
       " 33: <gurobi.Var *Awaiting Model Update*>,\n",
       " 34: <gurobi.Var *Awaiting Model Update*>,\n",
       " 35: <gurobi.Var *Awaiting Model Update*>}"
      ]
     },
     "execution_count": 47,
     "metadata": {},
     "output_type": "execute_result"
    }
   ],
   "source": [
    "#whether or not plant p is planted (anywhere)\n",
    "y = m.addVars(plant_index,vtype=grb.GRB.BINARY)\n",
    "print(f'Number of y variables: {len(y)}')\n",
    "y"
   ]
  },
  {
   "cell_type": "markdown",
   "metadata": {},
   "source": [
    "### Add Objective"
   ]
  },
  {
   "cell_type": "markdown",
   "metadata": {},
   "source": [
    "Maximize the weighted sum of the yummy score and the variety score"
   ]
  },
  {
   "cell_type": "markdown",
   "metadata": {},
   "source": [
    "$maximize \\;\\; w_{1}\\dfrac{\\displaystyle\\sum_{p=0}^{P}\\displaystyle\\sum_{b=0}^{B}\\displaystyle\\sum_{t=0}^{T}R_{p}x_{pbt}}{U} + w_{2}\\dfrac{\\displaystyle\\sum_{p=0}^{P}y_{p}}{G} $"
   ]
  },
  {
   "cell_type": "code",
   "execution_count": 48,
   "metadata": {},
   "outputs": [],
   "source": [
    "obj = m.setObjective((\n",
    "    mip_weights['yummy_score']*grb.quicksum(preferences[p]*grb.quicksum(x[p,b,t] for b in bed_index for t in year_index) for p in plant_index)/max_yums + \n",
    "    mip_weights['variety_score']*(grb.quicksum(y[p] for p in plant_index)/num_plants)\n",
    "                        ),sense=grb.GRB.MAXIMIZE)"
   ]
  },
  {
   "cell_type": "markdown",
   "metadata": {},
   "source": [
    "### Add Constraints"
   ]
  },
  {
   "cell_type": "markdown",
   "metadata": {},
   "source": [
    "Only allow at most one plant to be assigned to each bed in each year"
   ]
  },
  {
   "cell_type": "markdown",
   "metadata": {},
   "source": [
    "$\\displaystyle\\sum_{p=0}^{P}x_{pbt} \\leq 1  \\;\\;\\;\\;\\forall \\,b \\in B , t \\in T$"
   ]
  },
  {
   "cell_type": "code",
   "execution_count": 49,
   "metadata": {},
   "outputs": [],
   "source": [
    "onePerBedConstraint = m.addConstrs((grb.quicksum(x[p,b,t] for p in plant_index) <= 1 for b in bed_index for t in year_index))"
   ]
  },
  {
   "cell_type": "markdown",
   "metadata": {},
   "source": [
    "Plant cannot be grown in bed if the bed does not have the proper sun requirements to successfully grow the given plant"
   ]
  },
  {
   "cell_type": "markdown",
   "metadata": {},
   "source": [
    "$x_{pbt} \\leq S_{pb}  \\;\\;\\;\\;\\forall \\,p \\in P_{e},\\, b \\in B ,\\, t \\in T$"
   ]
  },
  {
   "cell_type": "code",
   "execution_count": 50,
   "metadata": {},
   "outputs": [],
   "source": [
    "sunConstraint = m.addConstrs((x[p,b,t]<=sun[p,b] for p in plant_index for b in bed_index for t in year_index))"
   ]
  },
  {
   "cell_type": "markdown",
   "metadata": {},
   "source": [
    "Perennial plants must be assigned to the same bed once they are first planted"
   ]
  },
  {
   "cell_type": "markdown",
   "metadata": {},
   "source": [
    "$x_{pbt} \\geq x_{pbt-1}  \\;\\;\\;\\;\\forall \\,p \\in P_{e},\\, b \\in B ,\\, t = 1..T$"
   ]
  },
  {
   "cell_type": "code",
   "execution_count": 51,
   "metadata": {},
   "outputs": [],
   "source": [
    "perennialConstraint = m.addConstrs(x[p,b,t] >= x[p,b,t-1] for p in plant_index if p in perennials for b in bed_index for t in year_index[1:])"
   ]
  },
  {
   "cell_type": "markdown",
   "metadata": {},
   "source": [
    "Plants at risk of spreading soil-born diseases cannot be planted in the same bed year-over-year"
   ]
  },
  {
   "cell_type": "markdown",
   "metadata": {},
   "source": [
    "$x_{pbt} \\leq 1-x_{pbt-1}  \\;\\;\\;\\;\\forall \\,p \\in P_{d},\\, b \\in B ,\\, t = 1..T$"
   ]
  },
  {
   "cell_type": "code",
   "execution_count": 52,
   "metadata": {},
   "outputs": [],
   "source": [
    "diseaseConstraint = m.addConstrs(x[p,b,t] <= 1 - x[p,b,t-1] for p in plant_index if p in problem_plants for b in bed_index for t in year_index[1:])"
   ]
  },
  {
   "cell_type": "markdown",
   "metadata": {},
   "source": [
    "Relate x to y, so that planting x[p,b,t] anywhere at any point will trigger y[p] to be 1"
   ]
  },
  {
   "cell_type": "markdown",
   "metadata": {},
   "source": [
    "$\\displaystyle\\sum_{b=0}^{B}\\displaystyle\\sum_{t=0}^{T} x_{pbt} \\geq y_{p}  \\;\\;\\;\\;\\forall \\,p \\in P$"
   ]
  },
  {
   "cell_type": "code",
   "execution_count": 53,
   "metadata": {},
   "outputs": [],
   "source": [
    "#define y as it relates to x. You can only set y[p] to 1 if you actually plant it somewhere at some point\n",
    "yxRelationConstraint = m.addConstrs((grb.quicksum(x[p,b,t] for b in bed_index for t in year_index)>= y[p] for p in plant_index))"
   ]
  },
  {
   "cell_type": "markdown",
   "metadata": {},
   "source": [
    "### Solve"
   ]
  },
  {
   "cell_type": "code",
   "execution_count": 54,
   "metadata": {},
   "outputs": [
    {
     "name": "stdout",
     "output_type": "stream",
     "text": [
      "Gurobi Optimizer version 9.0.1 build v9.0.1rc0 (win64)\n",
      "Optimize a model with 11076 rows, 9144 columns and 30648 nonzeros\n",
      "Model fingerprint: 0xc5fb10dd\n",
      "Variable types: 0 continuous, 9144 integer (9144 binary)\n",
      "Coefficient statistics:\n",
      "  Matrix range     [1e+00, 1e+00]\n",
      "  Objective range  [2e-03, 8e-03]\n",
      "  Bounds range     [1e+00, 1e+00]\n",
      "  RHS range        [1e+00, 1e+00]\n",
      "Found heuristic solution: objective 0.5833333\n",
      "Presolve removed 11076 rows and 9144 columns\n",
      "Presolve time: 0.01s\n",
      "Presolve: All rows and columns removed\n",
      "\n",
      "Explored 0 nodes (0 simplex iterations) in 0.02 seconds\n",
      "Thread count was 1 (of 12 available processors)\n",
      "\n",
      "Solution count 2: 0.866667 \n",
      "No other solutions better than 0.866667\n",
      "\n",
      "Optimal solution found (tolerance 1.00e-04)\n",
      "Best objective 8.666666666667e-01, best bound 8.666666666667e-01, gap 0.0000%\n"
     ]
    }
   ],
   "source": [
    "m.optimize()"
   ]
  },
  {
   "cell_type": "markdown",
   "metadata": {},
   "source": [
    "### Solution Analysis"
   ]
  },
  {
   "cell_type": "code",
   "execution_count": 55,
   "metadata": {},
   "outputs": [],
   "source": [
    "#get solution in same format as heuristic approach\n",
    "mip_plan = np.zeros(shape=(num_plants,num_beds,num_years))\n",
    "\n",
    "for p in plant_index:\n",
    "    for b in bed_index:\n",
    "        for t in year_index:\n",
    "            if x[p,b,t].x==1:\n",
    "                mip_plan[p,b,t] = 1"
   ]
  },
  {
   "cell_type": "code",
   "execution_count": 56,
   "metadata": {},
   "outputs": [
    {
     "name": "stdout",
     "output_type": "stream",
     "text": [
      "Overall MIP Objective: 86.7\n",
      "MIP Yummy Score: 86.7\n",
      "MIP Variety Score: 8.3\n"
     ]
    }
   ],
   "source": [
    "mip_obs = round(m.getObjective().getValue()*100,1)\n",
    "mip_yums = compute_yummy_score(mip_plan,preferences,max_yums)\n",
    "mip_variety = compute_variety_score(mip_plan,num_plants)\n",
    "\n",
    "print(f'Overall MIP Objective: {mip_obs}')\n",
    "print(f'MIP Yummy Score: {mip_yums}')\n",
    "print(f'MIP Variety Score: {mip_variety}')"
   ]
  },
  {
   "cell_type": "code",
   "execution_count": 57,
   "metadata": {},
   "outputs": [
    {
     "data": {
      "image/png": "[encoded data removed]",
      "text/plain": [
       "<Figure size 720x432 with 1 Axes>"
      ]
     },
     "metadata": {},
     "output_type": "display_data"
    },
    {
     "data": {
      "image/png": "[encoded data removed]",
      "text/plain": [
       "<Figure size 720x432 with 1 Axes>"
      ]
     },
     "metadata": {},
     "output_type": "display_data"
    },
    {
     "data": {
      "image/png": "[encoded data removed]",
      "text/plain": [
       "<Figure size 720x432 with 1 Axes>"
      ]
     },
     "metadata": {},
     "output_type": "display_data"
    }
   ],
   "source": [
    "df_mip_plan = annual_bed_plan(mip_plan,bed_info,plant_info,bed_index,year_index)\n",
    "visualize_plan(df_mip_plan,bed_index,years)"
   ]
  }
 ],
 "metadata": {
  "interpreter": {
   "hash": "4b7cec192fff35eb9040503ce2e7b3079b3ef69864e682c4ab7f0f197960dcef"
  },
  "kernelspec": {
   "display_name": "Python 3.7.1",
   "language": "python",
   "name": "python3"
  },
  "language_info": {
   "codemirror_mode": {
    "name": "ipython",
    "version": 3
   },
   "file_extension": ".py",
   "mimetype": "text/x-python",
   "name": "python",
   "nbconvert_exporter": "python",
   "pygments_lexer": "ipython3",
   "version": "3.7.6"
  },
  "orig_nbformat": 4
 },
 "nbformat": 4,
 "nbformat_minor": 2
}
