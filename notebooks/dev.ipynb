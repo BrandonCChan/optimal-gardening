{
 "cells": [
  {
   "cell_type": "code",
   "execution_count": 221,
   "metadata": {},
   "outputs": [],
   "source": [
    "import numpy as np\n",
    "import pandas as pd\n",
    "import seaborn as sb\n",
    "sb.set_style(\"dark\")\n",
    "import matplotlib.pyplot as plt\n",
    "import time"
   ]
  },
  {
   "cell_type": "markdown",
   "metadata": {},
   "source": [
    "#### TODO:\n",
    "- add capacity constraint (may end up being a separate bin packing problem. potentially leverage parallel processing for this and just implement a greedy approach here)\n",
    "- potentially add objective limit the number of unique plants in each bed\n",
    "- add to bed info the list of incompatable plants in that bed\n",
    "- weighting of objectives\n",
    "- weight preferences\n",
    "- more realistic preferences\n",
    "- look into parallel processing. potentially have notebook run in AWS\n",
    "- visualizations at the end\n",
    "- visualize solution space\n",
    "- potential convert to class\n",
    "- look into random seed best practices\n",
    "- fill in documentation to make this easier to walk through during the workshop"
   ]
  },
  {
   "cell_type": "code",
   "execution_count": 86,
   "metadata": {},
   "outputs": [],
   "source": [
    "plant_info = pd.read_csv('../data/plant_data.csv')\n",
    "bed_info = pd.read_csv('../data/bed_data.csv')"
   ]
  },
  {
   "cell_type": "code",
   "execution_count": 87,
   "metadata": {},
   "outputs": [],
   "source": [
    "plant_info.index.name = 'plant_index'\n",
    "plants = plant_info.plant.to_numpy()\n",
    "plant_index = plant_info.index.to_numpy()\n",
    "num_plants = len(plants)"
   ]
  },
  {
   "cell_type": "code",
   "execution_count": 88,
   "metadata": {},
   "outputs": [],
   "source": [
    "bed_info.index.name = 'bed_index'\n",
    "beds = bed_info.bed.to_numpy()\n",
    "bed_index = bed_info.index.to_numpy()\n",
    "num_beds = len(beds)\n",
    "\n",
    "bed_width = 3\n",
    "bed_length = 10"
   ]
  },
  {
   "cell_type": "code",
   "execution_count": 89,
   "metadata": {},
   "outputs": [
    {
     "name": "stdout",
     "output_type": "stream",
     "text": [
      "42\n",
      "[ 1  2  3  4  5  6  7  8  9 10 11 12 13 14 15 16 17 18 19 20 21 22 23 24\n",
      " 25 26 27 28 29 30 31 32 33 34 35 36 37 38 39 40 41 42]\n",
      "[ 0  1  2  3  4  5  6  7  8  9 10 11 12 13 14 15 16 17 18 19 20 21 22 23\n",
      " 24 25 26 27 28 29 30 31 32 33 34 35 36 37 38 39 40 41]\n"
     ]
    }
   ],
   "source": [
    "print(num_beds)\n",
    "print(beds)\n",
    "print(bed_index)"
   ]
  },
  {
   "cell_type": "code",
   "execution_count": 90,
   "metadata": {},
   "outputs": [],
   "source": [
    "# #random assignement of sun requirements and sun availability\n",
    "# plant_info.sun = plant_info.sun.apply(lambda x: np.random.choice(['Full','Partial']))\n",
    "# bed_info.sun = bed_info.sun.apply(lambda x: np.random.choice(['Full','Partial']))"
   ]
  },
  {
   "cell_type": "code",
   "execution_count": 91,
   "metadata": {},
   "outputs": [],
   "source": [
    "#average preference\n",
    "fam = ['evan','gina','liesse','lizzie','jack']\n",
    "plant_info['avg_pref'] = plant_info[fam].mean(axis=1)\n",
    "plant_info.drop(fam,axis=1,inplace=True)\n",
    "preferences = plant_info.avg_pref.to_numpy()\n",
    "plant_index_by_pref = plant_info.sort_values('avg_pref',ascending=False).index \n",
    "\n",
    "plant_spacing = plant_info.plant_spacing.to_numpy()"
   ]
  },
  {
   "cell_type": "code",
   "execution_count": 92,
   "metadata": {},
   "outputs": [],
   "source": [
    "#get plant and bed sun requirements\n",
    "plant_sun_req = plant_info.sun.to_numpy()\n",
    "bed_sun_req = bed_info.sun.to_numpy()"
   ]
  },
  {
   "cell_type": "code",
   "execution_count": 190,
   "metadata": {},
   "outputs": [],
   "source": [
    "weights = {'yield_': 0.01,\n",
    "           'yummy_score': 0.98,\n",
    "           'variety_score': 0.01}"
   ]
  },
  {
   "cell_type": "code",
   "execution_count": 170,
   "metadata": {},
   "outputs": [
    {
     "data": {
      "text/plain": [
       "12"
      ]
     },
     "execution_count": 170,
     "metadata": {},
     "output_type": "execute_result"
    }
   ],
   "source": [
    "plant_info.sort_values('avg_pref',ascending=False).iloc[0].name"
   ]
  },
  {
   "cell_type": "code",
   "execution_count": 171,
   "metadata": {},
   "outputs": [],
   "source": [
    "#most preferred \n",
    "max_pref = plant_info.sort_values('avg_pref',ascending=False).iloc[0].name"
   ]
  },
  {
   "cell_type": "code",
   "execution_count": 172,
   "metadata": {},
   "outputs": [],
   "source": [
    "#convert info dfs to dicts\n",
    "# plant_info = plant_info.to_dict(orient='index')\n",
    "# bed_info = bed_info.to_dict(orient='index')"
   ]
  },
  {
   "cell_type": "code",
   "execution_count": 173,
   "metadata": {},
   "outputs": [],
   "source": [
    "#initialize plan. no plants in any bed\n",
    "np.random.seed(2134)\n",
    "plan = np.random.randint(0,10,size=(num_beds,num_plants))\n",
    "\n",
    "#for keeping track of what axis is which\n",
    "bed_axis = 0\n",
    "plant_axis = 1"
   ]
  },
  {
   "cell_type": "code",
   "execution_count": 174,
   "metadata": {},
   "outputs": [],
   "source": [
    "def make_neighbor(plan):\n",
    "    #pick a random bed\n",
    "    bed = np.random.choice(bed_index)\n",
    "    #pick a random plant\n",
    "    plant = np.random.choice(plant_index)\n",
    "    #decide whether to plant another plant in bed or remove one\n",
    "    decision = np.random.choice([-1,1],p=[0.2,0.8])\n",
    "\n",
    "    #make a decision\n",
    "    new_plan = plan.copy()\n",
    "    new_plan[bed][plant] = max(0,new_plan[bed][plant] + decision) #max(0,n) takes care of case of negative planting\n",
    "\n",
    "    return new_plan"
   ]
  },
  {
   "cell_type": "code",
   "execution_count": 175,
   "metadata": {},
   "outputs": [],
   "source": [
    "def sun_constraint(plan,bed_sun_req,plant_sun_req):\n",
    "    \"\"\"\n",
    "    Scans beds and plants, kills any plant that is in a bed that does not match its sun requirement.\n",
    "    \"\"\"\n",
    "    plan_sun = plan.copy()\n",
    "    for b in bed_index:\n",
    "        for p in plant_index:\n",
    "            b_sun = bed_sun_req[b]\n",
    "            p_sun = plant_sun_req[p]\n",
    "            if b_sun != p_sun:\n",
    "                plan_sun[b][p] = 0\n",
    "    return plan_sun\n",
    "plan = sun_constraint(plan,bed_sun_req,plant_sun_req)"
   ]
  },
  {
   "cell_type": "code",
   "execution_count": 176,
   "metadata": {},
   "outputs": [
    {
     "data": {
      "text/plain": [
       "6.666666666666667"
      ]
     },
     "execution_count": 176,
     "metadata": {},
     "output_type": "execute_result"
    }
   ],
   "source": [
    "bed_length*12/18"
   ]
  },
  {
   "cell_type": "code",
   "execution_count": 177,
   "metadata": {},
   "outputs": [
    {
     "data": {
      "text/plain": [
       "array([[0, 0, 1, ..., 0, 4, 1],\n",
       "       [0, 0, 0, ..., 1, 5, 2],\n",
       "       [0, 0, 1, ..., 6, 0, 0],\n",
       "       ...,\n",
       "       [1, 7, 0, ..., 0, 0, 0],\n",
       "       [0, 6, 0, ..., 0, 0, 0],\n",
       "       [7, 9, 0, ..., 0, 0, 0]])"
      ]
     },
     "execution_count": 177,
     "metadata": {},
     "output_type": "execute_result"
    }
   ],
   "source": [
    "plan"
   ]
  },
  {
   "cell_type": "code",
   "execution_count": 178,
   "metadata": {},
   "outputs": [],
   "source": [
    "def bed_packing(bed,plan,bed_length,plant_index_by_pref,plant_spacing):\n",
    "    \"\"\"\n",
    "    Handles the fact that the plan doesn't account for the spacing constraints required in each bed. Plan is likely \n",
    "    over planting inside of each bed. Each bed is now a separate bin packing problem. This function applies a greedy \n",
    "    heuristic for updating a plan to prioritize planting most preferred plants until you run out of space. Not\n",
    "    necessarily optimal because you could improve the objective by planting less preferred plants that require less space.    \n",
    "    \"\"\"\n",
    "    plan_beds_finalized = plan.copy()\n",
    "    remaining_capacity = bed_length*12\n",
    "\n",
    "    for plant in plant_index_by_pref:\n",
    "        if remaining_capacity>0:\n",
    "            spacing = plant_spacing[plant]\n",
    "            num_plants_planned = plan[bed][plant]\n",
    "            num_plant_capacity = remaining_capacity/spacing\n",
    "            plants_planted = min(num_plants_planned,num_plant_capacity) #ensures I don't exceed capacity\n",
    "            plan_beds_finalized[bed][plant] = plants_planted\n",
    "            remaining_capacity -= plants_planted*spacing\n",
    "        else:\n",
    "            plan_beds_finalized[bed][plant] = 0 #once I run out of capacity, update plan to plant 0       \n",
    "    return plan_beds_finalized\n"
   ]
  },
  {
   "cell_type": "code",
   "execution_count": 179,
   "metadata": {},
   "outputs": [
    {
     "data": {
      "text/plain": [
       "2474"
      ]
     },
     "execution_count": 179,
     "metadata": {},
     "output_type": "execute_result"
    }
   ],
   "source": [
    "plan.sum()"
   ]
  },
  {
   "cell_type": "code",
   "execution_count": 180,
   "metadata": {},
   "outputs": [],
   "source": [
    "def compute_yield(plan):\n",
    "    \"\"\"\n",
    "    Yield is the % of plants that are planted and survive. Not all plants will survive where they are planted.\n",
    "    This is where we impose constraints on sun requirements, year-over-year planting requirements, and companion planting requirements.\n",
    "    Returns the total number of surviving plants / the total plants planted.\n",
    "    \"\"\"\n",
    "    # \n",
    "    #Too little/too much sun can kill certain plants\n",
    "    #Some plants don't do well depending on what was planted the year before\n",
    "    #Some plants don't go well next to each other\n",
    "\n",
    "    #denominator. total number of plants planted\n",
    "    total_plants_planted = plan.sum()    \n",
    "\n",
    "    #impose constraints that kill plants in beds where they are not supposed to be\n",
    "    plan = sun_constraint(plan,bed_sun_req,plant_sun_req)\n",
    "    # plan = yoy_planting_constraint(plan)\n",
    "    # plan = companion_planting_constraint(plan)\n",
    "    return (plan.sum()/total_plants_planted)*100"
   ]
  },
  {
   "cell_type": "code",
   "execution_count": 181,
   "metadata": {},
   "outputs": [],
   "source": [
    "def compute_yummy_score(plan,preferences):\n",
    "    \"\"\"Takes the weighted average of the preferences of each plant, weighted by the total qty of plants \n",
    "    in the current plan for each plant. Maximization encourages plants with higher preferences to be planted in higher quantities.\"\"\"\n",
    "    plan_by_plant = plan.sum(axis=bed_axis)\n",
    "    yums = np.average(preferences,weights=plan_by_plant)*10\n",
    "    return yums"
   ]
  },
  {
   "cell_type": "code",
   "execution_count": 182,
   "metadata": {},
   "outputs": [],
   "source": [
    "def compute_variety_score(plan,num_plants):\n",
    "    \"\"\"Sums the number of unique plants that are actually planted in the garden. Counts the number of plants that are being planted across all beds.\n",
    "       Then counts the number of plants with non-zero planting plan. \n",
    "       Maximization encourages more unique plants to be planted.\"\"\"\n",
    "    variety_score = (plan.sum(axis=bed_axis) > 0).sum()/num_plants*100\n",
    "    return variety_score"
   ]
  },
  {
   "cell_type": "code",
   "execution_count": 183,
   "metadata": {},
   "outputs": [],
   "source": [
    "def get_objective(plan,weights,initial_obj_values):\n",
    "    yield_ = compute_yield(plan)\n",
    "    yummy_score = compute_yummy_score(plan,preferences)\n",
    "    variety_score = compute_variety_score(plan,num_plants)\n",
    "    objective = (\n",
    "                (weights['yield_']*yield_) / initial_obj_values['yield_']\n",
    "              + (weights['yummy_score']*yummy_score) / initial_obj_values['yummy_score'] \n",
    "              + (weights['variety_score']*variety_score) / initial_obj_values['variety_score']\n",
    "                )\n",
    "    return (objective,{'objective':objective,'yield_':yield_,'yummy_score':yummy_score,'variety_score':variety_score})"
   ]
  },
  {
   "cell_type": "code",
   "execution_count": 184,
   "metadata": {},
   "outputs": [],
   "source": [
    "def optimize(initial_plan,weights,starting_temperature=10000,alpha=0.99,max_SA_iter=10000,max_hone_iter=1000):\n",
    "    \n",
    "    initial_obj_values = {'yield_': compute_yield(plan),\n",
    "                          'yummy_score': compute_yummy_score(plan,preferences),\n",
    "                          'variety_score': compute_variety_score(plan,num_plants)}\n",
    "\n",
    "    current_plan = initial_plan.copy()\n",
    "    current_objective,current_obj_values = get_objective(initial_plan,weights,initial_obj_values)\n",
    "    \n",
    "    best_plan = initial_plan.copy()\n",
    "    best_objective = current_objective\n",
    "\n",
    "    current_plan_obj_values = [(0,current_obj_values)]\n",
    "    best_obj_values = [(0,current_obj_values)]\n",
    "    \n",
    "    temperature = starting_temperature\n",
    "\n",
    "    for i in range(max_SA_iter):\n",
    "        # start = time.time()\n",
    "        new_plan = make_neighbor(current_plan)\n",
    "        # print('1:',(time.time()-start)*1000)\n",
    "        # start = time.time()\n",
    "\n",
    "        #loop through beds and solve sub-problems\n",
    "        for bed in bed_index: #this loop would be taken out if paralelizing this\n",
    "            new_plan = bed_packing(bed,new_plan,bed_length,plant_index_by_pref,plant_spacing)\n",
    "        # print('2:',(time.time()-start)*1000)\n",
    "        # start = time.time()\n",
    "        new_objective,new_obj_values = get_objective(new_plan,weights,initial_obj_values)\n",
    "        \n",
    "        if new_objective > current_objective or np.exp(-(new_objective - current_objective)/temperature) > np.random.uniform():\n",
    "            current_plan = new_plan.copy()\n",
    "            current_objective = new_objective\n",
    "            current_plan_obj_values.append((i,new_obj_values))\n",
    "            \n",
    "        # print('3:',(time.time()-start)*1000)\n",
    "        # start = time.time()\n",
    "        if new_objective > best_objective:\n",
    "            best_plan = new_plan.copy()\n",
    "            best_objective = new_objective\n",
    "            best_obj_values.append((i,new_obj_values))      \n",
    "        # print('4:',(time.time()-start)*1000)\n",
    "        # start = time.time()\n",
    "        #lower the temperature\n",
    "        temperature *= temperature*alpha\n",
    "\n",
    "    #add step to hone the best found solution after SA is complete (only accept improvement)\n",
    "    for i in range(max_hone_iter):\n",
    "        new_plan = make_neighbor(best_plan)\n",
    "\n",
    "        #loop through beds and solve sub-problems\n",
    "        for bed in bed_index: #this loop would be taken out if paralelizing this\n",
    "            new_plan = bed_packing(bed,best_plan,bed_length,plant_index_by_pref,plant_spacing)\n",
    "\n",
    "        new_objective,new_obj_values = get_objective(new_plan,weights,initial_obj_values)\n",
    "    \n",
    "        if new_objective > best_objective:\n",
    "            best_plan = new_plan.copy()\n",
    "            best_objective = new_objective\n",
    "            best_obj_values.append((i,new_obj_values))\n",
    "        \n",
    "    \n",
    "    return best_plan,best_objective,best_obj_values,current_plan_obj_values"
   ]
  },
  {
   "cell_type": "code",
   "execution_count": 191,
   "metadata": {},
   "outputs": [],
   "source": [
    "best_plan,best_objective,best_obj_values,current_plan_obj_values = optimize(plan,weights,max_SA_iter=10000,max_hone_iter=1000)"
   ]
  },
  {
   "cell_type": "code",
   "execution_count": 192,
   "metadata": {},
   "outputs": [
    {
     "data": {
      "text/plain": [
       "{'objective': 1.5041254483631816,\n",
       " 'yield_': 42.36760124610592,\n",
       " 'yummy_score': 82.38006230529595,\n",
       " 'variety_score': 36.11111111111111}"
      ]
     },
     "execution_count": 192,
     "metadata": {},
     "output_type": "execute_result"
    }
   ],
   "source": [
    "best_obj_values[-1][1]"
   ]
  },
  {
   "cell_type": "code",
   "execution_count": 205,
   "metadata": {},
   "outputs": [],
   "source": [
    "objectives = []\n",
    "yields = []\n",
    "yummy_scores = []\n",
    "variety_scores = []\n",
    "for i in current_plan_obj_values:\n",
    "    objectives.append(i[1]['objective'])\n",
    "    yields.append(i[1]['yield_'])\n",
    "    yummy_scores.append(i[1]['yummy_score'])\n",
    "    variety_scores.append(i[1]['variety_score'])"
   ]
  },
  {
   "cell_type": "code",
   "execution_count": 239,
   "metadata": {},
   "outputs": [],
   "source": [
    "df = pd.DataFrame([objectives,yields,yummy_scores,variety_scores]).T\n",
    "df.columns = ['objective','yield_','yummy_score','variety_score']"
   ]
  },
  {
   "cell_type": "code",
   "execution_count": 240,
   "metadata": {},
   "outputs": [],
   "source": [
    "df.reset_index(inplace=True)"
   ]
  },
  {
   "cell_type": "code",
   "execution_count": 241,
   "metadata": {},
   "outputs": [],
   "source": [
    "df = df.melt(id_vars=['index','objective'])"
   ]
  },
  {
   "cell_type": "code",
   "execution_count": 242,
   "metadata": {},
   "outputs": [
    {
     "data": {
      "text/html": [
       "<div>\n",
       "<style scoped>\n",
       "    .dataframe tbody tr th:only-of-type {\n",
       "        vertical-align: middle;\n",
       "    }\n",
       "\n",
       "    .dataframe tbody tr th {\n",
       "        vertical-align: top;\n",
       "    }\n",
       "\n",
       "    .dataframe thead th {\n",
       "        text-align: right;\n",
       "    }\n",
       "</style>\n",
       "<table border=\"1\" class=\"dataframe\">\n",
       "  <thead>\n",
       "    <tr style=\"text-align: right;\">\n",
       "      <th></th>\n",
       "      <th>index</th>\n",
       "      <th>objective</th>\n",
       "      <th>variable</th>\n",
       "      <th>value</th>\n",
       "    </tr>\n",
       "  </thead>\n",
       "  <tbody>\n",
       "    <tr>\n",
       "      <th>0</th>\n",
       "      <td>0</td>\n",
       "      <td>1.000000</td>\n",
       "      <td>yield_</td>\n",
       "      <td>100.000000</td>\n",
       "    </tr>\n",
       "    <tr>\n",
       "      <th>1</th>\n",
       "      <td>1</td>\n",
       "      <td>1.340461</td>\n",
       "      <td>yield_</td>\n",
       "      <td>100.000000</td>\n",
       "    </tr>\n",
       "    <tr>\n",
       "      <th>2</th>\n",
       "      <td>2</td>\n",
       "      <td>1.340461</td>\n",
       "      <td>yield_</td>\n",
       "      <td>100.000000</td>\n",
       "    </tr>\n",
       "    <tr>\n",
       "      <th>3</th>\n",
       "      <td>3</td>\n",
       "      <td>1.342522</td>\n",
       "      <td>yield_</td>\n",
       "      <td>99.672131</td>\n",
       "    </tr>\n",
       "    <tr>\n",
       "      <th>4</th>\n",
       "      <td>4</td>\n",
       "      <td>1.342522</td>\n",
       "      <td>yield_</td>\n",
       "      <td>99.672131</td>\n",
       "    </tr>\n",
       "    <tr>\n",
       "      <th>...</th>\n",
       "      <td>...</td>\n",
       "      <td>...</td>\n",
       "      <td>...</td>\n",
       "      <td>...</td>\n",
       "    </tr>\n",
       "    <tr>\n",
       "      <th>29998</th>\n",
       "      <td>9996</td>\n",
       "      <td>1.500915</td>\n",
       "      <td>variety_score</td>\n",
       "      <td>41.666667</td>\n",
       "    </tr>\n",
       "    <tr>\n",
       "      <th>29999</th>\n",
       "      <td>9997</td>\n",
       "      <td>1.499686</td>\n",
       "      <td>variety_score</td>\n",
       "      <td>41.666667</td>\n",
       "    </tr>\n",
       "    <tr>\n",
       "      <th>30000</th>\n",
       "      <td>9998</td>\n",
       "      <td>1.499686</td>\n",
       "      <td>variety_score</td>\n",
       "      <td>41.666667</td>\n",
       "    </tr>\n",
       "    <tr>\n",
       "      <th>30001</th>\n",
       "      <td>9999</td>\n",
       "      <td>1.499686</td>\n",
       "      <td>variety_score</td>\n",
       "      <td>41.666667</td>\n",
       "    </tr>\n",
       "    <tr>\n",
       "      <th>30002</th>\n",
       "      <td>10000</td>\n",
       "      <td>1.499686</td>\n",
       "      <td>variety_score</td>\n",
       "      <td>41.666667</td>\n",
       "    </tr>\n",
       "  </tbody>\n",
       "</table>\n",
       "<p>30003 rows × 4 columns</p>\n",
       "</div>"
      ],
      "text/plain": [
       "       index  objective       variable       value\n",
       "0          0   1.000000         yield_  100.000000\n",
       "1          1   1.340461         yield_  100.000000\n",
       "2          2   1.340461         yield_  100.000000\n",
       "3          3   1.342522         yield_   99.672131\n",
       "4          4   1.342522         yield_   99.672131\n",
       "...      ...        ...            ...         ...\n",
       "29998   9996   1.500915  variety_score   41.666667\n",
       "29999   9997   1.499686  variety_score   41.666667\n",
       "30000   9998   1.499686  variety_score   41.666667\n",
       "30001   9999   1.499686  variety_score   41.666667\n",
       "30002  10000   1.499686  variety_score   41.666667\n",
       "\n",
       "[30003 rows x 4 columns]"
      ]
     },
     "execution_count": 242,
     "metadata": {},
     "output_type": "execute_result"
    }
   ],
   "source": [
    "df"
   ]
  },
  {
   "cell_type": "code",
   "execution_count": 244,
   "metadata": {},
   "outputs": [
    {
     "data": {
      "text/plain": [
       "{'yield_': 0.01, 'yummy_score': 0.98, 'variety_score': 0.01}"
      ]
     },
     "execution_count": 244,
     "metadata": {},
     "output_type": "execute_result"
    }
   ],
   "source": [
    "weights"
   ]
  },
  {
   "cell_type": "code",
   "execution_count": 253,
   "metadata": {},
   "outputs": [
    {
     "data": {
      "text/plain": [
       "<AxesSubplot:xlabel='index', ylabel='objective'>"
      ]
     },
     "execution_count": 253,
     "metadata": {},
     "output_type": "execute_result"
    },
    {
     "data": {
      "image/png": "[encoded data removed]",
      "text/plain": [
       "<Figure size 1440x576 with 2 Axes>"
      ]
     },
     "metadata": {},
     "output_type": "display_data"
    }
   ],
   "source": [
    "fig, ax = plt.subplots(figsize=(20,8))\n",
    "sb.scatterplot(data=df,x='index',y='value',hue='variable',edgecolor=None)\n",
    "plt.legend(bbox_to_anchor=(1.05, 1), loc='upper left', borderaxespad=0)\n",
    "\n",
    "ax2 = plt.twinx()\n",
    "sb.scatterplot(data=df.drop_duplicates(['index','objective']),x='index',y='objective',edgecolor=None,ax=ax2,color='black')"
   ]
  }
 ],
 "metadata": {
  "interpreter": {
   "hash": "4b7cec192fff35eb9040503ce2e7b3079b3ef69864e682c4ab7f0f197960dcef"
  },
  "kernelspec": {
   "display_name": "Python 3.7.1",
   "language": "python",
   "name": "python3"
  },
  "language_info": {
   "codemirror_mode": {
    "name": "ipython",
    "version": 3
   },
   "file_extension": ".py",
   "mimetype": "text/x-python",
   "name": "python",
   "nbconvert_exporter": "python",
   "pygments_lexer": "ipython3",
   "version": "3.8.5"
  },
  "orig_nbformat": 4
 },
 "nbformat": 4,
 "nbformat_minor": 2
}
