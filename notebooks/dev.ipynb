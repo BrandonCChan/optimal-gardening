{
 "cells": [
  {
   "cell_type": "code",
   "execution_count": 45,
   "metadata": {},
   "outputs": [],
   "source": [
    "import numpy as np\n",
    "import pandas as pd"
   ]
  },
  {
   "cell_type": "markdown",
   "metadata": {},
   "source": [
    "#### TODO:\n",
    "- add capacity constraint (may end up being a separate bin packing problem. potentially leverage parallel processing for this and just implement a greedy approach here)\n",
    "- convert the yummy score to the weighted average preference (weighted by qty of plants of each type)\n",
    "- add objective to only plant 1-2 unique plants per bed\n",
    "- add to bed info the list of incompatable plants in that bed\n",
    "- lookup sun requirements for plants\n",
    "- weighting of objectives\n",
    "- weight preferences\n",
    "- more realistic preferences\n",
    "- look into parallel processing. potentially have notebook run in AWS\n",
    "- visualizations at the end\n",
    "- turn into a class\n",
    "- look into random seed best practices"
   ]
  },
  {
   "cell_type": "code",
   "execution_count": 46,
   "metadata": {},
   "outputs": [],
   "source": [
    "plant_info = pd.read_csv('../data/plant_data.csv')\n",
    "bed_info = pd.read_csv('../data/bed_data.csv')"
   ]
  },
  {
   "cell_type": "code",
   "execution_count": 47,
   "metadata": {},
   "outputs": [],
   "source": [
    "plant_info.index.name = 'plant_index'\n",
    "plants = plant_info.plant.to_numpy()\n",
    "plant_index = plant_info.index.to_numpy()\n",
    "num_plants = len(plants)"
   ]
  },
  {
   "cell_type": "code",
   "execution_count": 48,
   "metadata": {},
   "outputs": [],
   "source": [
    "bed_info.index.name = 'bed_index'\n",
    "beds = bed_info.bed.to_numpy()\n",
    "bed_index = bed_info.index.to_numpy()\n",
    "num_beds = len(beds)\n",
    "\n",
    "bed_width = 3\n",
    "bed_length = 10"
   ]
  },
  {
   "cell_type": "code",
   "execution_count": 49,
   "metadata": {},
   "outputs": [
    {
     "name": "stdout",
     "output_type": "stream",
     "text": [
      "42\n",
      "[ 1  2  3  4  5  6  7  8  9 10 11 12 13 14 15 16 17 18 19 20 21 22 23 24\n",
      " 25 26 27 28 29 30 31 32 33 34 35 36 37 38 39 40 41 42]\n",
      "[ 0  1  2  3  4  5  6  7  8  9 10 11 12 13 14 15 16 17 18 19 20 21 22 23\n",
      " 24 25 26 27 28 29 30 31 32 33 34 35 36 37 38 39 40 41]\n"
     ]
    }
   ],
   "source": [
    "print(num_beds)\n",
    "print(beds)\n",
    "print(bed_index)"
   ]
  },
  {
   "cell_type": "code",
   "execution_count": 50,
   "metadata": {},
   "outputs": [],
   "source": [
    "# #random assignement of sun requirements and sun availability\n",
    "# plant_info.sun = plant_info.sun.apply(lambda x: np.random.choice(['Full','Partial']))\n",
    "# bed_info.sun = bed_info.sun.apply(lambda x: np.random.choice(['Full','Partial']))"
   ]
  },
  {
   "cell_type": "code",
   "execution_count": 51,
   "metadata": {},
   "outputs": [],
   "source": [
    "#average preference\n",
    "fam = ['evan','gina','liesse','lizzie','jack']\n",
    "plant_info['avg_pref'] = plant_info[fam].mean(axis=1)\n",
    "plant_info.drop(fam,axis=1,inplace=True)\n",
    "preferences = plant_info.avg_pref.to_numpy()\n",
    "plant_index_by_pref = plant_info.sort_values('avg_pref',ascending=False).index \n",
    "\n",
    "plant_spacing = plant_info.plant_spacing.to_numpy()"
   ]
  },
  {
   "cell_type": "code",
   "execution_count": 52,
   "metadata": {},
   "outputs": [],
   "source": [
    "#get plant and bed sun requirements\n",
    "plant_sun_req = plant_info.sun.to_numpy()\n",
    "bed_sun_req = bed_info.sun.to_numpy()"
   ]
  },
  {
   "cell_type": "code",
   "execution_count": null,
   "metadata": {},
   "outputs": [],
   "source": [
    "weights = {'yield_': 0.3333,\n",
    "           'yummy_score': 0.3333,\n",
    "           'variety_score': 0.3333}"
   ]
  },
  {
   "cell_type": "code",
   "execution_count": 53,
   "metadata": {},
   "outputs": [
    {
     "data": {
      "text/plain": [
       "12"
      ]
     },
     "execution_count": 53,
     "metadata": {},
     "output_type": "execute_result"
    }
   ],
   "source": [
    "plant_info.sort_values('avg_pref',ascending=False).iloc[0].name"
   ]
  },
  {
   "cell_type": "code",
   "execution_count": 54,
   "metadata": {},
   "outputs": [],
   "source": [
    "#most preferred \n",
    "max_pref = plant_info.sort_values('avg_pref',ascending=False).iloc[0].name"
   ]
  },
  {
   "cell_type": "code",
   "execution_count": 55,
   "metadata": {},
   "outputs": [],
   "source": [
    "#convert info dfs to dicts\n",
    "# plant_info = plant_info.to_dict(orient='index')\n",
    "# bed_info = bed_info.to_dict(orient='index')"
   ]
  },
  {
   "cell_type": "code",
   "execution_count": 56,
   "metadata": {},
   "outputs": [],
   "source": [
    "#initialize plan. no plants in any bed\n",
    "np.random.seed(2134)\n",
    "plan = np.random.randint(0,10,size=(num_beds,num_plants))\n",
    "\n",
    "#for keeping track of what axis is which\n",
    "bed_axis = 0\n",
    "plant_axis = 1"
   ]
  },
  {
   "cell_type": "code",
   "execution_count": 57,
   "metadata": {},
   "outputs": [],
   "source": [
    "# #generate initial solution using a greedy heuristic. \n",
    "# #plant most preferred fruit or veggie and plant everywhere\n",
    "\n",
    "# def initial_solution(plan,max_pref):\n",
    "\n",
    "#     initial_solution = plan.copy()\n",
    "#     return initial_solution"
   ]
  },
  {
   "cell_type": "code",
   "execution_count": 58,
   "metadata": {},
   "outputs": [],
   "source": [
    "def make_neighbor(plan):\n",
    "    #pick a random bed\n",
    "    bed = np.random.choice(bed_index)\n",
    "    #pick a random plant\n",
    "    plant = np.random.choice(plant_index)\n",
    "    #decide whether to plant another plant in bed or remove one\n",
    "    decision = np.random.choice([-1,1],p=[0.2,0.8])\n",
    "\n",
    "    #make a decision\n",
    "    new_plan = plan.copy()\n",
    "    new_plan[bed][plant] = max(0,new_plan[bed][plant] + decision) #max(0,n) takes care of case of negative planting\n",
    "\n",
    "    return new_plan"
   ]
  },
  {
   "cell_type": "code",
   "execution_count": 59,
   "metadata": {},
   "outputs": [],
   "source": [
    "def sun_constraint(plan,bed_sun_req,plant_sun_req):\n",
    "    \"\"\"\n",
    "    Scans beds and plants, kills any plant that is in a bed that does not match its sun requirement.\n",
    "    \"\"\"\n",
    "    plan_sun = plan.copy()\n",
    "    for b in bed_index:\n",
    "        for p in plant_index:\n",
    "            b_sun = bed_sun_req[b]\n",
    "            p_sun = plant_sun_req[p]\n",
    "            if b_sun != p_sun:\n",
    "                plan_sun[b][p] = 0\n",
    "    return plan_sun\n",
    "plan = sun_constraint(plan,bed_sun_req,plant_sun_req)"
   ]
  },
  {
   "cell_type": "code",
   "execution_count": 60,
   "metadata": {},
   "outputs": [
    {
     "data": {
      "text/plain": [
       "6.666666666666667"
      ]
     },
     "execution_count": 60,
     "metadata": {},
     "output_type": "execute_result"
    }
   ],
   "source": [
    "bed_length*12/18"
   ]
  },
  {
   "cell_type": "code",
   "execution_count": 61,
   "metadata": {},
   "outputs": [
    {
     "data": {
      "text/plain": [
       "array([[0, 0, 1, ..., 0, 4, 1],\n",
       "       [0, 0, 0, ..., 1, 5, 2],\n",
       "       [0, 0, 1, ..., 6, 0, 0],\n",
       "       ...,\n",
       "       [1, 7, 0, ..., 0, 0, 0],\n",
       "       [0, 6, 0, ..., 0, 0, 0],\n",
       "       [7, 9, 0, ..., 0, 0, 0]])"
      ]
     },
     "execution_count": 61,
     "metadata": {},
     "output_type": "execute_result"
    }
   ],
   "source": [
    "plan"
   ]
  },
  {
   "cell_type": "code",
   "execution_count": null,
   "metadata": {},
   "outputs": [],
   "source": []
  },
  {
   "cell_type": "code",
   "execution_count": 62,
   "metadata": {},
   "outputs": [],
   "source": [
    "def bed_packing(bed,plan,bed_length,plant_index_by_pref,plant_spacing):\n",
    "    \"\"\"\n",
    "    Handles the fact that the plan doesn't account for the spacing constraints required in each bed. Plan is likely \n",
    "    over planting inside of each bed. Each bed is now a separate bin packing problem. This function applies a greedy \n",
    "    heuristic for updating a plan to prioritize planting most preferred plants until you run out of space. Not\n",
    "    necessarily optimal because you could improve the objective by planting less preferred plants that require less space.    \n",
    "    \"\"\"\n",
    "    plan_beds_finalized = plan.copy()\n",
    "    remaining_capacity = bed_length*12\n",
    "\n",
    "    for plant in plant_index_by_pref:\n",
    "        if remaining_capacity>0:\n",
    "            spacing = plant_spacing[plant]\n",
    "            num_plants_planned = plan[bed][plant]\n",
    "            num_plant_capacity = remaining_capacity/spacing\n",
    "            plants_planted = min(num_plants_planned,num_plant_capacity) #ensures I don't exceed capacity\n",
    "            plan_beds_finalized[bed][plant] = plants_planted\n",
    "            remaining_capacity -= plants_planted*spacing\n",
    "        else:\n",
    "            plan_beds_finalized[bed][plant] = 0 #once I run out of capacity, update plan to plant 0       \n",
    "    return plan_beds_finalized\n"
   ]
  },
  {
   "cell_type": "code",
   "execution_count": 63,
   "metadata": {},
   "outputs": [
    {
     "data": {
      "text/plain": [
       "2474"
      ]
     },
     "execution_count": 63,
     "metadata": {},
     "output_type": "execute_result"
    }
   ],
   "source": [
    "plan.sum()"
   ]
  },
  {
   "cell_type": "code",
   "execution_count": 66,
   "metadata": {},
   "outputs": [],
   "source": [
    "# def yoy_planting_constraint(plan)"
   ]
  },
  {
   "cell_type": "code",
   "execution_count": 67,
   "metadata": {},
   "outputs": [],
   "source": [
    "def compute_yield(plan):\n",
    "    \"\"\"\n",
    "    Yield is the % of plants that are planted and survive. Not all plants will survive where they are planted.\n",
    "    This is where we impose constraints on sun requirements, year-over-year planting requirements, and companion planting requirements.\n",
    "    Returns the total number of surviving plants / the total plants planted.\n",
    "    \"\"\"\n",
    "    # \n",
    "    #Too little/too much sun can kill certain plants\n",
    "    #Some plants don't do well depending on what was planted the year before\n",
    "    #Some plants don't go well next to each other\n",
    "\n",
    "    #denominator. total number of plants planted\n",
    "    total_plants_planted = plan.sum()    \n",
    "\n",
    "    #impose constraints that kill plants in beds where they are not supposed to be\n",
    "    plan = sun_constraint(plan,bed_sun_req,plant_sun_req)\n",
    "    # plan = yoy_planting_constraint(plan)\n",
    "    # plan = companion_planting_constraint(plan)\n",
    "    return (plan.sum()/total_plants_planted)*100\n",
    "\n"
   ]
  },
  {
   "cell_type": "code",
   "execution_count": 68,
   "metadata": {},
   "outputs": [],
   "source": [
    "def compute_yummy_score(plan,preferences):\n",
    "    \"\"\"Multiplies the avg preference for each plant by the quantity of each plant in the plan.\n",
    "       Maximization encourages plants with higher preferences to be planted in higher quantities.\"\"\"\n",
    "    plan_by_plant = plan.sum(axis=bed_axis)\n",
    "    yums = (plan_by_plant*preferences).sum()\n",
    "    return yums"
   ]
  },
  {
   "cell_type": "code",
   "execution_count": 69,
   "metadata": {},
   "outputs": [],
   "source": [
    "def compute_variety_score(plan):\n",
    "    \"\"\"Sums the number of unique plants that are actually planted in the garden. Counts the number of plants that are being planted across all beds.\n",
    "       Then counts the number of plants with non-zero planting plan. \n",
    "       Maximization encourages more unique plants to be planted.\"\"\"\n",
    "    variety_score = (plan.sum(axis=bed_axis) > 0).sum()\n",
    "    return variety_score"
   ]
  },
  {
   "cell_type": "code",
   "execution_count": 70,
   "metadata": {},
   "outputs": [],
   "source": []
  },
  {
   "cell_type": "code",
   "execution_count": 71,
   "metadata": {},
   "outputs": [
    {
     "data": {
      "text/plain": [
       "{'yield_': 100.0, 'yummy_score': 13348.599999999999, 'variety_score': 36}"
      ]
     },
     "execution_count": 71,
     "metadata": {},
     "output_type": "execute_result"
    }
   ],
   "source": [
    "initial_obj_values"
   ]
  },
  {
   "cell_type": "code",
   "execution_count": 1,
   "metadata": {},
   "outputs": [],
   "source": [
    "def get_objective(plan,weights,initial_obj_values):\n",
    "    yield_ = compute_yield(plan)\n",
    "    yummy_score = compute_yummy_score(plan,preferences)\n",
    "    variety_score = compute_variety_score(plan)\n",
    "    objective = (\n",
    "                (weights['yield_']*yield_) / initial_obj_values['yield_']\n",
    "              + (weights['yummy_score']*yummy_score) / initial_obj_values['yummy_score'] \n",
    "              + (weights['variety_score']*variety_score) / initial_obj_values['variety_score']\n",
    "                )\n",
    "    return objective\n"
   ]
  },
  {
   "cell_type": "code",
   "execution_count": 76,
   "metadata": {},
   "outputs": [
    {
     "data": {
      "text/plain": [
       "array([[ 0,  0,  0, ...,  0,  4,  1],\n",
       "       [ 2,  0,  0, ...,  1,  4,  2],\n",
       "       [ 0,  1,  2, ...,  7,  1,  0],\n",
       "       ...,\n",
       "       [ 2,  6,  0, ...,  0,  1,  1],\n",
       "       [ 1,  6,  2, ...,  1,  0,  1],\n",
       "       [ 7, 10,  2, ...,  0,  3,  1]])"
      ]
     },
     "execution_count": 76,
     "metadata": {},
     "output_type": "execute_result"
    }
   ],
   "source": [
    "def optimize(initial_plan,weights,max_iter=10,starting_temperature=10000,alpha=0.99):\n",
    "\n",
    "    initial_obj_values = {'yield_': compute_yield(plan),\n",
    "                          'yummy_score': compute_yummy_score(plan,preferences),\n",
    "                          'variety_score': compute_variety_score(plan)}\n",
    "\n",
    "    current_plan = initial_plan.copy()\n",
    "    current_objective = get_objective(initial_plan,weights,initial_obj_values)\n",
    "    \n",
    "    best_plan = initial_plan.copy()\n",
    "    best_obj = current_objective\n",
    "        \n",
    "    for i in range(max_iter):\n",
    "        new_plan = make_neighbor(plan)\n",
    "        new_obj = get_objective(plan,weights,initial_obj_values)\n",
    "\n",
    "        #loop through beds and solve sub-problems\n",
    "        for bed in bed_index: #this loop would be taken out if paralelizing this\n",
    "            bed_packing(bed,plan,bed_length,plant_index_by_pref,plant_spacing)\n",
    "\n",
    "        np.random.uniform()\n",
    "\n",
    "        #lower the temperature\n",
    "        temperature -= 1\n",
    "        \n",
    "    return plan\n",
    "\n",
    "optimize(plan,weights)"
   ]
  },
  {
   "cell_type": "code",
   "execution_count": null,
   "metadata": {},
   "outputs": [],
   "source": []
  },
  {
   "cell_type": "code",
   "execution_count": null,
   "metadata": {},
   "outputs": [],
   "source": [
    "#here we can also apply things like sun requirements, yoy planting constraints, same bed planting constraints\n",
    "    "
   ]
  }
 ],
 "metadata": {
  "interpreter": {
   "hash": "4b7cec192fff35eb9040503ce2e7b3079b3ef69864e682c4ab7f0f197960dcef"
  },
  "kernelspec": {
   "display_name": "Python 3.7.1",
   "language": "python",
   "name": "python3"
  },
  "language_info": {
   "codemirror_mode": {
    "name": "ipython",
    "version": 3
   },
   "file_extension": ".py",
   "mimetype": "text/x-python",
   "name": "python",
   "nbconvert_exporter": "python",
   "pygments_lexer": "ipython3",
   "version": "3.8.5"
  },
  "orig_nbformat": 4
 },
 "nbformat": 4,
 "nbformat_minor": 2
}
