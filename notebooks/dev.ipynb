{
 "cells": [
  {
   "cell_type": "code",
   "execution_count": 35,
   "metadata": {},
   "outputs": [],
   "source": [
    "import numpy as np\n",
    "import pandas as pd"
   ]
  },
  {
   "cell_type": "markdown",
   "metadata": {},
   "source": [
    "#### TODO:\n",
    "- assignment of sun to beds\n",
    "- lookup sun requirements for plants\n",
    "- weighting of preferences"
   ]
  },
  {
   "cell_type": "code",
   "execution_count": 36,
   "metadata": {},
   "outputs": [],
   "source": [
    "plant_info = pd.read_csv('../data/plant_data.csv')\n",
    "bed_info = pd.read_csv('../data/bed_data.csv')"
   ]
  },
  {
   "cell_type": "code",
   "execution_count": 37,
   "metadata": {},
   "outputs": [],
   "source": [
    "plant_info.index.name = 'plant_index'\n",
    "plants = plant_info.plant.to_numpy()\n",
    "plant_index = plant_info.index.to_numpy()\n",
    "num_plants = len(plants)"
   ]
  },
  {
   "cell_type": "code",
   "execution_count": 38,
   "metadata": {},
   "outputs": [],
   "source": [
    "bed_info.index.name = 'bed_index'\n",
    "beds = bed_info.bed.to_numpy()\n",
    "bed_index = bed_info.index.to_numpy()\n",
    "num_beds = len(beds)"
   ]
  },
  {
   "cell_type": "code",
   "execution_count": 39,
   "metadata": {},
   "outputs": [
    {
     "name": "stdout",
     "output_type": "stream",
     "text": [
      "40\n",
      "[ 1  2  3  4  5  6  7  8  9 10 11 12 13 14 15 16 17 18 19 20 21 22 23 24\n",
      " 25 26 27 28 29 30 31 32 33 34 35 36 37 38 39 40]\n",
      "[ 0  1  2  3  4  5  6  7  8  9 10 11 12 13 14 15 16 17 18 19 20 21 22 23\n",
      " 24 25 26 27 28 29 30 31 32 33 34 35 36 37 38 39]\n"
     ]
    }
   ],
   "source": [
    "print(num_beds)\n",
    "print(beds)\n",
    "print(bed_index)"
   ]
  },
  {
   "cell_type": "code",
   "execution_count": 40,
   "metadata": {},
   "outputs": [],
   "source": [
    "#random assignement of sun requirements and sun availability\n",
    "plant_info.sun = plant_info.sun.apply(lambda x: np.random.choice(['Full','Partial']))\n",
    "bed_info.sun = bed_info.sun.apply(lambda x: np.random.choice(['Full','Partial']))"
   ]
  },
  {
   "cell_type": "code",
   "execution_count": 41,
   "metadata": {},
   "outputs": [],
   "source": [
    "#average preference\n",
    "fam = ['evan','gina','liesse','lizzie','jack']\n",
    "plant_info['avg_pref'] = plant_info[fam].mean(axis=1)\n",
    "plant_info.drop(fam,axis=1,inplace=True)"
   ]
  },
  {
   "cell_type": "code",
   "execution_count": 42,
   "metadata": {},
   "outputs": [
    {
     "data": {
      "text/plain": [
       "14"
      ]
     },
     "execution_count": 42,
     "metadata": {},
     "output_type": "execute_result"
    }
   ],
   "source": [
    "plant_info.sort_values('avg_pref',ascending=False).iloc[0].name"
   ]
  },
  {
   "cell_type": "code",
   "execution_count": 43,
   "metadata": {},
   "outputs": [],
   "source": [
    "#most preferred \n",
    "max_pref = plant_info.sort_values('avg_pref',ascending=False).iloc[0].name"
   ]
  },
  {
   "cell_type": "code",
   "execution_count": 44,
   "metadata": {},
   "outputs": [],
   "source": [
    "#convert info dfs to dicts\n",
    "plant_info = plant_info.to_dict(orient='index')\n",
    "bed_info = bed_info.to_dict(orient='index')"
   ]
  },
  {
   "cell_type": "code",
   "execution_count": 45,
   "metadata": {},
   "outputs": [],
   "source": [
    "#initialize plan. no plants in any bed\n",
    "plan = np.zeros(shape=(num_beds,num_plants))\n",
    "\n",
    "#for keeping track of what axis is which\n",
    "bed_axis = 0\n",
    "plant_axis = 1"
   ]
  },
  {
   "cell_type": "code",
   "execution_count": 46,
   "metadata": {},
   "outputs": [],
   "source": [
    "# #generate initial solution using a greedy heuristic. \n",
    "# #plant most preferred fruit or veggie and plant everywhere\n",
    "\n",
    "# def initial_solution(plan,max_pref):\n",
    "\n",
    "#     initial_solution = plan.copy()\n",
    "#     return initial_solution"
   ]
  },
  {
   "cell_type": "code",
   "execution_count": 47,
   "metadata": {},
   "outputs": [
    {
     "data": {
      "text/plain": [
       "array([[0., 0., 0., ..., 0., 0., 0.],\n",
       "       [0., 0., 0., ..., 0., 0., 0.],\n",
       "       [0., 0., 0., ..., 0., 0., 0.],\n",
       "       ...,\n",
       "       [0., 0., 0., ..., 0., 0., 0.],\n",
       "       [0., 0., 0., ..., 0., 0., 0.],\n",
       "       [0., 0., 0., ..., 0., 0., 0.]])"
      ]
     },
     "execution_count": 47,
     "metadata": {},
     "output_type": "execute_result"
    }
   ],
   "source": [
    "plan"
   ]
  },
  {
   "cell_type": "code",
   "execution_count": 48,
   "metadata": {},
   "outputs": [
    {
     "data": {
      "text/plain": [
       "1440"
      ]
     },
     "execution_count": 48,
     "metadata": {},
     "output_type": "execute_result"
    }
   ],
   "source": [
    "num_beds*num_plants"
   ]
  },
  {
   "cell_type": "code",
   "execution_count": 49,
   "metadata": {},
   "outputs": [],
   "source": [
    "#add to bed info the list of incompatable plants in that bed"
   ]
  },
  {
   "cell_type": "code",
   "execution_count": 50,
   "metadata": {},
   "outputs": [],
   "source": [
    "def sun_constraint(plan,bed_info,plant_info):\n",
    "    counter = 0\n",
    "    for b in bed_info:\n",
    "        for p in plant_info:\n",
    "            print(b,p)\n",
    "\n",
    "\n",
    "    return plan\n",
    "# sun_constraint(plan,bed_info,plant_info)"
   ]
  },
  {
   "cell_type": "code",
   "execution_count": 51,
   "metadata": {},
   "outputs": [],
   "source": [
    "def make_neighbor(plan):\n",
    "    #pick a random bed\n",
    "    bed = np.random.choice(bed_index)\n",
    "    #pick a random plant\n",
    "    plant = np.random.choice(plant_index)\n",
    "    #decide whether to plant another plant in bed or remove one\n",
    "    decision = np.random.choice([-1,1])\n",
    "\n",
    "    #make a decision\n",
    "    new_plan = plan.copy()\n",
    "    new_plan[bed][plant] = max(0,new_plan[bed][plant] + decision) #max(0,n) takes care of case of negative planting\n",
    "\n",
    "    return new_plan"
   ]
  },
  {
   "cell_type": "code",
   "execution_count": 75,
   "metadata": {},
   "outputs": [
    {
     "name": "stdout",
     "output_type": "stream",
     "text": [
      "741.8\n",
      "748.8\n",
      "748.8\n",
      "751.6\n",
      "757.6\n",
      "757.6\n",
      "763.2\n",
      "770.6000000000001\n",
      "774.4000000000001\n",
      "782.2\n",
      "790.0000000000001\n",
      "790.0000000000001\n",
      "790.0000000000001\n",
      "790.0000000000001\n",
      "790.0000000000001\n",
      "792.8000000000001\n",
      "792.8000000000001\n",
      "797.8000000000001\n",
      "801.8000000000001\n",
      "810.0\n",
      "810.0\n",
      "810.0\n",
      "810.0\n",
      "814.8000000000001\n",
      "814.8000000000001\n",
      "814.8000000000001\n",
      "820.6\n",
      "820.6\n",
      "820.6\n",
      "825.6\n",
      "829.8\n",
      "829.8\n",
      "829.8\n",
      "833.8\n",
      "833.8\n",
      "841.1999999999999\n",
      "846.8\n",
      "841.8\n",
      "841.8\n",
      "841.8\n",
      "846.0\n",
      "846.0\n",
      "851.6\n",
      "854.0\n",
      "849.8\n",
      "854.2\n",
      "854.2\n",
      "854.2\n",
      "854.2\n",
      "856.6\n",
      "856.6\n",
      "856.6\n",
      "852.1999999999999\n",
      "856.1999999999999\n",
      "862.1999999999999\n",
      "866.8\n",
      "864.0\n",
      "859.0\n",
      "859.0\n",
      "865.0\n",
      "865.0\n",
      "865.0\n",
      "869.0\n",
      "876.0\n",
      "876.0\n",
      "876.0\n",
      "876.0\n",
      "881.0\n",
      "881.0\n",
      "881.0\n",
      "875.0\n",
      "875.0\n",
      "879.4\n",
      "879.4\n",
      "883.2\n",
      "890.6\n",
      "890.6\n",
      "890.6\n",
      "890.6\n",
      "893.4\n",
      "899.1999999999999\n",
      "905.1999999999999\n",
      "909.1999999999999\n",
      "913.5999999999999\n",
      "913.5999999999999\n",
      "915.3999999999999\n",
      "915.3999999999999\n",
      "921.9999999999999\n",
      "924.3999999999999\n",
      "930.8\n",
      "935.1999999999998\n",
      "940.1999999999998\n",
      "947.1999999999998\n",
      "947.1999999999998\n",
      "951.5999999999999\n",
      "957.3999999999999\n",
      "957.3999999999999\n",
      "964.5999999999998\n",
      "968.7999999999998\n",
      "968.7999999999998\n"
     ]
    }
   ],
   "source": [
    "for i in range(100):\n",
    "    plan = make_neighbor(plan)\n",
    "    # variety_score = compute_variety(plan)\n",
    "    # print(variety_score)\n",
    "    yummy_score = compute_yummy_score(plan,plant_info)\n",
    "    print(yummy_score)"
   ]
  },
  {
   "cell_type": "code",
   "execution_count": 55,
   "metadata": {},
   "outputs": [
    {
     "data": {
      "text/plain": [
       "1.0"
      ]
     },
     "execution_count": 55,
     "metadata": {},
     "output_type": "execute_result"
    }
   ],
   "source": [
    "def compute_yield(plan):\n",
    "    #Yield is the % of plants that are planted and survive. Not all plants will survive where they are plants. \n",
    "    #Too little/too much sun can kill certain plants\n",
    "    #Some plants don't do well depending on what was planted the year before\n",
    "    #Some plants don't go well next to each other\n",
    "    \n",
    "    plants_survived = plan.copy()\n",
    "    \n",
    "    plants_planted = plan.sum()\n",
    "    return plan.sum()/plants_planted\n",
    "\n",
    "compute_yield(plan)"
   ]
  },
  {
   "cell_type": "code",
   "execution_count": 56,
   "metadata": {},
   "outputs": [
    {
     "data": {
      "text/plain": [
       "{0: {'plant': 'Broccoli', 'sun': 'Full', 'avg_pref': 5.6},\n",
       " 1: {'plant': 'Asparagus', 'sun': 'Partial', 'avg_pref': 5.2},\n",
       " 2: {'plant': 'Blueberry bushes', 'sun': 'Partial', 'avg_pref': 6.0},\n",
       " 3: {'plant': 'Strawberries', 'sun': 'Full', 'avg_pref': 2.4},\n",
       " 4: {'plant': 'Eggplant', 'sun': 'Partial', 'avg_pref': 4.2},\n",
       " 5: {'plant': 'Bok choy', 'sun': 'Full', 'avg_pref': 3.8},\n",
       " 6: {'plant': 'Zucchini', 'sun': 'Partial', 'avg_pref': 4.0},\n",
       " 7: {'plant': 'Cucumbers', 'sun': 'Full', 'avg_pref': 6.4},\n",
       " 8: {'plant': 'Lettuce', 'sun': 'Partial', 'avg_pref': 4.8},\n",
       " 9: {'plant': 'Arugula', 'sun': 'Full', 'avg_pref': 5.0},\n",
       " 10: {'plant': 'Carrots', 'sun': 'Partial', 'avg_pref': 4.6},\n",
       " 11: {'plant': 'Potatoes', 'sun': 'Full', 'avg_pref': 4.4},\n",
       " 12: {'plant': 'Green beans', 'sun': 'Partial', 'avg_pref': 5.8},\n",
       " 13: {'plant': 'Brussel sprouts', 'sun': 'Partial', 'avg_pref': 8.2},\n",
       " 14: {'plant': 'Celery', 'sun': 'Partial', 'avg_pref': 8.4},\n",
       " 15: {'plant': 'Kale', 'sun': 'Full', 'avg_pref': 4.4},\n",
       " 16: {'plant': 'Leeks', 'sun': 'Full', 'avg_pref': 6.6},\n",
       " 17: {'plant': 'Onions', 'sun': 'Partial', 'avg_pref': 5.8},\n",
       " 18: {'plant': 'Bell peppers', 'sun': 'Full', 'avg_pref': 4.8},\n",
       " 19: {'plant': 'Banana peppers', 'sun': 'Partial', 'avg_pref': 7.0},\n",
       " 20: {'plant': 'Cayene peppers', 'sun': 'Partial', 'avg_pref': 7.8},\n",
       " 21: {'plant': 'Pumpkins', 'sun': 'Full', 'avg_pref': 7.2},\n",
       " 22: {'plant': 'Butternut squash', 'sun': 'Partial', 'avg_pref': 5.8},\n",
       " 23: {'plant': 'Sweet potatoes', 'sun': 'Partial', 'avg_pref': 5.4},\n",
       " 24: {'plant': 'Basil', 'sun': 'Full', 'avg_pref': 2.8},\n",
       " 25: {'plant': 'Dill', 'sun': 'Full', 'avg_pref': 6.0},\n",
       " 26: {'plant': 'Lavender', 'sun': 'Full', 'avg_pref': 5.4},\n",
       " 27: {'plant': 'Oregano', 'sun': 'Partial', 'avg_pref': 5.0},\n",
       " 28: {'plant': 'Parsley', 'sun': 'Full', 'avg_pref': 7.4},\n",
       " 29: {'plant': 'Cilantro', 'sun': 'Full', 'avg_pref': 4.4},\n",
       " 30: {'plant': 'Rosemary', 'sun': 'Full', 'avg_pref': 7.0},\n",
       " 31: {'plant': 'Thyme', 'sun': 'Partial', 'avg_pref': 4.0},\n",
       " 32: {'plant': 'Thai basil', 'sun': 'Full', 'avg_pref': 6.0},\n",
       " 33: {'plant': 'Chives', 'sun': 'Full', 'avg_pref': 1.8},\n",
       " 34: {'plant': 'Rasberries', 'sun': 'Full', 'avg_pref': 7.4},\n",
       " 35: {'plant': 'Watermelon', 'sun': 'Full', 'avg_pref': 4.8}}"
      ]
     },
     "execution_count": 56,
     "metadata": {},
     "output_type": "execute_result"
    }
   ],
   "source": [
    "plant_info"
   ]
  },
  {
   "cell_type": "code",
   "execution_count": 62,
   "metadata": {},
   "outputs": [],
   "source": []
  },
  {
   "cell_type": "code",
   "execution_count": 74,
   "metadata": {},
   "outputs": [],
   "source": [
    "#TODO: Refactor to remove the loops\n",
    "def compute_yummy_score(plan,plant_info):\n",
    "    yums = 0\n",
    "    plan_by_plant = plan.sum(axis=bed_axis)\n",
    "    for p in plant_info:\n",
    "        yums += plant_info[p]['avg_pref'] * plan_by_plant[p]\n",
    "    return yums"
   ]
  },
  {
   "cell_type": "code",
   "execution_count": 71,
   "metadata": {},
   "outputs": [
    {
     "data": {
      "text/plain": [
       "243.40000000000006"
      ]
     },
     "execution_count": 71,
     "metadata": {},
     "output_type": "execute_result"
    }
   ],
   "source": [
    "compute_yummy_score(plan,plant_info)"
   ]
  },
  {
   "cell_type": "code",
   "execution_count": null,
   "metadata": {},
   "outputs": [],
   "source": [
    "def compute_variety(plan):\n",
    "    #Returns the number of unique plants that are actually recommended to be planted\n",
    "    #Counts the number of plants that are being planted across all beds.\n",
    "    #Then counts the number of plants with non-zero planting plan\n",
    "    return (plan.sum(axis=bed_axis) > 0).sum()\n",
    "\n",
    "compute_variety(plan)"
   ]
  },
  {
   "cell_type": "code",
   "execution_count": null,
   "metadata": {},
   "outputs": [],
   "source": [
    "#here we can also apply things like sun requirements, yoy planting constraints, same bed planting constraints\n",
    "    "
   ]
  }
 ],
 "metadata": {
  "interpreter": {
   "hash": "4b7cec192fff35eb9040503ce2e7b3079b3ef69864e682c4ab7f0f197960dcef"
  },
  "kernelspec": {
   "display_name": "Python 3.7.1",
   "language": "python",
   "name": "python3"
  },
  "language_info": {
   "codemirror_mode": {
    "name": "ipython",
    "version": 3
   },
   "file_extension": ".py",
   "mimetype": "text/x-python",
   "name": "python",
   "nbconvert_exporter": "python",
   "pygments_lexer": "ipython3",
   "version": "3.8.5"
  },
  "orig_nbformat": 4
 },
 "nbformat": 4,
 "nbformat_minor": 2
}
