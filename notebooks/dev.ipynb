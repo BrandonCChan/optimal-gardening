{
 "cells": [
  {
   "cell_type": "code",
   "execution_count": 57,
   "metadata": {},
   "outputs": [],
   "source": [
    "import numpy as np\n",
    "import pandas as pd"
   ]
  },
  {
   "cell_type": "markdown",
   "metadata": {},
   "source": [
    "#### TODO:\n",
    "- assignment of sun to beds\n",
    "- lookup sun requirements for plants\n",
    "- weighting of preferences"
   ]
  },
  {
   "cell_type": "code",
   "execution_count": 58,
   "metadata": {},
   "outputs": [],
   "source": [
    "num_beds = 40\n",
    "beds = np.arange(1,num_beds+1)\n",
    "bed_index = np.arange(0,num_beds)"
   ]
  },
  {
   "cell_type": "code",
   "execution_count": 59,
   "metadata": {},
   "outputs": [],
   "source": [
    "plant_info = pd.read_csv('../data/plant_data.csv')"
   ]
  },
  {
   "cell_type": "code",
   "execution_count": 60,
   "metadata": {},
   "outputs": [],
   "source": [
    "plant_info.index.name = 'plant_index'\n",
    "plants = plant_info.plant.to_numpy()\n",
    "plant_index = plant_info.index.to_numpy()\n",
    "num_plants = len(plants)"
   ]
  },
  {
   "cell_type": "code",
   "execution_count": 61,
   "metadata": {},
   "outputs": [],
   "source": [
    "#random assignement of sun requirements\n",
    "plant_info.sun = plant_info.sun.apply(lambda x: np.random.choice(['Full','Partial']))"
   ]
  },
  {
   "cell_type": "code",
   "execution_count": 62,
   "metadata": {},
   "outputs": [],
   "source": [
    "#average preference\n",
    "fam = ['evan','gina','liesse','lizzie','jack']\n",
    "plant_info['avg_pref'] = plant_info[fam].mean(axis=1)\n",
    "plant_info.drop(fam,axis=1,inplace=True)"
   ]
  },
  {
   "cell_type": "code",
   "execution_count": 63,
   "metadata": {},
   "outputs": [
    {
     "data": {
      "text/plain": [
       "14"
      ]
     },
     "execution_count": 63,
     "metadata": {},
     "output_type": "execute_result"
    }
   ],
   "source": [
    "plant_info.sort_values('avg_pref',ascending=False).iloc[0].name"
   ]
  },
  {
   "cell_type": "code",
   "execution_count": 64,
   "metadata": {},
   "outputs": [],
   "source": [
    "#most preferred \n",
    "max_pref = plant_info.sort_values('avg_pref',ascending=False).iloc[0].name"
   ]
  },
  {
   "cell_type": "code",
   "execution_count": 65,
   "metadata": {},
   "outputs": [],
   "source": [
    "#convert to dict\n",
    "plant_info = plant_info.to_dict(orient='index')"
   ]
  },
  {
   "cell_type": "code",
   "execution_count": 75,
   "metadata": {},
   "outputs": [],
   "source": [
    "#initialize plan. no plants in any bed\n",
    "plan = np.ones(shape=(num_beds,num_plants))\n",
    "\n",
    "#for keeping track of what axis is which\n",
    "bed_axis = 0\n",
    "plant_axis = 1"
   ]
  },
  {
   "cell_type": "code",
   "execution_count": 67,
   "metadata": {},
   "outputs": [],
   "source": [
    "#generate initial solution using a greedy heuristic. \n",
    "#take most preferred fruit or veggie and plant everywhere\n",
    "\n",
    "def initial_solution(plan,max_pref):\n",
    "\n",
    "    initial_solution = plan.copy()\n",
    "    return initial_solution\n",
    "    "
   ]
  },
  {
   "cell_type": "code",
   "execution_count": 51,
   "metadata": {},
   "outputs": [
    {
     "ename": "SyntaxError",
     "evalue": "unexpected EOF while parsing (<ipython-input-51-33aeeed761c7>, line 4)",
     "output_type": "error",
     "traceback": [
      "\u001b[1;36m  File \u001b[1;32m\"<ipython-input-51-33aeeed761c7>\"\u001b[1;36m, line \u001b[1;32m4\u001b[0m\n\u001b[1;33m    #\u001b[0m\n\u001b[1;37m     ^\u001b[0m\n\u001b[1;31mSyntaxError\u001b[0m\u001b[1;31m:\u001b[0m unexpected EOF while parsing\n"
     ]
    }
   ],
   "source": [
    "def make_neighbor(plan):\n",
    "    #pick a random bed\n",
    "    #pick a random plant\n",
    "    #"
   ]
  },
  {
   "cell_type": "code",
   "execution_count": 68,
   "metadata": {},
   "outputs": [
    {
     "data": {
      "text/plain": [
       "1440.0"
      ]
     },
     "execution_count": 68,
     "metadata": {},
     "output_type": "execute_result"
    }
   ],
   "source": [
    "def maximize_yield(plan):\n",
    "    #in its simplest form, yield is the sum of the plan\n",
    "    #here we can also apply things like sun requirements, yoy planting constraints, same bed planting constraints\n",
    "\n",
    "    return plan.sum()\n",
    "\n",
    "maximize_yield(plan)"
   ]
  },
  {
   "cell_type": "code",
   "execution_count": 80,
   "metadata": {},
   "outputs": [
    {
     "data": {
      "text/plain": [
       "36"
      ]
     },
     "execution_count": 80,
     "metadata": {},
     "output_type": "execute_result"
    }
   ],
   "source": [
    "def maximize_variety(plan):\n",
    "    #Returns the number of unique plants that are actually recommended to be planted\n",
    "    #Counts the number of plants that are being planted across all beds.\n",
    "    #Then counts the number of plants with non-zero planting plan\n",
    "    return (plan.sum(axis=bed_axis) > 0).sum()\n",
    "\n",
    "maximize_variety(plan)"
   ]
  },
  {
   "cell_type": "code",
   "execution_count": null,
   "metadata": {},
   "outputs": [],
   "source": []
  }
 ],
 "metadata": {
  "interpreter": {
   "hash": "4b7cec192fff35eb9040503ce2e7b3079b3ef69864e682c4ab7f0f197960dcef"
  },
  "kernelspec": {
   "display_name": "Python 3.7.1",
   "language": "python",
   "name": "python3"
  },
  "language_info": {
   "codemirror_mode": {
    "name": "ipython",
    "version": 3
   },
   "file_extension": ".py",
   "mimetype": "text/x-python",
   "name": "python",
   "nbconvert_exporter": "python",
   "pygments_lexer": "ipython3",
   "version": "3.8.5"
  },
  "orig_nbformat": 4
 },
 "nbformat": 4,
 "nbformat_minor": 2
}
